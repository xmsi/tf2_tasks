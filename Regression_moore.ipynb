{
  "nbformat": 4,
  "nbformat_minor": 0,
  "metadata": {
    "colab": {
      "name": "Regression_moore.ipynb",
      "provenance": [],
      "collapsed_sections": [],
      "mount_file_id": "1LUeTJB3Ab7uCypO4w5okN-uFTlSWt2D3",
      "authorship_tag": "ABX9TyO76CrrkMcEomKKKZW6CCNw",
      "include_colab_link": true
    },
    "kernelspec": {
      "name": "python3",
      "display_name": "Python 3"
    },
    "language_info": {
      "name": "python"
    }
  },
  "cells": [
    {
      "cell_type": "markdown",
      "metadata": {
        "id": "view-in-github",
        "colab_type": "text"
      },
      "source": [
        "<a href=\"https://colab.research.google.com/github/xmsi/tf2_tasks/blob/main/Regression_moore.ipynb\" target=\"_parent\"><img src=\"https://colab.research.google.com/assets/colab-badge.svg\" alt=\"Open In Colab\"/></a>"
      ]
    },
    {
      "cell_type": "code",
      "execution_count": 26,
      "metadata": {
        "id": "zg9WCerv6pJQ"
      },
      "outputs": [],
      "source": [
        "# Other imports\n",
        "import pandas as pd\n",
        "import numpy as np\n",
        "import matplotlib.pyplot as plt\n",
        "import tensorflow as tf"
      ]
    },
    {
      "cell_type": "code",
      "source": [
        "!wget https://raw.githubusercontent.com/lazyprogrammer/machine_learning_examples/master/tf2.0/moore.csv"
      ],
      "metadata": {
        "colab": {
          "base_uri": "https://localhost:8080/"
        },
        "id": "LGI2SRB08JvG",
        "outputId": "a8084306-be42-4a85-fd06-9b105d605e21"
      },
      "execution_count": 3,
      "outputs": [
        {
          "output_type": "stream",
          "name": "stdout",
          "text": [
            "--2022-07-04 11:20:28--  https://raw.githubusercontent.com/lazyprogrammer/machine_learning_examples/master/tf2.0/moore.csv\n",
            "Resolving raw.githubusercontent.com (raw.githubusercontent.com)... 185.199.108.133, 185.199.111.133, 185.199.110.133, ...\n",
            "Connecting to raw.githubusercontent.com (raw.githubusercontent.com)|185.199.108.133|:443... connected.\n",
            "HTTP request sent, awaiting response... 200 OK\n",
            "Length: 2302 (2.2K) [text/plain]\n",
            "Saving to: ‘moore.csv’\n",
            "\n",
            "\rmoore.csv             0%[                    ]       0  --.-KB/s               \rmoore.csv           100%[===================>]   2.25K  --.-KB/s    in 0.001s  \n",
            "\n",
            "2022-07-04 11:20:29 (2.66 MB/s) - ‘moore.csv’ saved [2302/2302]\n",
            "\n"
          ]
        }
      ]
    },
    {
      "cell_type": "code",
      "source": [
        "data = pd.read_csv('moore.csv', header=None).values\n",
        "X = data[:, 0].reshape(-1, 1)\n",
        "Y = data[:, 1]"
      ],
      "metadata": {
        "id": "YiOCz2B18MR0"
      },
      "execution_count": 18,
      "outputs": []
    },
    {
      "cell_type": "code",
      "source": [
        "plt.scatter(X, Y)"
      ],
      "metadata": {
        "colab": {
          "base_uri": "https://localhost:8080/",
          "height": 293
        },
        "id": "hK_RZLjR8aEm",
        "outputId": "1d961402-87d1-4695-f719-b55a2e40b006"
      },
      "execution_count": 19,
      "outputs": [
        {
          "output_type": "execute_result",
          "data": {
            "text/plain": [
              "<matplotlib.collections.PathCollection at 0x7fe696825290>"
            ]
          },
          "metadata": {},
          "execution_count": 19
        },
        {
          "output_type": "display_data",
          "data": {
            "text/plain": [
              "<Figure size 432x288 with 1 Axes>"
            ],
            "image/png": "[encoded data removed]"
          },
          "metadata": {
            "needs_background": "light"
          }
        }
      ]
    },
    {
      "cell_type": "code",
      "source": [
        "Y = np.log(Y)\n",
        "plt.scatter(X, Y)"
      ],
      "metadata": {
        "colab": {
          "base_uri": "https://localhost:8080/",
          "height": 282
        },
        "id": "CBsKkAkN94kx",
        "outputId": "488fb162-1968-4b9e-8c13-467e4b838343"
      },
      "execution_count": 20,
      "outputs": [
        {
          "output_type": "execute_result",
          "data": {
            "text/plain": [
              "<matplotlib.collections.PathCollection at 0x7fe695f65210>"
            ]
          },
          "metadata": {},
          "execution_count": 20
        },
        {
          "output_type": "display_data",
          "data": {
            "text/plain": [
              "<Figure size 432x288 with 1 Axes>"
            ],
            "image/png": "[encoded data removed]"
          },
          "metadata": {
            "needs_background": "light"
          }
        }
      ]
    },
    {
      "cell_type": "code",
      "source": [
        "X = X - X.mean()"
      ],
      "metadata": {
        "id": "snsByIDS_lvo"
      },
      "execution_count": 24,
      "outputs": []
    },
    {
      "cell_type": "code",
      "source": [
        "model = tf.keras.models.Sequential([\n",
        "                                    tf.keras.layers.Input(shape=(1,)),\n",
        "                                    tf.keras.layers.Dense(1)\n",
        "])\n",
        "\n",
        "model.compile(optimizer=tf.keras.optimizers.SGD(0.001, 0.9), loss='mse')\n",
        "\n",
        "def schedule(epoch, lr):\n",
        "  if epoch >= 50:\n",
        "    return 0.0001\n",
        "  return 0.001\n",
        "\n",
        "scheduler = tf.keras.callbacks.LearningRateScheduler(schedule)\n",
        "\n",
        "r = model.fit(X, Y, epochs=200, callbacks=[scheduler])"
      ],
      "metadata": {
        "colab": {
          "base_uri": "https://localhost:8080/"
        },
        "id": "7oX-hvPJAMUt",
        "outputId": "579df113-b924-4eb0-88fd-953418a69b92"
      },
      "execution_count": 37,
      "outputs": [
        {
          "output_type": "stream",
          "name": "stdout",
          "text": [
            "Epoch 1/200\n",
            "6/6 [==============================] - 1s 6ms/step - loss: 425.6592 - lr: 0.0010\n",
            "Epoch 2/200\n",
            "6/6 [==============================] - 0s 6ms/step - loss: 346.6964 - lr: 0.0010\n",
            "Epoch 3/200\n",
            "6/6 [==============================] - 0s 5ms/step - loss: 275.3270 - lr: 0.0010\n",
            "Epoch 4/200\n",
            "6/6 [==============================] - 0s 5ms/step - loss: 204.6374 - lr: 0.0010\n",
            "Epoch 5/200\n",
            "6/6 [==============================] - 0s 8ms/step - loss: 150.1662 - lr: 0.0010\n",
            "Epoch 6/200\n",
            "6/6 [==============================] - 0s 9ms/step - loss: 132.5180 - lr: 0.0010\n",
            "Epoch 7/200\n",
            "6/6 [==============================] - 0s 8ms/step - loss: 122.0427 - lr: 0.0010\n",
            "Epoch 8/200\n",
            "6/6 [==============================] - 0s 6ms/step - loss: 110.1769 - lr: 0.0010\n",
            "Epoch 9/200\n",
            "6/6 [==============================] - 0s 7ms/step - loss: 96.3398 - lr: 0.0010\n",
            "Epoch 10/200\n",
            "6/6 [==============================] - 0s 7ms/step - loss: 58.9376 - lr: 0.0010\n",
            "Epoch 11/200\n",
            "6/6 [==============================] - 0s 5ms/step - loss: 35.4994 - lr: 0.0010\n",
            "Epoch 12/200\n",
            "6/6 [==============================] - 0s 5ms/step - loss: 24.6350 - lr: 0.0010\n",
            "Epoch 13/200\n",
            "6/6 [==============================] - 0s 20ms/step - loss: 17.3951 - lr: 0.0010\n",
            "Epoch 14/200\n",
            "6/6 [==============================] - 0s 8ms/step - loss: 10.9577 - lr: 0.0010\n",
            "Epoch 15/200\n",
            "6/6 [==============================] - 0s 6ms/step - loss: 8.6047 - lr: 0.0010\n",
            "Epoch 16/200\n",
            "6/6 [==============================] - 0s 16ms/step - loss: 5.7370 - lr: 0.0010\n",
            "Epoch 17/200\n",
            "6/6 [==============================] - 0s 9ms/step - loss: 4.8991 - lr: 0.0010\n",
            "Epoch 18/200\n",
            "6/6 [==============================] - 0s 7ms/step - loss: 5.8918 - lr: 0.0010\n",
            "Epoch 19/200\n",
            "6/6 [==============================] - 0s 8ms/step - loss: 3.3044 - lr: 0.0010\n",
            "Epoch 20/200\n",
            "6/6 [==============================] - 0s 6ms/step - loss: 2.5299 - lr: 0.0010\n",
            "Epoch 21/200\n",
            "6/6 [==============================] - 0s 10ms/step - loss: 1.9629 - lr: 0.0010\n",
            "Epoch 22/200\n",
            "6/6 [==============================] - 0s 6ms/step - loss: 1.8767 - lr: 0.0010\n",
            "Epoch 23/200\n",
            "6/6 [==============================] - 0s 6ms/step - loss: 1.4204 - lr: 0.0010\n",
            "Epoch 24/200\n",
            "6/6 [==============================] - 0s 7ms/step - loss: 1.2382 - lr: 0.0010\n",
            "Epoch 25/200\n",
            "6/6 [==============================] - 0s 7ms/step - loss: 1.1707 - lr: 0.0010\n",
            "Epoch 26/200\n",
            "6/6 [==============================] - 0s 7ms/step - loss: 1.1009 - lr: 0.0010\n",
            "Epoch 27/200\n",
            "6/6 [==============================] - 0s 7ms/step - loss: 1.0541 - lr: 0.0010\n",
            "Epoch 28/200\n",
            "6/6 [==============================] - 0s 7ms/step - loss: 0.9673 - lr: 0.0010\n",
            "Epoch 29/200\n",
            "6/6 [==============================] - 0s 6ms/step - loss: 1.4616 - lr: 0.0010\n",
            "Epoch 30/200\n",
            "6/6 [==============================] - 0s 6ms/step - loss: 1.3265 - lr: 0.0010\n",
            "Epoch 31/200\n",
            "6/6 [==============================] - 0s 4ms/step - loss: 1.1838 - lr: 0.0010\n",
            "Epoch 32/200\n",
            "6/6 [==============================] - 0s 4ms/step - loss: 1.3303 - lr: 0.0010\n",
            "Epoch 33/200\n",
            "6/6 [==============================] - 0s 6ms/step - loss: 1.0355 - lr: 0.0010\n",
            "Epoch 34/200\n",
            "6/6 [==============================] - 0s 6ms/step - loss: 0.9116 - lr: 0.0010\n",
            "Epoch 35/200\n",
            "6/6 [==============================] - 0s 9ms/step - loss: 1.1297 - lr: 0.0010\n",
            "Epoch 36/200\n",
            "6/6 [==============================] - 0s 8ms/step - loss: 1.3294 - lr: 0.0010\n",
            "Epoch 37/200\n",
            "6/6 [==============================] - 0s 5ms/step - loss: 1.1312 - lr: 0.0010\n",
            "Epoch 38/200\n",
            "6/6 [==============================] - 0s 6ms/step - loss: 1.1137 - lr: 0.0010\n",
            "Epoch 39/200\n",
            "6/6 [==============================] - 0s 8ms/step - loss: 1.1197 - lr: 0.0010\n",
            "Epoch 40/200\n",
            "6/6 [==============================] - 0s 8ms/step - loss: 1.1291 - lr: 0.0010\n",
            "Epoch 41/200\n",
            "6/6 [==============================] - 0s 9ms/step - loss: 1.0662 - lr: 0.0010\n",
            "Epoch 42/200\n",
            "6/6 [==============================] - 0s 5ms/step - loss: 1.2784 - lr: 0.0010\n",
            "Epoch 43/200\n",
            "6/6 [==============================] - 0s 4ms/step - loss: 1.5403 - lr: 0.0010\n",
            "Epoch 44/200\n",
            "6/6 [==============================] - 0s 9ms/step - loss: 1.3085 - lr: 0.0010\n",
            "Epoch 45/200\n",
            "6/6 [==============================] - 0s 7ms/step - loss: 1.5158 - lr: 0.0010\n",
            "Epoch 46/200\n",
            "6/6 [==============================] - 0s 9ms/step - loss: 1.1929 - lr: 0.0010\n",
            "Epoch 47/200\n",
            "6/6 [==============================] - 0s 9ms/step - loss: 0.9588 - lr: 0.0010\n",
            "Epoch 48/200\n",
            "6/6 [==============================] - 0s 4ms/step - loss: 1.1930 - lr: 0.0010\n",
            "Epoch 49/200\n",
            "6/6 [==============================] - 0s 4ms/step - loss: 0.9435 - lr: 0.0010\n",
            "Epoch 50/200\n",
            "6/6 [==============================] - 0s 16ms/step - loss: 1.0388 - lr: 0.0010\n",
            "Epoch 51/200\n",
            "6/6 [==============================] - 0s 14ms/step - loss: 1.0790 - lr: 1.0000e-04\n",
            "Epoch 52/200\n",
            "6/6 [==============================] - 0s 5ms/step - loss: 0.9252 - lr: 1.0000e-04\n",
            "Epoch 53/200\n",
            "6/6 [==============================] - 0s 4ms/step - loss: 0.8758 - lr: 1.0000e-04\n",
            "Epoch 54/200\n",
            "6/6 [==============================] - 0s 9ms/step - loss: 0.9117 - lr: 1.0000e-04\n",
            "Epoch 55/200\n",
            "6/6 [==============================] - 0s 7ms/step - loss: 0.9168 - lr: 1.0000e-04\n",
            "Epoch 56/200\n",
            "6/6 [==============================] - 0s 8ms/step - loss: 0.8822 - lr: 1.0000e-04\n",
            "Epoch 57/200\n",
            "6/6 [==============================] - 0s 8ms/step - loss: 0.8726 - lr: 1.0000e-04\n",
            "Epoch 58/200\n",
            "6/6 [==============================] - 0s 7ms/step - loss: 0.8889 - lr: 1.0000e-04\n",
            "Epoch 59/200\n",
            "6/6 [==============================] - 0s 9ms/step - loss: 0.8796 - lr: 1.0000e-04\n",
            "Epoch 60/200\n",
            "6/6 [==============================] - 0s 9ms/step - loss: 0.8745 - lr: 1.0000e-04\n",
            "Epoch 61/200\n",
            "6/6 [==============================] - 0s 9ms/step - loss: 0.8889 - lr: 1.0000e-04\n",
            "Epoch 62/200\n",
            "6/6 [==============================] - 0s 8ms/step - loss: 0.9006 - lr: 1.0000e-04\n",
            "Epoch 63/200\n",
            "6/6 [==============================] - 0s 13ms/step - loss: 0.8773 - lr: 1.0000e-04\n",
            "Epoch 64/200\n",
            "6/6 [==============================] - 0s 5ms/step - loss: 0.8734 - lr: 1.0000e-04\n",
            "Epoch 65/200\n",
            "6/6 [==============================] - 0s 5ms/step - loss: 0.8716 - lr: 1.0000e-04\n",
            "Epoch 66/200\n",
            "6/6 [==============================] - 0s 5ms/step - loss: 0.8730 - lr: 1.0000e-04\n",
            "Epoch 67/200\n",
            "6/6 [==============================] - 0s 7ms/step - loss: 0.8799 - lr: 1.0000e-04\n",
            "Epoch 68/200\n",
            "6/6 [==============================] - 0s 5ms/step - loss: 0.8922 - lr: 1.0000e-04\n",
            "Epoch 69/200\n",
            "6/6 [==============================] - 0s 7ms/step - loss: 0.8769 - lr: 1.0000e-04\n",
            "Epoch 70/200\n",
            "6/6 [==============================] - 0s 4ms/step - loss: 0.8722 - lr: 1.0000e-04\n",
            "Epoch 71/200\n",
            "6/6 [==============================] - 0s 4ms/step - loss: 0.8746 - lr: 1.0000e-04\n",
            "Epoch 72/200\n",
            "6/6 [==============================] - 0s 5ms/step - loss: 0.8910 - lr: 1.0000e-04\n",
            "Epoch 73/200\n",
            "6/6 [==============================] - 0s 7ms/step - loss: 0.8745 - lr: 1.0000e-04\n",
            "Epoch 74/200\n",
            "6/6 [==============================] - 0s 6ms/step - loss: 0.8708 - lr: 1.0000e-04\n",
            "Epoch 75/200\n",
            "6/6 [==============================] - 0s 13ms/step - loss: 0.8715 - lr: 1.0000e-04\n",
            "Epoch 76/200\n",
            "6/6 [==============================] - 0s 8ms/step - loss: 0.8714 - lr: 1.0000e-04\n",
            "Epoch 77/200\n",
            "6/6 [==============================] - 0s 11ms/step - loss: 0.8724 - lr: 1.0000e-04\n",
            "Epoch 78/200\n",
            "6/6 [==============================] - 0s 6ms/step - loss: 0.8713 - lr: 1.0000e-04\n",
            "Epoch 79/200\n",
            "6/6 [==============================] - 0s 8ms/step - loss: 0.8725 - lr: 1.0000e-04\n",
            "Epoch 80/200\n",
            "6/6 [==============================] - 0s 8ms/step - loss: 0.8709 - lr: 1.0000e-04\n",
            "Epoch 81/200\n",
            "6/6 [==============================] - 0s 13ms/step - loss: 0.8712 - lr: 1.0000e-04\n",
            "Epoch 82/200\n",
            "6/6 [==============================] - 0s 9ms/step - loss: 0.8792 - lr: 1.0000e-04\n",
            "Epoch 83/200\n",
            "6/6 [==============================] - 0s 5ms/step - loss: 0.8788 - lr: 1.0000e-04\n",
            "Epoch 84/200\n",
            "6/6 [==============================] - 0s 7ms/step - loss: 0.8774 - lr: 1.0000e-04\n",
            "Epoch 85/200\n",
            "6/6 [==============================] - 0s 8ms/step - loss: 0.8758 - lr: 1.0000e-04\n",
            "Epoch 86/200\n",
            "6/6 [==============================] - 0s 5ms/step - loss: 0.8810 - lr: 1.0000e-04\n",
            "Epoch 87/200\n",
            "6/6 [==============================] - 0s 7ms/step - loss: 0.8747 - lr: 1.0000e-04\n",
            "Epoch 88/200\n",
            "6/6 [==============================] - 0s 6ms/step - loss: 0.8700 - lr: 1.0000e-04\n",
            "Epoch 89/200\n",
            "6/6 [==============================] - 0s 6ms/step - loss: 0.8709 - lr: 1.0000e-04\n",
            "Epoch 90/200\n",
            "6/6 [==============================] - 0s 6ms/step - loss: 0.8726 - lr: 1.0000e-04\n",
            "Epoch 91/200\n",
            "6/6 [==============================] - 0s 4ms/step - loss: 0.8732 - lr: 1.0000e-04\n",
            "Epoch 92/200\n",
            "6/6 [==============================] - 0s 4ms/step - loss: 0.8705 - lr: 1.0000e-04\n",
            "Epoch 93/200\n",
            "6/6 [==============================] - 0s 8ms/step - loss: 0.8721 - lr: 1.0000e-04\n",
            "Epoch 94/200\n",
            "6/6 [==============================] - 0s 5ms/step - loss: 0.9226 - lr: 1.0000e-04\n",
            "Epoch 95/200\n",
            "6/6 [==============================] - 0s 5ms/step - loss: 0.9131 - lr: 1.0000e-04\n",
            "Epoch 96/200\n",
            "6/6 [==============================] - 0s 3ms/step - loss: 0.8798 - lr: 1.0000e-04\n",
            "Epoch 97/200\n",
            "6/6 [==============================] - 0s 4ms/step - loss: 0.8738 - lr: 1.0000e-04\n",
            "Epoch 98/200\n",
            "6/6 [==============================] - 0s 4ms/step - loss: 0.8714 - lr: 1.0000e-04\n",
            "Epoch 99/200\n",
            "6/6 [==============================] - 0s 4ms/step - loss: 0.8712 - lr: 1.0000e-04\n",
            "Epoch 100/200\n",
            "6/6 [==============================] - 0s 4ms/step - loss: 0.8707 - lr: 1.0000e-04\n",
            "Epoch 101/200\n",
            "6/6 [==============================] - 0s 13ms/step - loss: 0.8732 - lr: 1.0000e-04\n",
            "Epoch 102/200\n",
            "6/6 [==============================] - 0s 15ms/step - loss: 0.8809 - lr: 1.0000e-04\n",
            "Epoch 103/200\n",
            "6/6 [==============================] - 0s 7ms/step - loss: 0.8847 - lr: 1.0000e-04\n",
            "Epoch 104/200\n",
            "6/6 [==============================] - 0s 7ms/step - loss: 0.8860 - lr: 1.0000e-04\n",
            "Epoch 105/200\n",
            "6/6 [==============================] - 0s 10ms/step - loss: 0.8882 - lr: 1.0000e-04\n",
            "Epoch 106/200\n",
            "6/6 [==============================] - 0s 9ms/step - loss: 0.9266 - lr: 1.0000e-04\n",
            "Epoch 107/200\n",
            "6/6 [==============================] - 0s 5ms/step - loss: 0.8786 - lr: 1.0000e-04\n",
            "Epoch 108/200\n",
            "6/6 [==============================] - 0s 8ms/step - loss: 0.8892 - lr: 1.0000e-04\n",
            "Epoch 109/200\n",
            "6/6 [==============================] - 0s 6ms/step - loss: 0.8729 - lr: 1.0000e-04\n",
            "Epoch 110/200\n",
            "6/6 [==============================] - 0s 7ms/step - loss: 0.8706 - lr: 1.0000e-04\n",
            "Epoch 111/200\n",
            "6/6 [==============================] - 0s 5ms/step - loss: 0.8750 - lr: 1.0000e-04\n",
            "Epoch 112/200\n",
            "6/6 [==============================] - 0s 6ms/step - loss: 0.8728 - lr: 1.0000e-04\n",
            "Epoch 113/200\n",
            "6/6 [==============================] - 0s 4ms/step - loss: 0.8789 - lr: 1.0000e-04\n",
            "Epoch 114/200\n",
            "6/6 [==============================] - 0s 4ms/step - loss: 0.9020 - lr: 1.0000e-04\n",
            "Epoch 115/200\n",
            "6/6 [==============================] - 0s 3ms/step - loss: 0.8858 - lr: 1.0000e-04\n",
            "Epoch 116/200\n",
            "6/6 [==============================] - 0s 3ms/step - loss: 0.8675 - lr: 1.0000e-04\n",
            "Epoch 117/200\n",
            "6/6 [==============================] - 0s 5ms/step - loss: 0.8832 - lr: 1.0000e-04\n",
            "Epoch 118/200\n",
            "6/6 [==============================] - 0s 3ms/step - loss: 0.8835 - lr: 1.0000e-04\n",
            "Epoch 119/200\n",
            "6/6 [==============================] - 0s 4ms/step - loss: 0.8705 - lr: 1.0000e-04\n",
            "Epoch 120/200\n",
            "6/6 [==============================] - 0s 7ms/step - loss: 0.8735 - lr: 1.0000e-04\n",
            "Epoch 121/200\n",
            "6/6 [==============================] - 0s 6ms/step - loss: 0.8745 - lr: 1.0000e-04\n",
            "Epoch 122/200\n",
            "6/6 [==============================] - 0s 4ms/step - loss: 0.8734 - lr: 1.0000e-04\n",
            "Epoch 123/200\n",
            "6/6 [==============================] - 0s 4ms/step - loss: 0.8835 - lr: 1.0000e-04\n",
            "Epoch 124/200\n",
            "6/6 [==============================] - 0s 3ms/step - loss: 0.8804 - lr: 1.0000e-04\n",
            "Epoch 125/200\n",
            "6/6 [==============================] - 0s 6ms/step - loss: 0.8735 - lr: 1.0000e-04\n",
            "Epoch 126/200\n",
            "6/6 [==============================] - 0s 4ms/step - loss: 0.8722 - lr: 1.0000e-04\n",
            "Epoch 127/200\n",
            "6/6 [==============================] - 0s 5ms/step - loss: 0.8717 - lr: 1.0000e-04\n",
            "Epoch 128/200\n",
            "6/6 [==============================] - 0s 4ms/step - loss: 0.8726 - lr: 1.0000e-04\n",
            "Epoch 129/200\n",
            "6/6 [==============================] - 0s 6ms/step - loss: 0.8745 - lr: 1.0000e-04\n",
            "Epoch 130/200\n",
            "6/6 [==============================] - 0s 4ms/step - loss: 0.8684 - lr: 1.0000e-04\n",
            "Epoch 131/200\n",
            "6/6 [==============================] - 0s 4ms/step - loss: 0.8750 - lr: 1.0000e-04\n",
            "Epoch 132/200\n",
            "6/6 [==============================] - 0s 6ms/step - loss: 0.8778 - lr: 1.0000e-04\n",
            "Epoch 133/200\n",
            "6/6 [==============================] - 0s 4ms/step - loss: 0.8738 - lr: 1.0000e-04\n",
            "Epoch 134/200\n",
            "6/6 [==============================] - 0s 6ms/step - loss: 0.9099 - lr: 1.0000e-04\n",
            "Epoch 135/200\n",
            "6/6 [==============================] - 0s 4ms/step - loss: 0.9192 - lr: 1.0000e-04\n",
            "Epoch 136/200\n",
            "6/6 [==============================] - 0s 4ms/step - loss: 0.8837 - lr: 1.0000e-04\n",
            "Epoch 137/200\n",
            "6/6 [==============================] - 0s 4ms/step - loss: 0.8937 - lr: 1.0000e-04\n",
            "Epoch 138/200\n",
            "6/6 [==============================] - 0s 6ms/step - loss: 0.8728 - lr: 1.0000e-04\n",
            "Epoch 139/200\n",
            "6/6 [==============================] - 0s 4ms/step - loss: 0.8813 - lr: 1.0000e-04\n",
            "Epoch 140/200\n",
            "6/6 [==============================] - 0s 4ms/step - loss: 0.8752 - lr: 1.0000e-04\n",
            "Epoch 141/200\n",
            "6/6 [==============================] - 0s 4ms/step - loss: 0.8780 - lr: 1.0000e-04\n",
            "Epoch 142/200\n",
            "6/6 [==============================] - 0s 4ms/step - loss: 0.8916 - lr: 1.0000e-04\n",
            "Epoch 143/200\n",
            "6/6 [==============================] - 0s 4ms/step - loss: 0.8776 - lr: 1.0000e-04\n",
            "Epoch 144/200\n",
            "6/6 [==============================] - 0s 6ms/step - loss: 0.8770 - lr: 1.0000e-04\n",
            "Epoch 145/200\n",
            "6/6 [==============================] - 0s 7ms/step - loss: 0.8704 - lr: 1.0000e-04\n",
            "Epoch 146/200\n",
            "6/6 [==============================] - 0s 5ms/step - loss: 0.8789 - lr: 1.0000e-04\n",
            "Epoch 147/200\n",
            "6/6 [==============================] - 0s 7ms/step - loss: 0.8855 - lr: 1.0000e-04\n",
            "Epoch 148/200\n",
            "6/6 [==============================] - 0s 15ms/step - loss: 0.8716 - lr: 1.0000e-04\n",
            "Epoch 149/200\n",
            "6/6 [==============================] - 0s 6ms/step - loss: 0.9437 - lr: 1.0000e-04\n",
            "Epoch 150/200\n",
            "6/6 [==============================] - 0s 9ms/step - loss: 0.8933 - lr: 1.0000e-04\n",
            "Epoch 151/200\n",
            "6/6 [==============================] - 0s 7ms/step - loss: 0.8880 - lr: 1.0000e-04\n",
            "Epoch 152/200\n",
            "6/6 [==============================] - 0s 4ms/step - loss: 0.9463 - lr: 1.0000e-04\n",
            "Epoch 153/200\n",
            "6/6 [==============================] - 0s 5ms/step - loss: 0.8805 - lr: 1.0000e-04\n",
            "Epoch 154/200\n",
            "6/6 [==============================] - 0s 4ms/step - loss: 0.8896 - lr: 1.0000e-04\n",
            "Epoch 155/200\n",
            "6/6 [==============================] - 0s 4ms/step - loss: 0.8977 - lr: 1.0000e-04\n",
            "Epoch 156/200\n",
            "6/6 [==============================] - 0s 6ms/step - loss: 0.8757 - lr: 1.0000e-04\n",
            "Epoch 157/200\n",
            "6/6 [==============================] - 0s 5ms/step - loss: 0.8756 - lr: 1.0000e-04\n",
            "Epoch 158/200\n",
            "6/6 [==============================] - 0s 14ms/step - loss: 0.8760 - lr: 1.0000e-04\n",
            "Epoch 159/200\n",
            "6/6 [==============================] - 0s 8ms/step - loss: 0.8761 - lr: 1.0000e-04\n",
            "Epoch 160/200\n",
            "6/6 [==============================] - 0s 8ms/step - loss: 0.8769 - lr: 1.0000e-04\n",
            "Epoch 161/200\n",
            "6/6 [==============================] - 0s 6ms/step - loss: 0.8697 - lr: 1.0000e-04\n",
            "Epoch 162/200\n",
            "6/6 [==============================] - 0s 6ms/step - loss: 0.8771 - lr: 1.0000e-04\n",
            "Epoch 163/200\n",
            "6/6 [==============================] - 0s 5ms/step - loss: 0.8753 - lr: 1.0000e-04\n",
            "Epoch 164/200\n",
            "6/6 [==============================] - 0s 4ms/step - loss: 0.8810 - lr: 1.0000e-04\n",
            "Epoch 165/200\n",
            "6/6 [==============================] - 0s 6ms/step - loss: 0.8845 - lr: 1.0000e-04\n",
            "Epoch 166/200\n",
            "6/6 [==============================] - 0s 5ms/step - loss: 0.8698 - lr: 1.0000e-04\n",
            "Epoch 167/200\n",
            "6/6 [==============================] - 0s 8ms/step - loss: 0.8921 - lr: 1.0000e-04\n",
            "Epoch 168/200\n",
            "6/6 [==============================] - 0s 7ms/step - loss: 0.8674 - lr: 1.0000e-04\n",
            "Epoch 169/200\n",
            "6/6 [==============================] - 0s 8ms/step - loss: 0.8917 - lr: 1.0000e-04\n",
            "Epoch 170/200\n",
            "6/6 [==============================] - 0s 9ms/step - loss: 0.8730 - lr: 1.0000e-04\n",
            "Epoch 171/200\n",
            "6/6 [==============================] - 0s 9ms/step - loss: 0.8786 - lr: 1.0000e-04\n",
            "Epoch 172/200\n",
            "6/6 [==============================] - 0s 6ms/step - loss: 0.9074 - lr: 1.0000e-04\n",
            "Epoch 173/200\n",
            "6/6 [==============================] - 0s 7ms/step - loss: 0.8774 - lr: 1.0000e-04\n",
            "Epoch 174/200\n",
            "6/6 [==============================] - 0s 4ms/step - loss: 0.9043 - lr: 1.0000e-04\n",
            "Epoch 175/200\n",
            "6/6 [==============================] - 0s 3ms/step - loss: 0.9303 - lr: 1.0000e-04\n",
            "Epoch 176/200\n",
            "6/6 [==============================] - 0s 8ms/step - loss: 0.8733 - lr: 1.0000e-04\n",
            "Epoch 177/200\n",
            "6/6 [==============================] - 0s 8ms/step - loss: 0.8787 - lr: 1.0000e-04\n",
            "Epoch 178/200\n",
            "6/6 [==============================] - 0s 4ms/step - loss: 0.8855 - lr: 1.0000e-04\n",
            "Epoch 179/200\n",
            "6/6 [==============================] - 0s 3ms/step - loss: 0.8749 - lr: 1.0000e-04\n",
            "Epoch 180/200\n",
            "6/6 [==============================] - 0s 5ms/step - loss: 0.8713 - lr: 1.0000e-04\n",
            "Epoch 181/200\n",
            "6/6 [==============================] - 0s 4ms/step - loss: 0.9174 - lr: 1.0000e-04\n",
            "Epoch 182/200\n",
            "6/6 [==============================] - 0s 4ms/step - loss: 0.9286 - lr: 1.0000e-04\n",
            "Epoch 183/200\n",
            "6/6 [==============================] - 0s 3ms/step - loss: 0.8793 - lr: 1.0000e-04\n",
            "Epoch 184/200\n",
            "6/6 [==============================] - 0s 3ms/step - loss: 0.8804 - lr: 1.0000e-04\n",
            "Epoch 185/200\n",
            "6/6 [==============================] - 0s 3ms/step - loss: 0.8688 - lr: 1.0000e-04\n",
            "Epoch 186/200\n",
            "6/6 [==============================] - 0s 3ms/step - loss: 0.8811 - lr: 1.0000e-04\n",
            "Epoch 187/200\n",
            "6/6 [==============================] - 0s 4ms/step - loss: 0.8728 - lr: 1.0000e-04\n",
            "Epoch 188/200\n",
            "6/6 [==============================] - 0s 5ms/step - loss: 0.8742 - lr: 1.0000e-04\n",
            "Epoch 189/200\n",
            "6/6 [==============================] - 0s 4ms/step - loss: 0.8713 - lr: 1.0000e-04\n",
            "Epoch 190/200\n",
            "6/6 [==============================] - 0s 4ms/step - loss: 0.8735 - lr: 1.0000e-04\n",
            "Epoch 191/200\n",
            "6/6 [==============================] - 0s 4ms/step - loss: 0.8721 - lr: 1.0000e-04\n",
            "Epoch 192/200\n",
            "6/6 [==============================] - 0s 4ms/step - loss: 0.8705 - lr: 1.0000e-04\n",
            "Epoch 193/200\n",
            "6/6 [==============================] - 0s 5ms/step - loss: 0.8715 - lr: 1.0000e-04\n",
            "Epoch 194/200\n",
            "6/6 [==============================] - 0s 4ms/step - loss: 0.8726 - lr: 1.0000e-04\n",
            "Epoch 195/200\n",
            "6/6 [==============================] - 0s 4ms/step - loss: 0.8909 - lr: 1.0000e-04\n",
            "Epoch 196/200\n",
            "6/6 [==============================] - 0s 4ms/step - loss: 0.8910 - lr: 1.0000e-04\n",
            "Epoch 197/200\n",
            "6/6 [==============================] - 0s 5ms/step - loss: 0.8705 - lr: 1.0000e-04\n",
            "Epoch 198/200\n",
            "6/6 [==============================] - 0s 4ms/step - loss: 0.8736 - lr: 1.0000e-04\n",
            "Epoch 199/200\n",
            "6/6 [==============================] - 0s 4ms/step - loss: 0.8709 - lr: 1.0000e-04\n",
            "Epoch 200/200\n",
            "6/6 [==============================] - 0s 5ms/step - loss: 0.8853 - lr: 1.0000e-04\n"
          ]
        }
      ]
    },
    {
      "cell_type": "code",
      "source": [
        "plt.plot(r.history['loss'], label='loss')"
      ],
      "metadata": {
        "colab": {
          "base_uri": "https://localhost:8080/",
          "height": 282
        },
        "id": "lHdiC_a9XFnk",
        "outputId": "f8dbcad8-93ee-4d23-bafd-ab5330eb9955"
      },
      "execution_count": 38,
      "outputs": [
        {
          "output_type": "execute_result",
          "data": {
            "text/plain": [
              "[<matplotlib.lines.Line2D at 0x7fe61b2a3e90>]"
            ]
          },
          "metadata": {},
          "execution_count": 38
        },
        {
          "output_type": "display_data",
          "data": {
            "text/plain": [
              "<Figure size 432x288 with 1 Axes>"
            ],
            "image/png": "[encoded data removed]"
          },
          "metadata": {
            "needs_background": "light"
          }
        }
      ]
    },
    {
      "cell_type": "code",
      "source": [
        "print(model.layers)\n",
        "print(model.layers[0].get_weights())"
      ],
      "metadata": {
        "colab": {
          "base_uri": "https://localhost:8080/"
        },
        "id": "hgdr-5QDYpS6",
        "outputId": "ffc371df-e590-4c74-869d-02b17ca860a1"
      },
      "execution_count": 39,
      "outputs": [
        {
          "output_type": "stream",
          "name": "stdout",
          "text": [
            "[<keras.layers.core.dense.Dense object at 0x7fe61b663910>]\n",
            "[array([[0.33559462]], dtype=float32), array([17.770239], dtype=float32)]\n"
          ]
        }
      ]
    },
    {
      "cell_type": "code",
      "source": [
        "a = model.layers[0].get_weights()[0][0,0]"
      ],
      "metadata": {
        "id": "CIsbWZ6GbsGp"
      },
      "execution_count": 40,
      "outputs": []
    },
    {
      "cell_type": "code",
      "source": [
        "print(\"Time to double\", np.log(2) / a)"
      ],
      "metadata": {
        "colab": {
          "base_uri": "https://localhost:8080/"
        },
        "id": "msdQ-7GJbMhE",
        "outputId": "37707563-f42e-441b-c7f6-f43b9e7a21c7"
      },
      "execution_count": 41,
      "outputs": [
        {
          "output_type": "stream",
          "name": "stdout",
          "text": [
            "Time to double 2.0654299276847325\n"
          ]
        }
      ]
    },
    {
      "cell_type": "code",
      "source": [
        ""
      ],
      "metadata": {
        "id": "U6no2avLcmjU"
      },
      "execution_count": 42,
      "outputs": []
    },
    {
      "cell_type": "code",
      "source": [
        ""
      ],
      "metadata": {
        "colab": {
          "base_uri": "https://localhost:8080/",
          "height": 282
        },
        "id": "defg9DkUcszX",
        "outputId": "1af53dd5-dd31-485f-eb5b-ab8b9ee5d8fd"
      },
      "execution_count": 46,
      "outputs": [
        {
          "output_type": "execute_result",
          "data": {
            "text/plain": [
              "<matplotlib.collections.PathCollection at 0x7fe61b0b8110>"
            ]
          },
          "metadata": {},
          "execution_count": 46
        },
        {
          "output_type": "display_data",
          "data": {
            "text/plain": [
              "<Figure size 432x288 with 1 Axes>"
            ],
            "image/png": "[encoded data removed]"
          },
          "metadata": {
            "needs_background": "light"
          }
        }
      ]
    }
  ]
}