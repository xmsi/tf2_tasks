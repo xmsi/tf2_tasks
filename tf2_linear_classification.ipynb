{
  "nbformat": 4,
  "nbformat_minor": 0,
  "metadata": {
    "colab": {
      "name": "tf2_linear_classification.ipynb",
      "provenance": [],
      "mount_file_id": "1bU-_KuSSMT6PZiajmIhHXXbhhj-THsPe",
      "authorship_tag": "ABX9TyPHPUKQgI0X8rsIu7y9IyPr",
      "include_colab_link": true
    },
    "kernelspec": {
      "name": "python3",
      "display_name": "Python 3"
    },
    "language_info": {
      "name": "python"
    }
  },
  "cells": [
    {
      "cell_type": "markdown",
      "metadata": {
        "id": "view-in-github",
        "colab_type": "text"
      },
      "source": [
        "<a href=\"https://colab.research.google.com/github/xmsi/tf2_tasks/blob/main/tf2_linear_classification.ipynb\" target=\"_parent\"><img src=\"https://colab.research.google.com/assets/colab-badge.svg\" alt=\"Open In Colab\"/></a>"
      ]
    },
    {
      "cell_type": "code",
      "execution_count": null,
      "metadata": {
        "id": "MTghGvCUBsJe"
      },
      "outputs": [],
      "source": [
        "from sklearn.datasets import load_iris"
      ]
    },
    {
      "cell_type": "code",
      "source": [
        "data = load_iris()"
      ],
      "metadata": {
        "id": "EYy4qh6UB84l"
      },
      "execution_count": null,
      "outputs": []
    },
    {
      "cell_type": "code",
      "source": [
        "type(data)"
      ],
      "metadata": {
        "colab": {
          "base_uri": "https://localhost:8080/"
        },
        "id": "d33m9XrvDb6s",
        "outputId": "6e344f8a-cde4-4385-f234-1b148a2625e4"
      },
      "execution_count": null,
      "outputs": [
        {
          "output_type": "execute_result",
          "data": {
            "text/plain": [
              "sklearn.utils.Bunch"
            ]
          },
          "metadata": {},
          "execution_count": 4
        }
      ]
    },
    {
      "cell_type": "code",
      "source": [
        "data.keys()"
      ],
      "metadata": {
        "colab": {
          "base_uri": "https://localhost:8080/"
        },
        "id": "OG73Vsx1DiI2",
        "outputId": "7dc762f2-d98b-4ace-a544-a3d44c74d6c7"
      },
      "execution_count": null,
      "outputs": [
        {
          "output_type": "execute_result",
          "data": {
            "text/plain": [
              "dict_keys(['data', 'target', 'frame', 'target_names', 'DESCR', 'feature_names', 'filename', 'data_module'])"
            ]
          },
          "metadata": {},
          "execution_count": 5
        }
      ]
    },
    {
      "cell_type": "code",
      "source": [
        "data.data.shape\n",
        "\n",
        "# 150 items 4 features"
      ],
      "metadata": {
        "colab": {
          "base_uri": "https://localhost:8080/"
        },
        "id": "AVWnjBnJDrdX",
        "outputId": "e807596e-87ef-4d46-c1f2-e98f4507f34d"
      },
      "execution_count": null,
      "outputs": [
        {
          "output_type": "execute_result",
          "data": {
            "text/plain": [
              "(150, 4)"
            ]
          },
          "metadata": {},
          "execution_count": 6
        }
      ]
    },
    {
      "cell_type": "code",
      "source": [
        "data.target[0:100]\n",
        "\n",
        "# only 0 and 1 in 0:100"
      ],
      "metadata": {
        "colab": {
          "base_uri": "https://localhost:8080/"
        },
        "id": "y9KY1rExDyQV",
        "outputId": "887c52ad-3686-4287-f63d-b595cf5a107e"
      },
      "execution_count": null,
      "outputs": [
        {
          "output_type": "execute_result",
          "data": {
            "text/plain": [
              "array([0, 0, 0, 0, 0, 0, 0, 0, 0, 0, 0, 0, 0, 0, 0, 0, 0, 0, 0, 0, 0, 0,\n",
              "       0, 0, 0, 0, 0, 0, 0, 0, 0, 0, 0, 0, 0, 0, 0, 0, 0, 0, 0, 0, 0, 0,\n",
              "       0, 0, 0, 0, 0, 0, 1, 1, 1, 1, 1, 1, 1, 1, 1, 1, 1, 1, 1, 1, 1, 1,\n",
              "       1, 1, 1, 1, 1, 1, 1, 1, 1, 1, 1, 1, 1, 1, 1, 1, 1, 1, 1, 1, 1, 1,\n",
              "       1, 1, 1, 1, 1, 1, 1, 1, 1, 1, 1, 1])"
            ]
          },
          "metadata": {},
          "execution_count": 7
        }
      ]
    },
    {
      "cell_type": "code",
      "source": [
        "data.target_names"
      ],
      "metadata": {
        "colab": {
          "base_uri": "https://localhost:8080/"
        },
        "id": "Cb_KvKHIEHci",
        "outputId": "69c0ae7f-dea8-44e4-af80-b8f5fdb8fd02"
      },
      "execution_count": null,
      "outputs": [
        {
          "output_type": "execute_result",
          "data": {
            "text/plain": [
              "array(['setosa', 'versicolor', 'virginica'], dtype='<U10')"
            ]
          },
          "metadata": {},
          "execution_count": 8
        }
      ]
    },
    {
      "cell_type": "code",
      "source": [
        "data.feature_names"
      ],
      "metadata": {
        "colab": {
          "base_uri": "https://localhost:8080/"
        },
        "id": "nzmI5ecpEaur",
        "outputId": "71c0a3d8-7931-4e8b-ecd2-9ba7da77b11e"
      },
      "execution_count": null,
      "outputs": [
        {
          "output_type": "execute_result",
          "data": {
            "text/plain": [
              "['sepal length (cm)',\n",
              " 'sepal width (cm)',\n",
              " 'petal length (cm)',\n",
              " 'petal width (cm)']"
            ]
          },
          "metadata": {},
          "execution_count": 9
        }
      ]
    },
    {
      "cell_type": "code",
      "source": [
        "from sklearn.model_selection import train_test_split\n",
        "\n",
        "X_train, X_test, y_train, y_test = train_test_split(data.data[0:100], data.target[0:100], test_size=0.33)\n",
        "N, D = X_train.shape "
      ],
      "metadata": {
        "id": "ng7JBDpLEkaB"
      },
      "execution_count": null,
      "outputs": []
    },
    {
      "cell_type": "code",
      "source": [
        "y_test"
      ],
      "metadata": {
        "colab": {
          "base_uri": "https://localhost:8080/"
        },
        "id": "YVv-_85yFJRJ",
        "outputId": "d997bf22-a21e-4dac-8cef-ded79a4de061"
      },
      "execution_count": null,
      "outputs": [
        {
          "output_type": "execute_result",
          "data": {
            "text/plain": [
              "array([0, 1, 1, 1, 1, 0, 0, 0, 1, 0, 1, 1, 1, 1, 0, 1, 0, 0, 1, 0, 1, 1,\n",
              "       1, 1, 0, 0, 1, 0, 1, 1, 1, 1, 1])"
            ]
          },
          "metadata": {},
          "execution_count": 12
        }
      ]
    },
    {
      "cell_type": "code",
      "source": [
        "from sklearn.preprocessing import StandardScaler\n",
        "\n",
        "scaler = StandardScaler()\n",
        "X_train = scaler.fit_transform(X_train)\n",
        "X1_test = scaler.transform(X_test)"
      ],
      "metadata": {
        "id": "kZ3lNVk1FRsX"
      },
      "execution_count": null,
      "outputs": []
    },
    {
      "cell_type": "code",
      "source": [
        "X_test"
      ],
      "metadata": {
        "colab": {
          "base_uri": "https://localhost:8080/"
        },
        "id": "3NNTyD9UFjKo",
        "outputId": "92a1eca7-404d-4aaa-bef6-c74d49864f5a"
      },
      "execution_count": null,
      "outputs": [
        {
          "output_type": "execute_result",
          "data": {
            "text/plain": [
              "array([[-0.46314973,  0.68301444, -1.22606347, -0.94616898],\n",
              "       [ 0.51242098, -1.68956203,  0.5737628 ,  0.1558396 ],\n",
              "       [ 0.83761121, -1.68956203,  0.93372805,  1.07418008],\n",
              "       [-0.30055461, -1.29413262,  0.35778365,  0.1558396 ],\n",
              "       [-0.13795949, -1.09641791,  0.50176975,  0.33950769],\n",
              "       [-2.25169602, -0.10784438, -1.51403568, -1.49717327],\n",
              "       [-1.1135302 ,  0.48529973, -1.29805652, -1.31350517],\n",
              "       [-1.27612532,  0.08987032, -1.22606347, -1.31350517],\n",
              "       [ 0.18723074, -0.7009885 ,  0.64575585,  0.1558396 ],\n",
              "       [ 0.02463562,  1.47387326, -1.08207737, -1.12983707],\n",
              "       [ 1.16280145, -0.30555909,  0.78974195,  0.70684388],\n",
              "       [ 0.83761121, -0.30555909,  0.78974195,  0.70684388],\n",
              "       [-0.13795949, -0.10784438,  0.93372805,  1.07418008],\n",
              "       [ 0.02463562, -0.10784438,  0.7177489 ,  0.52317579],\n",
              "       [-0.46314973,  1.27615856, -1.22606347, -1.31350517],\n",
              "       [-0.13795949, -0.30555909,  0.2857906 ,  0.70684388],\n",
              "       [-0.30055461,  2.26473208, -1.29805652, -1.31350517],\n",
              "       [-0.62574485,  1.27615856, -1.22606347, -1.31350517],\n",
              "       [ 0.02463562, -0.89870321,  0.21379755,  0.1558396 ],\n",
              "       [-1.27612532, -0.10784438, -1.29805652, -1.31350517],\n",
              "       [ 1.48799168, -0.30555909,  1.00572111,  0.70684388],\n",
              "       [ 1.6505868 , -0.10784438,  1.29369331,  1.44151627],\n",
              "       [ 0.18723074, -0.89870321,  0.5737628 ,  0.52317579],\n",
              "       [ 0.67501609, -0.10784438,  1.00572111,  0.89051198],\n",
              "       [-1.76391067,  0.28758503, -1.29805652, -1.31350517],\n",
              "       [ 0.02463562,  2.6601615 , -1.22606347, -0.94616898],\n",
              "       [ 1.16280145,  0.28758503,  0.93372805,  1.07418008],\n",
              "       [-1.1135302 ,  1.07844385, -1.29805652, -1.31350517],\n",
              "       [ 1.32539656, -0.5032738 ,  1.00572111,  1.07418008],\n",
              "       [-0.95093508, -1.09641791, -0.14616771,  0.33950769],\n",
              "       [-0.78833996, -0.7009885 ,  0.50176975,  0.89051198],\n",
              "       [ 1.00020633,  0.48529973,  1.07771416,  1.25784817],\n",
              "       [ 1.97577704,  0.08987032,  1.22170026,  1.07418008]])"
            ]
          },
          "metadata": {},
          "execution_count": 23
        }
      ]
    }
  ]
}