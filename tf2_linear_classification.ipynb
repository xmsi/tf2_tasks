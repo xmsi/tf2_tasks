{
  "nbformat": 4,
  "nbformat_minor": 0,
  "metadata": {
    "colab": {
      "name": "tf2_linear_classification.ipynb",
      "provenance": [],
      "collapsed_sections": [],
      "mount_file_id": "1bU-_KuSSMT6PZiajmIhHXXbhhj-THsPe",
      "authorship_tag": "ABX9TyPBIBx4l1ukUHwItUa1KuuZ",
      "include_colab_link": true
    },
    "kernelspec": {
      "name": "python3",
      "display_name": "Python 3"
    },
    "language_info": {
      "name": "python"
    }
  },
  "cells": [
    {
      "cell_type": "markdown",
      "metadata": {
        "id": "view-in-github",
        "colab_type": "text"
      },
      "source": [
        "<a href=\"https://colab.research.google.com/github/xmsi/tf2_tasks/blob/main/tf2_linear_classification.ipynb\" target=\"_parent\"><img src=\"https://colab.research.google.com/assets/colab-badge.svg\" alt=\"Open In Colab\"/></a>"
      ]
    },
    {
      "cell_type": "code",
      "execution_count": 1,
      "metadata": {
        "id": "MTghGvCUBsJe"
      },
      "outputs": [],
      "source": [
        "from sklearn.datasets import load_iris"
      ]
    },
    {
      "cell_type": "code",
      "source": [
        "data = load_iris()"
      ],
      "metadata": {
        "id": "EYy4qh6UB84l"
      },
      "execution_count": 2,
      "outputs": []
    },
    {
      "cell_type": "code",
      "source": [
        "type(data)"
      ],
      "metadata": {
        "colab": {
          "base_uri": "https://localhost:8080/"
        },
        "id": "d33m9XrvDb6s",
        "outputId": "61a43bb3-4b8d-4f31-eb87-5e7124d2d2f3"
      },
      "execution_count": 3,
      "outputs": [
        {
          "output_type": "execute_result",
          "data": {
            "text/plain": [
              "sklearn.utils.Bunch"
            ]
          },
          "metadata": {},
          "execution_count": 3
        }
      ]
    },
    {
      "cell_type": "code",
      "source": [
        "data.keys()"
      ],
      "metadata": {
        "colab": {
          "base_uri": "https://localhost:8080/"
        },
        "id": "OG73Vsx1DiI2",
        "outputId": "d0c11c53-2c7a-4ec4-95da-b5236dee2320"
      },
      "execution_count": 4,
      "outputs": [
        {
          "output_type": "execute_result",
          "data": {
            "text/plain": [
              "dict_keys(['data', 'target', 'frame', 'target_names', 'DESCR', 'feature_names', 'filename', 'data_module'])"
            ]
          },
          "metadata": {},
          "execution_count": 4
        }
      ]
    },
    {
      "cell_type": "code",
      "source": [
        "data.data.shape\n",
        "\n",
        "# 150 items 4 features X"
      ],
      "metadata": {
        "colab": {
          "base_uri": "https://localhost:8080/"
        },
        "id": "AVWnjBnJDrdX",
        "outputId": "cc6cff68-b9b1-4004-9135-43938382c838"
      },
      "execution_count": 5,
      "outputs": [
        {
          "output_type": "execute_result",
          "data": {
            "text/plain": [
              "(150, 4)"
            ]
          },
          "metadata": {},
          "execution_count": 5
        }
      ]
    },
    {
      "cell_type": "code",
      "source": [
        "data.target[0:100]\n",
        "\n",
        "# only 0 and 1 in 0:100 Y"
      ],
      "metadata": {
        "colab": {
          "base_uri": "https://localhost:8080/"
        },
        "id": "y9KY1rExDyQV",
        "outputId": "5ed102ba-744d-4194-cfb1-f2270f374612"
      },
      "execution_count": 6,
      "outputs": [
        {
          "output_type": "execute_result",
          "data": {
            "text/plain": [
              "array([0, 0, 0, 0, 0, 0, 0, 0, 0, 0, 0, 0, 0, 0, 0, 0, 0, 0, 0, 0, 0, 0,\n",
              "       0, 0, 0, 0, 0, 0, 0, 0, 0, 0, 0, 0, 0, 0, 0, 0, 0, 0, 0, 0, 0, 0,\n",
              "       0, 0, 0, 0, 0, 0, 1, 1, 1, 1, 1, 1, 1, 1, 1, 1, 1, 1, 1, 1, 1, 1,\n",
              "       1, 1, 1, 1, 1, 1, 1, 1, 1, 1, 1, 1, 1, 1, 1, 1, 1, 1, 1, 1, 1, 1,\n",
              "       1, 1, 1, 1, 1, 1, 1, 1, 1, 1, 1, 1])"
            ]
          },
          "metadata": {},
          "execution_count": 6
        }
      ]
    },
    {
      "cell_type": "code",
      "source": [
        "data.target_names"
      ],
      "metadata": {
        "colab": {
          "base_uri": "https://localhost:8080/"
        },
        "id": "Cb_KvKHIEHci",
        "outputId": "81b7c6d1-0983-41e4-f32a-1f8358d1f110"
      },
      "execution_count": 7,
      "outputs": [
        {
          "output_type": "execute_result",
          "data": {
            "text/plain": [
              "array(['setosa', 'versicolor', 'virginica'], dtype='<U10')"
            ]
          },
          "metadata": {},
          "execution_count": 7
        }
      ]
    },
    {
      "cell_type": "code",
      "source": [
        "data.feature_names"
      ],
      "metadata": {
        "colab": {
          "base_uri": "https://localhost:8080/"
        },
        "id": "nzmI5ecpEaur",
        "outputId": "ce17f658-3b15-4734-d65d-2883e7eddabb"
      },
      "execution_count": 8,
      "outputs": [
        {
          "output_type": "execute_result",
          "data": {
            "text/plain": [
              "['sepal length (cm)',\n",
              " 'sepal width (cm)',\n",
              " 'petal length (cm)',\n",
              " 'petal width (cm)']"
            ]
          },
          "metadata": {},
          "execution_count": 8
        }
      ]
    },
    {
      "cell_type": "code",
      "source": [
        "from sklearn.model_selection import train_test_split\n",
        "\n",
        "X_train, X_test, y_train, y_test = train_test_split(data.data[0:100], data.target[0:100], test_size=0.33)\n",
        "N, D = X_train.shape "
      ],
      "metadata": {
        "id": "ng7JBDpLEkaB"
      },
      "execution_count": 9,
      "outputs": []
    },
    {
      "cell_type": "code",
      "source": [
        "D"
      ],
      "metadata": {
        "colab": {
          "base_uri": "https://localhost:8080/"
        },
        "id": "YVv-_85yFJRJ",
        "outputId": "f9e208dc-5f48-4e7a-a580-5389dc44aadb"
      },
      "execution_count": 10,
      "outputs": [
        {
          "output_type": "execute_result",
          "data": {
            "text/plain": [
              "4"
            ]
          },
          "metadata": {},
          "execution_count": 10
        }
      ]
    },
    {
      "cell_type": "code",
      "source": [
        "from sklearn.preprocessing import StandardScaler\n",
        "\n",
        "scaler = StandardScaler()\n",
        "X_train = scaler.fit_transform(X_train)\n",
        "X_test = scaler.transform(X_test)"
      ],
      "metadata": {
        "id": "kZ3lNVk1FRsX"
      },
      "execution_count": 11,
      "outputs": []
    },
    {
      "cell_type": "code",
      "source": [
        "#tf2 works here!\n",
        "import tensorflow as tf\n",
        "\n",
        "model = tf.keras.models.Sequential([\n",
        "                         tf.keras.layers.Input(shape=(D,)),\n",
        "                         tf.keras.layers.Dense(1, activation='sigmoid')          \n",
        "])\n",
        "\n",
        "#model = tf.keras.models.Sequential()\n",
        "#model.add(tf.keras.layers.Dense(1, input_shape=(D,), activation='sigmoid'))\n",
        "\n",
        "model.compile(optimizer='adam',\n",
        "              loss='binary_crossentropy',\n",
        "              metrics=['accuracy'])\n",
        "\n",
        "r = model.fit(X_train, y_train, validation_data=(X_test, y_test), epochs=200)"
      ],
      "metadata": {
        "colab": {
          "base_uri": "https://localhost:8080/"
        },
        "id": "3NNTyD9UFjKo",
        "outputId": "51260f1a-9af5-4239-c760-caca619232dd"
      },
      "execution_count": 12,
      "outputs": [
        {
          "output_type": "stream",
          "name": "stdout",
          "text": [
            "Epoch 1/200\n",
            "3/3 [==============================] - 1s 88ms/step - loss: 0.9981 - accuracy: 0.2687 - val_loss: 0.9658 - val_accuracy: 0.3030\n",
            "Epoch 2/200\n",
            "3/3 [==============================] - 0s 16ms/step - loss: 0.9921 - accuracy: 0.2687 - val_loss: 0.9600 - val_accuracy: 0.3030\n",
            "Epoch 3/200\n",
            "3/3 [==============================] - 0s 15ms/step - loss: 0.9861 - accuracy: 0.2836 - val_loss: 0.9541 - val_accuracy: 0.3030\n",
            "Epoch 4/200\n",
            "3/3 [==============================] - 0s 15ms/step - loss: 0.9801 - accuracy: 0.2836 - val_loss: 0.9482 - val_accuracy: 0.3333\n",
            "Epoch 5/200\n",
            "3/3 [==============================] - 0s 13ms/step - loss: 0.9742 - accuracy: 0.2985 - val_loss: 0.9424 - val_accuracy: 0.3333\n",
            "Epoch 6/200\n",
            "3/3 [==============================] - 0s 14ms/step - loss: 0.9684 - accuracy: 0.2985 - val_loss: 0.9366 - val_accuracy: 0.3333\n",
            "Epoch 7/200\n",
            "3/3 [==============================] - 0s 19ms/step - loss: 0.9626 - accuracy: 0.2985 - val_loss: 0.9310 - val_accuracy: 0.3333\n",
            "Epoch 8/200\n",
            "3/3 [==============================] - 0s 14ms/step - loss: 0.9570 - accuracy: 0.3134 - val_loss: 0.9254 - val_accuracy: 0.3333\n",
            "Epoch 9/200\n",
            "3/3 [==============================] - 0s 16ms/step - loss: 0.9513 - accuracy: 0.3284 - val_loss: 0.9198 - val_accuracy: 0.3333\n",
            "Epoch 10/200\n",
            "3/3 [==============================] - 0s 20ms/step - loss: 0.9457 - accuracy: 0.3433 - val_loss: 0.9143 - val_accuracy: 0.3333\n",
            "Epoch 11/200\n",
            "3/3 [==============================] - 0s 14ms/step - loss: 0.9402 - accuracy: 0.3582 - val_loss: 0.9088 - val_accuracy: 0.3333\n",
            "Epoch 12/200\n",
            "3/3 [==============================] - 0s 15ms/step - loss: 0.9347 - accuracy: 0.3582 - val_loss: 0.9034 - val_accuracy: 0.3333\n",
            "Epoch 13/200\n",
            "3/3 [==============================] - 0s 15ms/step - loss: 0.9293 - accuracy: 0.3731 - val_loss: 0.8979 - val_accuracy: 0.3333\n",
            "Epoch 14/200\n",
            "3/3 [==============================] - 0s 13ms/step - loss: 0.9238 - accuracy: 0.3731 - val_loss: 0.8925 - val_accuracy: 0.3333\n",
            "Epoch 15/200\n",
            "3/3 [==============================] - 0s 13ms/step - loss: 0.9184 - accuracy: 0.3881 - val_loss: 0.8869 - val_accuracy: 0.3333\n",
            "Epoch 16/200\n",
            "3/3 [==============================] - 0s 15ms/step - loss: 0.9131 - accuracy: 0.3881 - val_loss: 0.8812 - val_accuracy: 0.3333\n",
            "Epoch 17/200\n",
            "3/3 [==============================] - 0s 15ms/step - loss: 0.9076 - accuracy: 0.4030 - val_loss: 0.8755 - val_accuracy: 0.3333\n",
            "Epoch 18/200\n",
            "3/3 [==============================] - 0s 15ms/step - loss: 0.9023 - accuracy: 0.4030 - val_loss: 0.8701 - val_accuracy: 0.3636\n",
            "Epoch 19/200\n",
            "3/3 [==============================] - 0s 15ms/step - loss: 0.8969 - accuracy: 0.4030 - val_loss: 0.8648 - val_accuracy: 0.3636\n",
            "Epoch 20/200\n",
            "3/3 [==============================] - 0s 14ms/step - loss: 0.8918 - accuracy: 0.4030 - val_loss: 0.8593 - val_accuracy: 0.3636\n",
            "Epoch 21/200\n",
            "3/3 [==============================] - 0s 19ms/step - loss: 0.8035 - accuracy: 0.4478 - val_loss: 0.7705 - val_accuracy: 0.4848\n",
            "Epoch 39/200\n",
            "3/3 [==============================] - 0s 14ms/step - loss: 0.7990 - accuracy: 0.4478 - val_loss: 0.7658 - val_accuracy: 0.4848\n",
            "Epoch 40/200\n",
            "3/3 [==============================] - 0s 13ms/step - loss: 0.7944 - accuracy: 0.4776 - val_loss: 0.7610 - val_accuracy: 0.5152\n",
            "Epoch 41/200\n",
            "3/3 [==============================] - 0s 14ms/step - loss: 0.7898 - accuracy: 0.4776 - val_loss: 0.7562 - val_accuracy: 0.5152\n",
            "Epoch 42/200\n",
            "3/3 [==============================] - 0s 16ms/step - loss: 0.7851 - accuracy: 0.4776 - val_loss: 0.7514 - val_accuracy: 0.5152\n",
            "Epoch 43/200\n",
            "3/3 [==============================] - 0s 15ms/step - loss: 0.7805 - accuracy: 0.4776 - val_loss: 0.7466 - val_accuracy: 0.5152\n",
            "Epoch 44/200\n",
            "3/3 [==============================] - 0s 14ms/step - loss: 0.7760 - accuracy: 0.4776 - val_loss: 0.7418 - val_accuracy: 0.5152\n",
            "Epoch 45/200\n",
            "3/3 [==============================] - 0s 16ms/step - loss: 0.7714 - accuracy: 0.4925 - val_loss: 0.7370 - val_accuracy: 0.5152\n",
            "Epoch 46/200\n",
            "3/3 [==============================] - 0s 14ms/step - loss: 0.7669 - accuracy: 0.4925 - val_loss: 0.7323 - val_accuracy: 0.5152\n",
            "Epoch 47/200\n",
            "3/3 [==============================] - 0s 13ms/step - loss: 0.7625 - accuracy: 0.4925 - val_loss: 0.7277 - val_accuracy: 0.5152\n",
            "Epoch 48/200\n",
            "3/3 [==============================] - 0s 14ms/step - loss: 0.7581 - accuracy: 0.5075 - val_loss: 0.7232 - val_accuracy: 0.5455\n",
            "Epoch 49/200\n",
            "3/3 [==============================] - 0s 16ms/step - loss: 0.7537 - accuracy: 0.5075 - val_loss: 0.7188 - val_accuracy: 0.5455\n",
            "Epoch 50/200\n",
            "3/3 [==============================] - 0s 16ms/step - loss: 0.7495 - accuracy: 0.5075 - val_loss: 0.7145 - val_accuracy: 0.5758\n",
            "Epoch 51/200\n",
            "3/3 [==============================] - 0s 15ms/step - loss: 0.7452 - accuracy: 0.5224 - val_loss: 0.7103 - val_accuracy: 0.5758\n",
            "Epoch 52/200\n",
            "3/3 [==============================] - 0s 14ms/step - loss: 0.7409 - accuracy: 0.5224 - val_loss: 0.7062 - val_accuracy: 0.5758\n",
            "Epoch 53/200\n",
            "3/3 [==============================] - 0s 14ms/step - loss: 0.7368 - accuracy: 0.5373 - val_loss: 0.7021 - val_accuracy: 0.5758\n",
            "Epoch 54/200\n",
            "3/3 [==============================] - 0s 16ms/step - loss: 0.7327 - accuracy: 0.5373 - val_loss: 0.6979 - val_accuracy: 0.5758\n",
            "Epoch 55/200\n",
            "3/3 [==============================] - 0s 15ms/step - loss: 0.7286 - accuracy: 0.5373 - val_loss: 0.6937 - val_accuracy: 0.5758\n",
            "Epoch 56/200\n",
            "3/3 [==============================] - 0s 16ms/step - loss: 0.7244 - accuracy: 0.5522 - val_loss: 0.6895 - val_accuracy: 0.6061\n",
            "Epoch 57/200\n",
            "3/3 [==============================] - 0s 14ms/step - loss: 0.7203 - accuracy: 0.5522 - val_loss: 0.6852 - val_accuracy: 0.6061\n",
            "Epoch 58/200\n",
            "3/3 [==============================] - 0s 14ms/step - loss: 0.7163 - accuracy: 0.5522 - val_loss: 0.6810 - val_accuracy: 0.6364\n",
            "Epoch 59/200\n",
            "3/3 [==============================] - 0s 14ms/step - loss: 0.7122 - accuracy: 0.5672 - val_loss: 0.6768 - val_accuracy: 0.6364\n",
            "Epoch 60/200\n",
            "3/3 [==============================] - 0s 16ms/step - loss: 0.7083 - accuracy: 0.5672 - val_loss: 0.6727 - val_accuracy: 0.6364\n",
            "Epoch 61/200\n",
            "3/3 [==============================] - 0s 14ms/step - loss: 0.7043 - accuracy: 0.5672 - val_loss: 0.6687 - val_accuracy: 0.6364\n",
            "Epoch 62/200\n",
            "3/3 [==============================] - 0s 17ms/step - loss: 0.7004 - accuracy: 0.5672 - val_loss: 0.6646 - val_accuracy: 0.6364\n",
            "Epoch 63/200\n",
            "3/3 [==============================] - 0s 15ms/step - loss: 0.6964 - accuracy: 0.5672 - val_loss: 0.6606 - val_accuracy: 0.6364\n",
            "Epoch 64/200\n",
            "3/3 [==============================] - 0s 16ms/step - loss: 0.6925 - accuracy: 0.5672 - val_loss: 0.6567 - val_accuracy: 0.6364\n",
            "Epoch 65/200\n",
            "3/3 [==============================] - 0s 15ms/step - loss: 0.6885 - accuracy: 0.5970 - val_loss: 0.6528 - val_accuracy: 0.6364\n",
            "Epoch 66/200\n",
            "3/3 [==============================] - 0s 17ms/step - loss: 0.6847 - accuracy: 0.5970 - val_loss: 0.6489 - val_accuracy: 0.6364\n",
            "Epoch 67/200\n",
            "3/3 [==============================] - 0s 16ms/step - loss: 0.6807 - accuracy: 0.5970 - val_loss: 0.6451 - val_accuracy: 0.6364\n",
            "Epoch 68/200\n",
            "3/3 [==============================] - 0s 17ms/step - loss: 0.6770 - accuracy: 0.6119 - val_loss: 0.6414 - val_accuracy: 0.6364\n",
            "Epoch 69/200\n",
            "3/3 [==============================] - 0s 17ms/step - loss: 0.6731 - accuracy: 0.6119 - val_loss: 0.6377 - val_accuracy: 0.6364\n",
            "Epoch 70/200\n",
            "3/3 [==============================] - 0s 15ms/step - loss: 0.6694 - accuracy: 0.6119 - val_loss: 0.6340 - val_accuracy: 0.6364\n",
            "Epoch 71/200\n",
            "3/3 [==============================] - 0s 14ms/step - loss: 0.6656 - accuracy: 0.6119 - val_loss: 0.6303 - val_accuracy: 0.6364\n",
            "Epoch 72/200\n",
            "3/3 [==============================] - 0s 16ms/step - loss: 0.6619 - accuracy: 0.6119 - val_loss: 0.6265 - val_accuracy: 0.6364\n",
            "Epoch 73/200\n",
            "3/3 [==============================] - 0s 18ms/step - loss: 0.6582 - accuracy: 0.6269 - val_loss: 0.6227 - val_accuracy: 0.6364\n",
            "Epoch 74/200\n",
            "3/3 [==============================] - 0s 15ms/step - loss: 0.6545 - accuracy: 0.6418 - val_loss: 0.6190 - val_accuracy: 0.6667\n",
            "Epoch 75/200\n",
            "3/3 [==============================] - 0s 17ms/step - loss: 0.6508 - accuracy: 0.6418 - val_loss: 0.6153 - val_accuracy: 0.6667\n",
            "Epoch 76/200\n",
            "3/3 [==============================] - 0s 20ms/step - loss: 0.6472 - accuracy: 0.6418 - val_loss: 0.6117 - val_accuracy: 0.6667\n",
            "Epoch 77/200\n",
            "3/3 [==============================] - 0s 16ms/step - loss: 0.6437 - accuracy: 0.6567 - val_loss: 0.6080 - val_accuracy: 0.6667\n",
            "Epoch 78/200\n",
            "3/3 [==============================] - 0s 15ms/step - loss: 0.6401 - accuracy: 0.6567 - val_loss: 0.6044 - val_accuracy: 0.6970\n",
            "Epoch 79/200\n",
            "3/3 [==============================] - 0s 16ms/step - loss: 0.6366 - accuracy: 0.6567 - val_loss: 0.6008 - val_accuracy: 0.6970\n",
            "Epoch 80/200\n",
            "3/3 [==============================] - 0s 17ms/step - loss: 0.6331 - accuracy: 0.6716 - val_loss: 0.5972 - val_accuracy: 0.6970\n",
            "Epoch 81/200\n",
            "3/3 [==============================] - 0s 15ms/step - loss: 0.6296 - accuracy: 0.6866 - val_loss: 0.5935 - val_accuracy: 0.6970\n",
            "Epoch 82/200\n",
            "3/3 [==============================] - 0s 14ms/step - loss: 0.6260 - accuracy: 0.6866 - val_loss: 0.5900 - val_accuracy: 0.6970\n",
            "Epoch 83/200\n",
            "3/3 [==============================] - 0s 15ms/step - loss: 0.6226 - accuracy: 0.6866 - val_loss: 0.5864 - val_accuracy: 0.6970\n",
            "Epoch 84/200\n",
            "3/3 [==============================] - 0s 15ms/step - loss: 0.6192 - accuracy: 0.6866 - val_loss: 0.5829 - val_accuracy: 0.6970\n",
            "Epoch 85/200\n",
            "3/3 [==============================] - 0s 16ms/step - loss: 0.6158 - accuracy: 0.7164 - val_loss: 0.5796 - val_accuracy: 0.6970\n",
            "Epoch 86/200\n",
            "3/3 [==============================] - 0s 14ms/step - loss: 0.6125 - accuracy: 0.7164 - val_loss: 0.5763 - val_accuracy: 0.6970\n",
            "Epoch 87/200\n",
            "3/3 [==============================] - 0s 16ms/step - loss: 0.6093 - accuracy: 0.7164 - val_loss: 0.5731 - val_accuracy: 0.6970\n",
            "Epoch 88/200\n",
            "3/3 [==============================] - 0s 16ms/step - loss: 0.6061 - accuracy: 0.7164 - val_loss: 0.5698 - val_accuracy: 0.6970\n",
            "Epoch 89/200\n",
            "3/3 [==============================] - 0s 15ms/step - loss: 0.6029 - accuracy: 0.7164 - val_loss: 0.5667 - val_accuracy: 0.6970\n",
            "Epoch 90/200\n",
            "3/3 [==============================] - 0s 14ms/step - loss: 0.5997 - accuracy: 0.7164 - val_loss: 0.5635 - val_accuracy: 0.6970\n",
            "Epoch 91/200\n",
            "3/3 [==============================] - 0s 14ms/step - loss: 0.5964 - accuracy: 0.7164 - val_loss: 0.5603 - val_accuracy: 0.6970\n",
            "Epoch 92/200\n",
            "3/3 [==============================] - 0s 19ms/step - loss: 0.5933 - accuracy: 0.7164 - val_loss: 0.5571 - val_accuracy: 0.6970\n",
            "Epoch 93/200\n",
            "3/3 [==============================] - 0s 14ms/step - loss: 0.5900 - accuracy: 0.7313 - val_loss: 0.5539 - val_accuracy: 0.6970\n",
            "Epoch 94/200\n",
            "3/3 [==============================] - 0s 17ms/step - loss: 0.5868 - accuracy: 0.7313 - val_loss: 0.5505 - val_accuracy: 0.7273\n",
            "Epoch 95/200\n",
            "3/3 [==============================] - 0s 15ms/step - loss: 0.5836 - accuracy: 0.7463 - val_loss: 0.5472 - val_accuracy: 0.7273\n",
            "Epoch 96/200\n",
            "3/3 [==============================] - 0s 16ms/step - loss: 0.5803 - accuracy: 0.7463 - val_loss: 0.5439 - val_accuracy: 0.7273\n",
            "Epoch 97/200\n",
            "3/3 [==============================] - 0s 16ms/step - loss: 0.5771 - accuracy: 0.7463 - val_loss: 0.5408 - val_accuracy: 0.7273\n",
            "Epoch 98/200\n",
            "3/3 [==============================] - 0s 15ms/step - loss: 0.5740 - accuracy: 0.7463 - val_loss: 0.5375 - val_accuracy: 0.7273\n",
            "Epoch 99/200\n",
            "3/3 [==============================] - 0s 15ms/step - loss: 0.5708 - accuracy: 0.7463 - val_loss: 0.5343 - val_accuracy: 0.7273\n",
            "Epoch 100/200\n",
            "3/3 [==============================] - 0s 14ms/step - loss: 0.5676 - accuracy: 0.7463 - val_loss: 0.5311 - val_accuracy: 0.7273\n",
            "Epoch 101/200\n",
            "3/3 [==============================] - 0s 14ms/step - loss: 0.5645 - accuracy: 0.7463 - val_loss: 0.5280 - val_accuracy: 0.7273\n",
            "Epoch 102/200\n",
            "3/3 [==============================] - 0s 15ms/step - loss: 0.5613 - accuracy: 0.7463 - val_loss: 0.5249 - val_accuracy: 0.7273\n",
            "Epoch 103/200\n",
            "3/3 [==============================] - 0s 16ms/step - loss: 0.5583 - accuracy: 0.7612 - val_loss: 0.5219 - val_accuracy: 0.7273\n",
            "Epoch 104/200\n",
            "3/3 [==============================] - 0s 16ms/step - loss: 0.5552 - accuracy: 0.7612 - val_loss: 0.5189 - val_accuracy: 0.7273\n",
            "Epoch 105/200\n",
            "3/3 [==============================] - 0s 16ms/step - loss: 0.5523 - accuracy: 0.7612 - val_loss: 0.5159 - val_accuracy: 0.7273\n",
            "Epoch 106/200\n",
            "3/3 [==============================] - 0s 22ms/step - loss: 0.5494 - accuracy: 0.7612 - val_loss: 0.5129 - val_accuracy: 0.7273\n",
            "Epoch 107/200\n",
            "3/3 [==============================] - 0s 13ms/step - loss: 0.5464 - accuracy: 0.7612 - val_loss: 0.5098 - val_accuracy: 0.7273\n",
            "Epoch 108/200\n",
            "3/3 [==============================] - 0s 15ms/step - loss: 0.5435 - accuracy: 0.7612 - val_loss: 0.5069 - val_accuracy: 0.7273\n",
            "Epoch 109/200\n",
            "3/3 [==============================] - 0s 15ms/step - loss: 0.5406 - accuracy: 0.7612 - val_loss: 0.5040 - val_accuracy: 0.7576\n",
            "Epoch 110/200\n",
            "3/3 [==============================] - 0s 15ms/step - loss: 0.5378 - accuracy: 0.7612 - val_loss: 0.5012 - val_accuracy: 0.7879\n",
            "Epoch 111/200\n",
            "3/3 [==============================] - 0s 17ms/step - loss: 0.5350 - accuracy: 0.7612 - val_loss: 0.4985 - val_accuracy: 0.7879\n",
            "Epoch 112/200\n",
            "3/3 [==============================] - 0s 15ms/step - loss: 0.5323 - accuracy: 0.7910 - val_loss: 0.4958 - val_accuracy: 0.7879\n",
            "Epoch 113/200\n",
            "3/3 [==============================] - 0s 20ms/step - loss: 0.5296 - accuracy: 0.7910 - val_loss: 0.4932 - val_accuracy: 0.7879\n",
            "Epoch 114/200\n",
            "3/3 [==============================] - 0s 18ms/step - loss: 0.5268 - accuracy: 0.7910 - val_loss: 0.4906 - val_accuracy: 0.7879\n",
            "Epoch 115/200\n",
            "3/3 [==============================] - 0s 19ms/step - loss: 0.5241 - accuracy: 0.7910 - val_loss: 0.4880 - val_accuracy: 0.7879\n",
            "Epoch 116/200\n",
            "3/3 [==============================] - 0s 14ms/step - loss: 0.5214 - accuracy: 0.7910 - val_loss: 0.4853 - val_accuracy: 0.7879\n",
            "Epoch 117/200\n",
            "3/3 [==============================] - 0s 15ms/step - loss: 0.5187 - accuracy: 0.7910 - val_loss: 0.4827 - val_accuracy: 0.7879\n",
            "Epoch 118/200\n",
            "3/3 [==============================] - 0s 14ms/step - loss: 0.5160 - accuracy: 0.7910 - val_loss: 0.4801 - val_accuracy: 0.7879\n",
            "Epoch 119/200\n",
            "3/3 [==============================] - 0s 14ms/step - loss: 0.5133 - accuracy: 0.7910 - val_loss: 0.4775 - val_accuracy: 0.7879\n",
            "Epoch 120/200\n",
            "3/3 [==============================] - 0s 15ms/step - loss: 0.5106 - accuracy: 0.7910 - val_loss: 0.4749 - val_accuracy: 0.7879\n",
            "Epoch 121/200\n",
            "3/3 [==============================] - 0s 16ms/step - loss: 0.5079 - accuracy: 0.7910 - val_loss: 0.4720 - val_accuracy: 0.8182\n",
            "Epoch 122/200\n",
            "3/3 [==============================] - 0s 14ms/step - loss: 0.5051 - accuracy: 0.7910 - val_loss: 0.4692 - val_accuracy: 0.8182\n",
            "Epoch 123/200\n",
            "3/3 [==============================] - 0s 14ms/step - loss: 0.5024 - accuracy: 0.7910 - val_loss: 0.4664 - val_accuracy: 0.8182\n",
            "Epoch 124/200\n",
            "3/3 [==============================] - 0s 15ms/step - loss: 0.4996 - accuracy: 0.7910 - val_loss: 0.4636 - val_accuracy: 0.8182\n",
            "Epoch 125/200\n",
            "3/3 [==============================] - 0s 14ms/step - loss: 0.4969 - accuracy: 0.7910 - val_loss: 0.4609 - val_accuracy: 0.8182\n",
            "Epoch 126/200\n",
            "3/3 [==============================] - 0s 15ms/step - loss: 0.4942 - accuracy: 0.7910 - val_loss: 0.4583 - val_accuracy: 0.8182\n",
            "Epoch 127/200\n",
            "3/3 [==============================] - 0s 16ms/step - loss: 0.4916 - accuracy: 0.7910 - val_loss: 0.4556 - val_accuracy: 0.8182\n",
            "Epoch 128/200\n",
            "3/3 [==============================] - 0s 17ms/step - loss: 0.4890 - accuracy: 0.7910 - val_loss: 0.4530 - val_accuracy: 0.8182\n",
            "Epoch 129/200\n",
            "3/3 [==============================] - 0s 16ms/step - loss: 0.4864 - accuracy: 0.7910 - val_loss: 0.4504 - val_accuracy: 0.8182\n",
            "Epoch 130/200\n",
            "3/3 [==============================] - 0s 15ms/step - loss: 0.4838 - accuracy: 0.8060 - val_loss: 0.4477 - val_accuracy: 0.8182\n",
            "Epoch 131/200\n",
            "3/3 [==============================] - 0s 16ms/step - loss: 0.4812 - accuracy: 0.8060 - val_loss: 0.4451 - val_accuracy: 0.8182\n",
            "Epoch 132/200\n",
            "3/3 [==============================] - 0s 16ms/step - loss: 0.4787 - accuracy: 0.8060 - val_loss: 0.4426 - val_accuracy: 0.8182\n",
            "Epoch 133/200\n",
            "3/3 [==============================] - 0s 13ms/step - loss: 0.4762 - accuracy: 0.8060 - val_loss: 0.4400 - val_accuracy: 0.8182\n",
            "Epoch 134/200\n",
            "3/3 [==============================] - 0s 15ms/step - loss: 0.4737 - accuracy: 0.8060 - val_loss: 0.4375 - val_accuracy: 0.8182\n",
            "Epoch 135/200\n",
            "3/3 [==============================] - 0s 16ms/step - loss: 0.4713 - accuracy: 0.8209 - val_loss: 0.4350 - val_accuracy: 0.8182\n",
            "Epoch 136/200\n",
            "3/3 [==============================] - 0s 16ms/step - loss: 0.4688 - accuracy: 0.8209 - val_loss: 0.4326 - val_accuracy: 0.8182\n",
            "Epoch 137/200\n",
            "3/3 [==============================] - 0s 14ms/step - loss: 0.4665 - accuracy: 0.8209 - val_loss: 0.4302 - val_accuracy: 0.8182\n",
            "Epoch 138/200\n",
            "3/3 [==============================] - 0s 15ms/step - loss: 0.4640 - accuracy: 0.8209 - val_loss: 0.4278 - val_accuracy: 0.8182\n",
            "Epoch 139/200\n",
            "3/3 [==============================] - 0s 20ms/step - loss: 0.4616 - accuracy: 0.8358 - val_loss: 0.4255 - val_accuracy: 0.8182\n",
            "Epoch 140/200\n",
            "3/3 [==============================] - 0s 15ms/step - loss: 0.4593 - accuracy: 0.8358 - val_loss: 0.4231 - val_accuracy: 0.8485\n",
            "Epoch 141/200\n",
            "3/3 [==============================] - 0s 15ms/step - loss: 0.4569 - accuracy: 0.8507 - val_loss: 0.4208 - val_accuracy: 0.8485\n",
            "Epoch 142/200\n",
            "3/3 [==============================] - 0s 21ms/step - loss: 0.4545 - accuracy: 0.8507 - val_loss: 0.4185 - val_accuracy: 0.9091\n",
            "Epoch 143/200\n",
            "3/3 [==============================] - 0s 13ms/step - loss: 0.4522 - accuracy: 0.8507 - val_loss: 0.4163 - val_accuracy: 0.9091\n",
            "Epoch 144/200\n",
            "3/3 [==============================] - 0s 15ms/step - loss: 0.4499 - accuracy: 0.8507 - val_loss: 0.4141 - val_accuracy: 0.9091\n",
            "Epoch 145/200\n",
            "3/3 [==============================] - 0s 14ms/step - loss: 0.4477 - accuracy: 0.8507 - val_loss: 0.4118 - val_accuracy: 0.9091\n",
            "Epoch 146/200\n",
            "3/3 [==============================] - 0s 14ms/step - loss: 0.4454 - accuracy: 0.8507 - val_loss: 0.4096 - val_accuracy: 0.9091\n",
            "Epoch 147/200\n",
            "3/3 [==============================] - 0s 13ms/step - loss: 0.4432 - accuracy: 0.8507 - val_loss: 0.4073 - val_accuracy: 0.9091\n",
            "Epoch 148/200\n",
            "3/3 [==============================] - 0s 15ms/step - loss: 0.4410 - accuracy: 0.8507 - val_loss: 0.4052 - val_accuracy: 0.9091\n",
            "Epoch 149/200\n",
            "3/3 [==============================] - 0s 15ms/step - loss: 0.4388 - accuracy: 0.8507 - val_loss: 0.4031 - val_accuracy: 0.9091\n",
            "Epoch 150/200\n",
            "3/3 [==============================] - 0s 14ms/step - loss: 0.4366 - accuracy: 0.8507 - val_loss: 0.4010 - val_accuracy: 0.9091\n",
            "Epoch 151/200\n",
            "3/3 [==============================] - 0s 16ms/step - loss: 0.4345 - accuracy: 0.8507 - val_loss: 0.3990 - val_accuracy: 0.9394\n",
            "Epoch 152/200\n",
            "3/3 [==============================] - 0s 16ms/step - loss: 0.4323 - accuracy: 0.8507 - val_loss: 0.3969 - val_accuracy: 0.9394\n",
            "Epoch 153/200\n",
            "3/3 [==============================] - 0s 15ms/step - loss: 0.4301 - accuracy: 0.8507 - val_loss: 0.3948 - val_accuracy: 0.9394\n",
            "Epoch 154/200\n",
            "3/3 [==============================] - 0s 16ms/step - loss: 0.4280 - accuracy: 0.8507 - val_loss: 0.3926 - val_accuracy: 0.9394\n",
            "Epoch 155/200\n",
            "3/3 [==============================] - 0s 16ms/step - loss: 0.4258 - accuracy: 0.8507 - val_loss: 0.3905 - val_accuracy: 0.9394\n",
            "Epoch 156/200\n",
            "3/3 [==============================] - 0s 14ms/step - loss: 0.4236 - accuracy: 0.8507 - val_loss: 0.3883 - val_accuracy: 0.9394\n",
            "Epoch 157/200\n",
            "3/3 [==============================] - 0s 17ms/step - loss: 0.4214 - accuracy: 0.8507 - val_loss: 0.3862 - val_accuracy: 0.9394\n",
            "Epoch 158/200\n",
            "3/3 [==============================] - 0s 15ms/step - loss: 0.4192 - accuracy: 0.8507 - val_loss: 0.3841 - val_accuracy: 0.9394\n",
            "Epoch 159/200\n",
            "3/3 [==============================] - 0s 15ms/step - loss: 0.4172 - accuracy: 0.8507 - val_loss: 0.3821 - val_accuracy: 0.9394\n",
            "Epoch 160/200\n",
            "3/3 [==============================] - 0s 15ms/step - loss: 0.4151 - accuracy: 0.8507 - val_loss: 0.3802 - val_accuracy: 0.9394\n",
            "Epoch 161/200\n",
            "3/3 [==============================] - 0s 16ms/step - loss: 0.4131 - accuracy: 0.8507 - val_loss: 0.3783 - val_accuracy: 0.9394\n",
            "Epoch 162/200\n",
            "3/3 [==============================] - 0s 18ms/step - loss: 0.4112 - accuracy: 0.8657 - val_loss: 0.3764 - val_accuracy: 0.9394\n",
            "Epoch 163/200\n",
            "3/3 [==============================] - 0s 16ms/step - loss: 0.4093 - accuracy: 0.8657 - val_loss: 0.3744 - val_accuracy: 0.9394\n",
            "Epoch 164/200\n",
            "3/3 [==============================] - 0s 16ms/step - loss: 0.4073 - accuracy: 0.8657 - val_loss: 0.3725 - val_accuracy: 0.9394\n",
            "Epoch 165/200\n",
            "3/3 [==============================] - 0s 14ms/step - loss: 0.4053 - accuracy: 0.8657 - val_loss: 0.3705 - val_accuracy: 0.9394\n",
            "Epoch 166/200\n",
            "3/3 [==============================] - 0s 16ms/step - loss: 0.4034 - accuracy: 0.8657 - val_loss: 0.3686 - val_accuracy: 0.9394\n",
            "Epoch 167/200\n",
            "3/3 [==============================] - 0s 16ms/step - loss: 0.4014 - accuracy: 0.8657 - val_loss: 0.3666 - val_accuracy: 0.9394\n",
            "Epoch 168/200\n",
            "3/3 [==============================] - 0s 15ms/step - loss: 0.3995 - accuracy: 0.8657 - val_loss: 0.3647 - val_accuracy: 0.9394\n",
            "Epoch 169/200\n",
            "3/3 [==============================] - 0s 15ms/step - loss: 0.3976 - accuracy: 0.8806 - val_loss: 0.3629 - val_accuracy: 0.9394\n",
            "Epoch 170/200\n",
            "3/3 [==============================] - 0s 16ms/step - loss: 0.3958 - accuracy: 0.8806 - val_loss: 0.3610 - val_accuracy: 0.9394\n",
            "Epoch 171/200\n",
            "3/3 [==============================] - 0s 19ms/step - loss: 0.3939 - accuracy: 0.8806 - val_loss: 0.3591 - val_accuracy: 0.9394\n",
            "Epoch 172/200\n",
            "3/3 [==============================] - 0s 15ms/step - loss: 0.3920 - accuracy: 0.8806 - val_loss: 0.3573 - val_accuracy: 0.9394\n",
            "Epoch 173/200\n",
            "3/3 [==============================] - 0s 14ms/step - loss: 0.3901 - accuracy: 0.8806 - val_loss: 0.3555 - val_accuracy: 0.9394\n",
            "Epoch 174/200\n",
            "3/3 [==============================] - 0s 14ms/step - loss: 0.3883 - accuracy: 0.8806 - val_loss: 0.3537 - val_accuracy: 0.9394\n",
            "Epoch 175/200\n",
            "3/3 [==============================] - 0s 17ms/step - loss: 0.3864 - accuracy: 0.8806 - val_loss: 0.3519 - val_accuracy: 0.9394\n",
            "Epoch 176/200\n",
            "3/3 [==============================] - 0s 14ms/step - loss: 0.3845 - accuracy: 0.8806 - val_loss: 0.3500 - val_accuracy: 0.9394\n",
            "Epoch 177/200\n",
            "3/3 [==============================] - 0s 16ms/step - loss: 0.3826 - accuracy: 0.8806 - val_loss: 0.3482 - val_accuracy: 0.9394\n",
            "Epoch 178/200\n",
            "3/3 [==============================] - 0s 16ms/step - loss: 0.3808 - accuracy: 0.8806 - val_loss: 0.3463 - val_accuracy: 0.9394\n",
            "Epoch 179/200\n",
            "3/3 [==============================] - 0s 15ms/step - loss: 0.3788 - accuracy: 0.8955 - val_loss: 0.3445 - val_accuracy: 0.9394\n",
            "Epoch 180/200\n",
            "3/3 [==============================] - 0s 16ms/step - loss: 0.3769 - accuracy: 0.8955 - val_loss: 0.3427 - val_accuracy: 0.9394\n",
            "Epoch 181/200\n",
            "3/3 [==============================] - 0s 17ms/step - loss: 0.3751 - accuracy: 0.8955 - val_loss: 0.3409 - val_accuracy: 0.9697\n",
            "Epoch 182/200\n",
            "3/3 [==============================] - 0s 16ms/step - loss: 0.3733 - accuracy: 0.8955 - val_loss: 0.3391 - val_accuracy: 0.9697\n",
            "Epoch 183/200\n",
            "3/3 [==============================] - 0s 16ms/step - loss: 0.3715 - accuracy: 0.8955 - val_loss: 0.3374 - val_accuracy: 0.9697\n",
            "Epoch 184/200\n",
            "3/3 [==============================] - 0s 16ms/step - loss: 0.3698 - accuracy: 0.8955 - val_loss: 0.3357 - val_accuracy: 0.9697\n",
            "Epoch 185/200\n",
            "3/3 [==============================] - 0s 15ms/step - loss: 0.3681 - accuracy: 0.8955 - val_loss: 0.3341 - val_accuracy: 0.9697\n",
            "Epoch 186/200\n",
            "3/3 [==============================] - 0s 19ms/step - loss: 0.3664 - accuracy: 0.8955 - val_loss: 0.3325 - val_accuracy: 0.9697\n",
            "Epoch 187/200\n",
            "3/3 [==============================] - 0s 16ms/step - loss: 0.3647 - accuracy: 0.8955 - val_loss: 0.3310 - val_accuracy: 0.9697\n",
            "Epoch 188/200\n",
            "3/3 [==============================] - 0s 14ms/step - loss: 0.3630 - accuracy: 0.8955 - val_loss: 0.3294 - val_accuracy: 0.9697\n",
            "Epoch 189/200\n",
            "3/3 [==============================] - 0s 15ms/step - loss: 0.3613 - accuracy: 0.9254 - val_loss: 0.3279 - val_accuracy: 0.9697\n",
            "Epoch 190/200\n",
            "3/3 [==============================] - 0s 15ms/step - loss: 0.3598 - accuracy: 0.9254 - val_loss: 0.3263 - val_accuracy: 0.9697\n",
            "Epoch 191/200\n",
            "3/3 [==============================] - 0s 15ms/step - loss: 0.3581 - accuracy: 0.9254 - val_loss: 0.3248 - val_accuracy: 0.9697\n",
            "Epoch 192/200\n",
            "3/3 [==============================] - 0s 24ms/step - loss: 0.3565 - accuracy: 0.9254 - val_loss: 0.3232 - val_accuracy: 0.9697\n",
            "Epoch 193/200\n",
            "3/3 [==============================] - 0s 14ms/step - loss: 0.3549 - accuracy: 0.9254 - val_loss: 0.3217 - val_accuracy: 0.9697\n",
            "Epoch 194/200\n",
            "3/3 [==============================] - 0s 18ms/step - loss: 0.3533 - accuracy: 0.9254 - val_loss: 0.3202 - val_accuracy: 0.9697\n",
            "Epoch 195/200\n",
            "3/3 [==============================] - 0s 23ms/step - loss: 0.3518 - accuracy: 0.9254 - val_loss: 0.3187 - val_accuracy: 0.9697\n",
            "Epoch 196/200\n",
            "3/3 [==============================] - 0s 14ms/step - loss: 0.3502 - accuracy: 0.9254 - val_loss: 0.3171 - val_accuracy: 0.9697\n",
            "Epoch 197/200\n",
            "3/3 [==============================] - 0s 15ms/step - loss: 0.3486 - accuracy: 0.9254 - val_loss: 0.3154 - val_accuracy: 0.9697\n",
            "Epoch 198/200\n",
            "3/3 [==============================] - 0s 16ms/step - loss: 0.3470 - accuracy: 0.9403 - val_loss: 0.3138 - val_accuracy: 0.9697\n",
            "Epoch 199/200\n",
            "3/3 [==============================] - 0s 15ms/step - loss: 0.3453 - accuracy: 0.9403 - val_loss: 0.3122 - val_accuracy: 0.9697\n",
            "Epoch 200/200\n",
            "3/3 [==============================] - 0s 15ms/step - loss: 0.3437 - accuracy: 0.9403 - val_loss: 0.3106 - val_accuracy: 0.9697\n"
          ]
        }
      ]
    },
    {
      "cell_type": "code",
      "source": [
        "print('Train score', model.evaluate(X_train,y_train))\n",
        "print('Test score', model.evaluate(X_test,y_test))"
      ],
      "metadata": {
        "colab": {
          "base_uri": "https://localhost:8080/"
        },
        "id": "LxufoIwHMz7m",
        "outputId": "47182de4-be95-4628-a69d-3d8975dc6419"
      },
      "execution_count": 13,
      "outputs": [
        {
          "output_type": "stream",
          "name": "stdout",
          "text": [
            "3/3 [==============================] - 0s 9ms/step - loss: 0.3424 - accuracy: 0.9403\n",
            "Train score [0.342352032661438, 0.9402984976768494]\n",
            "2/2 [==============================] - 0s 7ms/step - loss: 0.3106 - accuracy: 0.9697\n",
            "Test score [0.3105735182762146, 0.9696969985961914]\n"
          ]
        }
      ]
    },
    {
      "cell_type": "code",
      "source": [
        "import matplotlib.pyplot as plt\n",
        "plt.plot(r.history['loss'],label ='loss')\n",
        "plt.plot(r.history['val_loss'],label ='val_loss')\n",
        "plt.legend()"
      ],
      "metadata": {
        "colab": {
          "base_uri": "https://localhost:8080/",
          "height": 282
        },
        "id": "2yk1ftePOWGs",
        "outputId": "d4c469b7-f169-4e77-bc7b-20e4f00a0e58"
      },
      "execution_count": 14,
      "outputs": [
        {
          "output_type": "execute_result",
          "data": {
            "text/plain": [
              "<matplotlib.legend.Legend at 0x7f88ffc94ed0>"
            ]
          },
          "metadata": {},
          "execution_count": 14
        },
        {
          "output_type": "display_data",
          "data": {
            "text/plain": [
              "<Figure size 432x288 with 1 Axes>"
            ],
            "image/png": "[encoded data removed]"
          },
          "metadata": {
            "needs_background": "light"
          }
        }
      ]
    },
    {
      "cell_type": "code",
      "source": [
        "plt.plot(r.history['accuracy'],label ='accuracy')\n",
        "plt.plot(r.history['val_accuracy'],label ='val_accuracy')\n",
        "plt.legend()"
      ],
      "metadata": {
        "colab": {
          "base_uri": "https://localhost:8080/",
          "height": 286
        },
        "id": "_EkLmfedOe43",
        "outputId": "da0f042f-fd7f-4ec1-aa51-40dc2d4f5c0c"
      },
      "execution_count": 15,
      "outputs": [
        {
          "output_type": "execute_result",
          "data": {
            "text/plain": [
              "<matplotlib.legend.Legend at 0x7f88fba59c50>"
            ]
          },
          "metadata": {},
          "execution_count": 15
        },
        {
          "output_type": "display_data",
          "data": {
            "text/plain": [
              "<Figure size 432x288 with 1 Axes>"
            ],
            "image/png": "[encoded data removed]"
          },
          "metadata": {
            "needs_background": "light"
          }
        }
      ]
    },
    {
      "cell_type": "code",
      "source": [
        "P = model.predict(X_test)\n",
        "print(P)"
      ],
      "metadata": {
        "colab": {
          "base_uri": "https://localhost:8080/"
        },
        "id": "MehtQGULwzxu",
        "outputId": "46a342c3-cd97-40f3-ca53-b40022c2a6ea"
      },
      "execution_count": 16,
      "outputs": [
        {
          "output_type": "stream",
          "name": "stdout",
          "text": [
            "[[0.90195   ]\n",
            " [0.38037896]\n",
            " [0.6149642 ]\n",
            " [0.32924587]\n",
            " [0.31949356]\n",
            " [0.58183837]\n",
            " [0.2543989 ]\n",
            " [0.21764669]\n",
            " [0.16980287]\n",
            " [0.73259175]\n",
            " [0.2289263 ]\n",
            " [0.28729182]\n",
            " [0.9049752 ]\n",
            " [0.6375998 ]\n",
            " [0.8744104 ]\n",
            " [0.20970899]\n",
            " [0.17934638]\n",
            " [0.12293184]\n",
            " [0.71177244]\n",
            " [0.24923897]\n",
            " [0.4590645 ]\n",
            " [0.65620065]\n",
            " [0.1665904 ]\n",
            " [0.08096433]\n",
            " [0.19530743]\n",
            " [0.77109456]\n",
            " [0.4103527 ]\n",
            " [0.27140516]\n",
            " [0.89201015]\n",
            " [0.3600503 ]\n",
            " [0.8790517 ]\n",
            " [0.08704317]\n",
            " [0.36372024]]\n"
          ]
        }
      ]
    },
    {
      "cell_type": "code",
      "source": [
        "import numpy as np\n",
        "\n",
        "P = np.round(P).flatten()\n",
        "print(P)"
      ],
      "metadata": {
        "colab": {
          "base_uri": "https://localhost:8080/"
        },
        "id": "mkHlaOzYxPZY",
        "outputId": "3ab12980-bc6b-49fe-83cd-b1192d144672"
      },
      "execution_count": 20,
      "outputs": [
        {
          "output_type": "stream",
          "name": "stdout",
          "text": [
            "[1. 0. 1. 0. 0. 1. 0. 0. 0. 1. 0. 0. 1. 1. 1. 0. 0. 0. 1. 0. 0. 1. 0. 0.\n",
            " 0. 1. 0. 0. 1. 0. 1. 0. 0.]\n"
          ]
        }
      ]
    },
    {
      "cell_type": "code",
      "source": [
        "print(\"Mannualy calculated accuracy:\", np.mean(P == y_test))\n",
        "print(\"Evaluate output:\", model.evaluate(X_test, y_test))"
      ],
      "metadata": {
        "colab": {
          "base_uri": "https://localhost:8080/"
        },
        "id": "MPqfWuzlzcPh",
        "outputId": "d10ca2fe-4104-4c24-8087-94fef2454a83"
      },
      "execution_count": 21,
      "outputs": [
        {
          "output_type": "stream",
          "name": "stdout",
          "text": [
            "Mannualy calculated accuracy: 0.9696969696969697\n",
            "2/2 [==============================] - 0s 7ms/step - loss: 0.3106 - accuracy: 0.9697\n",
            "Evaluate output: [0.3105735182762146, 0.9696969985961914]\n"
          ]
        }
      ]
    }
  ]
}