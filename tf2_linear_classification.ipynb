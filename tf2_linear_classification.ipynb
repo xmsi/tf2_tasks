{
  "nbformat": 4,
  "nbformat_minor": 0,
  "metadata": {
    "colab": {
      "name": "tf2_linear_classification.ipynb",
      "provenance": [],
      "collapsed_sections": [],
      "mount_file_id": "1bU-_KuSSMT6PZiajmIhHXXbhhj-THsPe",
      "authorship_tag": "ABX9TyMPl8M4H3bDT7QfrA8hytfJ",
      "include_colab_link": true
    },
    "kernelspec": {
      "name": "python3",
      "display_name": "Python 3"
    },
    "language_info": {
      "name": "python"
    }
  },
  "cells": [
    {
      "cell_type": "markdown",
      "metadata": {
        "id": "view-in-github",
        "colab_type": "text"
      },
      "source": [
        "<a href=\"https://colab.research.google.com/github/xmsi/tf2_tasks/blob/main/tf2_linear_classification.ipynb\" target=\"_parent\"><img src=\"https://colab.research.google.com/assets/colab-badge.svg\" alt=\"Open In Colab\"/></a>"
      ]
    },
    {
      "cell_type": "code",
      "execution_count": null,
      "metadata": {
        "id": "MTghGvCUBsJe"
      },
      "outputs": [],
      "source": [
        "from sklearn.datasets import load_iris"
      ]
    },
    {
      "cell_type": "code",
      "source": [
        "data = load_iris()"
      ],
      "metadata": {
        "id": "EYy4qh6UB84l"
      },
      "execution_count": null,
      "outputs": []
    },
    {
      "cell_type": "code",
      "source": [
        "type(data)"
      ],
      "metadata": {
        "colab": {
          "base_uri": "https://localhost:8080/"
        },
        "id": "d33m9XrvDb6s",
        "outputId": "ce7b7ce4-b12a-4456-f756-2d13372d34e7"
      },
      "execution_count": null,
      "outputs": [
        {
          "output_type": "execute_result",
          "data": {
            "text/plain": [
              "sklearn.utils.Bunch"
            ]
          },
          "metadata": {},
          "execution_count": 3
        }
      ]
    },
    {
      "cell_type": "code",
      "source": [
        "data.keys()"
      ],
      "metadata": {
        "colab": {
          "base_uri": "https://localhost:8080/"
        },
        "id": "OG73Vsx1DiI2",
        "outputId": "b7e3eb25-272e-4aa1-8b6b-3338802987c6"
      },
      "execution_count": null,
      "outputs": [
        {
          "output_type": "execute_result",
          "data": {
            "text/plain": [
              "dict_keys(['data', 'target', 'frame', 'target_names', 'DESCR', 'feature_names', 'filename', 'data_module'])"
            ]
          },
          "metadata": {},
          "execution_count": 4
        }
      ]
    },
    {
      "cell_type": "code",
      "source": [
        "data.data.shape\n",
        "\n",
        "# 150 items 4 features X"
      ],
      "metadata": {
        "colab": {
          "base_uri": "https://localhost:8080/"
        },
        "id": "AVWnjBnJDrdX",
        "outputId": "cc5427d0-5dc0-4cb1-a2a7-5b4d1ef6f9d5"
      },
      "execution_count": null,
      "outputs": [
        {
          "output_type": "execute_result",
          "data": {
            "text/plain": [
              "(150, 4)"
            ]
          },
          "metadata": {},
          "execution_count": 5
        }
      ]
    },
    {
      "cell_type": "code",
      "source": [
        "data.target[0:100]\n",
        "\n",
        "# only 0 and 1 in 0:100 Y"
      ],
      "metadata": {
        "colab": {
          "base_uri": "https://localhost:8080/"
        },
        "id": "y9KY1rExDyQV",
        "outputId": "e0549369-f13b-4a94-e2bc-ece1dc3f92d6"
      },
      "execution_count": null,
      "outputs": [
        {
          "output_type": "execute_result",
          "data": {
            "text/plain": [
              "array([0, 0, 0, 0, 0, 0, 0, 0, 0, 0, 0, 0, 0, 0, 0, 0, 0, 0, 0, 0, 0, 0,\n",
              "       0, 0, 0, 0, 0, 0, 0, 0, 0, 0, 0, 0, 0, 0, 0, 0, 0, 0, 0, 0, 0, 0,\n",
              "       0, 0, 0, 0, 0, 0, 1, 1, 1, 1, 1, 1, 1, 1, 1, 1, 1, 1, 1, 1, 1, 1,\n",
              "       1, 1, 1, 1, 1, 1, 1, 1, 1, 1, 1, 1, 1, 1, 1, 1, 1, 1, 1, 1, 1, 1,\n",
              "       1, 1, 1, 1, 1, 1, 1, 1, 1, 1, 1, 1])"
            ]
          },
          "metadata": {},
          "execution_count": 6
        }
      ]
    },
    {
      "cell_type": "code",
      "source": [
        "data.target_names"
      ],
      "metadata": {
        "colab": {
          "base_uri": "https://localhost:8080/"
        },
        "id": "Cb_KvKHIEHci",
        "outputId": "f5ab81f9-42ce-4d55-ba71-cd9428536aea"
      },
      "execution_count": null,
      "outputs": [
        {
          "output_type": "execute_result",
          "data": {
            "text/plain": [
              "array(['setosa', 'versicolor', 'virginica'], dtype='<U10')"
            ]
          },
          "metadata": {},
          "execution_count": 7
        }
      ]
    },
    {
      "cell_type": "code",
      "source": [
        "data.feature_names"
      ],
      "metadata": {
        "colab": {
          "base_uri": "https://localhost:8080/"
        },
        "id": "nzmI5ecpEaur",
        "outputId": "1343aab3-5b72-45ce-a3e6-1d7b5db769bf"
      },
      "execution_count": null,
      "outputs": [
        {
          "output_type": "execute_result",
          "data": {
            "text/plain": [
              "['sepal length (cm)',\n",
              " 'sepal width (cm)',\n",
              " 'petal length (cm)',\n",
              " 'petal width (cm)']"
            ]
          },
          "metadata": {},
          "execution_count": 8
        }
      ]
    },
    {
      "cell_type": "code",
      "source": [
        "from sklearn.model_selection import train_test_split\n",
        "\n",
        "X_train, X_test, y_train, y_test = train_test_split(data.data[0:100], data.target[0:100], test_size=0.33)\n",
        "N, D = X_train.shape "
      ],
      "metadata": {
        "id": "ng7JBDpLEkaB"
      },
      "execution_count": null,
      "outputs": []
    },
    {
      "cell_type": "code",
      "source": [
        "D"
      ],
      "metadata": {
        "colab": {
          "base_uri": "https://localhost:8080/"
        },
        "id": "YVv-_85yFJRJ",
        "outputId": "b83e81d0-d982-4688-ab46-0da4503ac841"
      },
      "execution_count": null,
      "outputs": [
        {
          "output_type": "execute_result",
          "data": {
            "text/plain": [
              "4"
            ]
          },
          "metadata": {},
          "execution_count": 10
        }
      ]
    },
    {
      "cell_type": "code",
      "source": [
        "from sklearn.preprocessing import StandardScaler\n",
        "\n",
        "scaler = StandardScaler()\n",
        "X_train = scaler.fit_transform(X_train)\n",
        "X_test = scaler.transform(X_test)"
      ],
      "metadata": {
        "id": "kZ3lNVk1FRsX"
      },
      "execution_count": null,
      "outputs": []
    },
    {
      "cell_type": "code",
      "source": [
        "#tf2 works here!\n",
        "import tensorflow as tf\n",
        "\n",
        "model = tf.keras.models.Sequential([\n",
        "                         tf.keras.layers.Input(shape=(D,)),\n",
        "                         tf.keras.layers.Dense(1, activation='sigmoid')          \n",
        "])\n",
        "\n",
        "#model = tf.keras.models.Sequential()\n",
        "#model.add(tf.keras.layers.Dense(1, input_shape=(D,), activation='sigmoid'))\n",
        "\n",
        "model.compile(optimizer='adam',\n",
        "              loss='binary_crossentropy',\n",
        "              metrics=['accuracy'])\n",
        "\n",
        "r = model.fit(X_train, y_train, validation_data=(X_test, y_test), epochs=200)"
      ],
      "metadata": {
        "colab": {
          "base_uri": "https://localhost:8080/"
        },
        "id": "3NNTyD9UFjKo",
        "outputId": "194eefd7-9b8f-433b-fbe5-b0f8d8352a19"
      },
      "execution_count": null,
      "outputs": [
        {
          "output_type": "stream",
          "name": "stdout",
          "text": [
            "Epoch 1/200\n",
            "3/3 [==============================] - 1s 77ms/step - loss: 0.8883 - accuracy: 0.0299 - val_loss: 0.9182 - val_accuracy: 0.0000e+00\n",
            "Epoch 2/200\n",
            "3/3 [==============================] - 0s 16ms/step - loss: 0.8824 - accuracy: 0.0299 - val_loss: 0.9118 - val_accuracy: 0.0000e+00\n",
            "Epoch 3/200\n",
            "3/3 [==============================] - 0s 15ms/step - loss: 0.8765 - accuracy: 0.0299 - val_loss: 0.9056 - val_accuracy: 0.0000e+00\n",
            "Epoch 4/200\n",
            "3/3 [==============================] - 0s 16ms/step - loss: 0.8707 - accuracy: 0.0299 - val_loss: 0.8993 - val_accuracy: 0.0000e+00\n",
            "Epoch 5/200\n",
            "3/3 [==============================] - 0s 18ms/step - loss: 0.8649 - accuracy: 0.0448 - val_loss: 0.8930 - val_accuracy: 0.0000e+00\n",
            "Epoch 6/200\n",
            "3/3 [==============================] - 0s 14ms/step - loss: 0.8592 - accuracy: 0.0597 - val_loss: 0.8868 - val_accuracy: 0.0000e+00\n",
            "Epoch 7/200\n",
            "3/3 [==============================] - 0s 14ms/step - loss: 0.8534 - accuracy: 0.0597 - val_loss: 0.8804 - val_accuracy: 0.0000e+00\n",
            "Epoch 8/200\n",
            "3/3 [==============================] - 0s 15ms/step - loss: 0.8478 - accuracy: 0.0597 - val_loss: 0.8742 - val_accuracy: 0.0000e+00\n",
            "Epoch 9/200\n",
            "3/3 [==============================] - 0s 18ms/step - loss: 0.8421 - accuracy: 0.0597 - val_loss: 0.8680 - val_accuracy: 0.0303\n",
            "Epoch 10/200\n",
            "3/3 [==============================] - 0s 14ms/step - loss: 0.8365 - accuracy: 0.0597 - val_loss: 0.8619 - val_accuracy: 0.0303\n",
            "Epoch 11/200\n",
            "3/3 [==============================] - 0s 16ms/step - loss: 0.8309 - accuracy: 0.0746 - val_loss: 0.8557 - val_accuracy: 0.0303\n",
            "Epoch 12/200\n",
            "3/3 [==============================] - 0s 18ms/step - loss: 0.8254 - accuracy: 0.0746 - val_loss: 0.8497 - val_accuracy: 0.0606\n",
            "Epoch 13/200\n",
            "3/3 [==============================] - 0s 17ms/step - loss: 0.8199 - accuracy: 0.0896 - val_loss: 0.8437 - val_accuracy: 0.0606\n",
            "Epoch 14/200\n",
            "3/3 [==============================] - 0s 15ms/step - loss: 0.8144 - accuracy: 0.1045 - val_loss: 0.8377 - val_accuracy: 0.0606\n",
            "Epoch 15/200\n",
            "3/3 [==============================] - 0s 16ms/step - loss: 0.8090 - accuracy: 0.1194 - val_loss: 0.8318 - val_accuracy: 0.0909\n",
            "Epoch 16/200\n",
            "3/3 [==============================] - 0s 16ms/step - loss: 0.8036 - accuracy: 0.1343 - val_loss: 0.8259 - val_accuracy: 0.0909\n",
            "Epoch 17/200\n",
            "3/3 [==============================] - 0s 15ms/step - loss: 0.7983 - accuracy: 0.1343 - val_loss: 0.8201 - val_accuracy: 0.0909\n",
            "Epoch 18/200\n",
            "3/3 [==============================] - 0s 15ms/step - loss: 0.7931 - accuracy: 0.1642 - val_loss: 0.8144 - val_accuracy: 0.0909\n",
            "Epoch 19/200\n",
            "3/3 [==============================] - 0s 15ms/step - loss: 0.7878 - accuracy: 0.1642 - val_loss: 0.8088 - val_accuracy: 0.0909\n",
            "Epoch 20/200\n",
            "3/3 [==============================] - 0s 15ms/step - loss: 0.7826 - accuracy: 0.1940 - val_loss: 0.8031 - val_accuracy: 0.0909\n",
            "Epoch 21/200\n",
            "3/3 [==============================] - 0s 15ms/step - loss: 0.7774 - accuracy: 0.1940 - val_loss: 0.7974 - val_accuracy: 0.0909\n",
            "Epoch 22/200\n",
            "3/3 [==============================] - 0s 17ms/step - loss: 0.7723 - accuracy: 0.1940 - val_loss: 0.7916 - val_accuracy: 0.0909\n",
            "Epoch 23/200\n",
            "3/3 [==============================] - 0s 14ms/step - loss: 0.7670 - accuracy: 0.2090 - val_loss: 0.7857 - val_accuracy: 0.1212\n",
            "Epoch 24/200\n",
            "3/3 [==============================] - 0s 15ms/step - loss: 0.7619 - accuracy: 0.2090 - val_loss: 0.7799 - val_accuracy: 0.1515\n",
            "Epoch 25/200\n",
            "3/3 [==============================] - 0s 15ms/step - loss: 0.7568 - accuracy: 0.2090 - val_loss: 0.7742 - val_accuracy: 0.1818\n",
            "Epoch 26/200\n",
            "3/3 [==============================] - 0s 13ms/step - loss: 0.7517 - accuracy: 0.2537 - val_loss: 0.7686 - val_accuracy: 0.2121\n",
            "Epoch 27/200\n",
            "3/3 [==============================] - 0s 14ms/step - loss: 0.7467 - accuracy: 0.2687 - val_loss: 0.7631 - val_accuracy: 0.2424\n",
            "Epoch 28/200\n",
            "3/3 [==============================] - 0s 14ms/step - loss: 0.7417 - accuracy: 0.2985 - val_loss: 0.7576 - val_accuracy: 0.2727\n",
            "Epoch 29/200\n",
            "3/3 [==============================] - 0s 16ms/step - loss: 0.7368 - accuracy: 0.3433 - val_loss: 0.7520 - val_accuracy: 0.2727\n",
            "Epoch 30/200\n",
            "3/3 [==============================] - 0s 15ms/step - loss: 0.7319 - accuracy: 0.3582 - val_loss: 0.7465 - val_accuracy: 0.2727\n",
            "Epoch 31/200\n",
            "3/3 [==============================] - 0s 18ms/step - loss: 0.7271 - accuracy: 0.3582 - val_loss: 0.7412 - val_accuracy: 0.3030\n",
            "Epoch 32/200\n",
            "3/3 [==============================] - 0s 16ms/step - loss: 0.7224 - accuracy: 0.3731 - val_loss: 0.7360 - val_accuracy: 0.3333\n",
            "Epoch 33/200\n",
            "3/3 [==============================] - 0s 17ms/step - loss: 0.7177 - accuracy: 0.4179 - val_loss: 0.7307 - val_accuracy: 0.3333\n",
            "Epoch 34/200\n",
            "3/3 [==============================] - 0s 18ms/step - loss: 0.7130 - accuracy: 0.4328 - val_loss: 0.7256 - val_accuracy: 0.3636\n",
            "Epoch 35/200\n",
            "3/3 [==============================] - 0s 15ms/step - loss: 0.7084 - accuracy: 0.4478 - val_loss: 0.7206 - val_accuracy: 0.3636\n",
            "Epoch 36/200\n",
            "3/3 [==============================] - 0s 16ms/step - loss: 0.7038 - accuracy: 0.4627 - val_loss: 0.7154 - val_accuracy: 0.3939\n",
            "Epoch 37/200\n",
            "3/3 [==============================] - 0s 15ms/step - loss: 0.6992 - accuracy: 0.5075 - val_loss: 0.7104 - val_accuracy: 0.4242\n",
            "Epoch 38/200\n",
            "3/3 [==============================] - 0s 16ms/step - loss: 0.6947 - accuracy: 0.5075 - val_loss: 0.7054 - val_accuracy: 0.4848\n",
            "Epoch 39/200\n",
            "3/3 [==============================] - 0s 16ms/step - loss: 0.6902 - accuracy: 0.5075 - val_loss: 0.7003 - val_accuracy: 0.4848\n",
            "Epoch 40/200\n",
            "3/3 [==============================] - 0s 17ms/step - loss: 0.6857 - accuracy: 0.5373 - val_loss: 0.6955 - val_accuracy: 0.4848\n",
            "Epoch 41/200\n",
            "3/3 [==============================] - 0s 15ms/step - loss: 0.6812 - accuracy: 0.5522 - val_loss: 0.6907 - val_accuracy: 0.4848\n",
            "Epoch 42/200\n",
            "3/3 [==============================] - 0s 14ms/step - loss: 0.6769 - accuracy: 0.5672 - val_loss: 0.6860 - val_accuracy: 0.5152\n",
            "Epoch 43/200\n",
            "3/3 [==============================] - 0s 16ms/step - loss: 0.6727 - accuracy: 0.5970 - val_loss: 0.6813 - val_accuracy: 0.5758\n",
            "Epoch 44/200\n",
            "3/3 [==============================] - 0s 21ms/step - loss: 0.6684 - accuracy: 0.6119 - val_loss: 0.6766 - val_accuracy: 0.5758\n",
            "Epoch 45/200\n",
            "3/3 [==============================] - 0s 20ms/step - loss: 0.6642 - accuracy: 0.6269 - val_loss: 0.6719 - val_accuracy: 0.6364\n",
            "Epoch 46/200\n",
            "3/3 [==============================] - 0s 15ms/step - loss: 0.6600 - accuracy: 0.6567 - val_loss: 0.6674 - val_accuracy: 0.6364\n",
            "Epoch 47/200\n",
            "3/3 [==============================] - 0s 16ms/step - loss: 0.6557 - accuracy: 0.6866 - val_loss: 0.6627 - val_accuracy: 0.6364\n",
            "Epoch 48/200\n",
            "3/3 [==============================] - 0s 17ms/step - loss: 0.6516 - accuracy: 0.7015 - val_loss: 0.6580 - val_accuracy: 0.6667\n",
            "Epoch 49/200\n",
            "3/3 [==============================] - 0s 17ms/step - loss: 0.6474 - accuracy: 0.7015 - val_loss: 0.6533 - val_accuracy: 0.7273\n",
            "Epoch 50/200\n",
            "3/3 [==============================] - 0s 15ms/step - loss: 0.6432 - accuracy: 0.7612 - val_loss: 0.6487 - val_accuracy: 0.7273\n",
            "Epoch 51/200\n",
            "3/3 [==============================] - 0s 15ms/step - loss: 0.6391 - accuracy: 0.7612 - val_loss: 0.6441 - val_accuracy: 0.7879\n",
            "Epoch 52/200\n",
            "3/3 [==============================] - 0s 16ms/step - loss: 0.6349 - accuracy: 0.7761 - val_loss: 0.6397 - val_accuracy: 0.8182\n",
            "Epoch 53/200\n",
            "3/3 [==============================] - 0s 15ms/step - loss: 0.6308 - accuracy: 0.8060 - val_loss: 0.6352 - val_accuracy: 0.8788\n",
            "Epoch 54/200\n",
            "3/3 [==============================] - 0s 14ms/step - loss: 0.6268 - accuracy: 0.8358 - val_loss: 0.6308 - val_accuracy: 0.8788\n",
            "Epoch 55/200\n",
            "3/3 [==============================] - 0s 14ms/step - loss: 0.6228 - accuracy: 0.8657 - val_loss: 0.6262 - val_accuracy: 0.8788\n",
            "Epoch 56/200\n",
            "3/3 [==============================] - 0s 16ms/step - loss: 0.6189 - accuracy: 0.8806 - val_loss: 0.6217 - val_accuracy: 0.8788\n",
            "Epoch 57/200\n",
            "3/3 [==============================] - 0s 15ms/step - loss: 0.6150 - accuracy: 0.8806 - val_loss: 0.6173 - val_accuracy: 0.9091\n",
            "Epoch 58/200\n",
            "3/3 [==============================] - 0s 15ms/step - loss: 0.6111 - accuracy: 0.8806 - val_loss: 0.6130 - val_accuracy: 0.9091\n",
            "Epoch 59/200\n",
            "3/3 [==============================] - 0s 15ms/step - loss: 0.6073 - accuracy: 0.8955 - val_loss: 0.6087 - val_accuracy: 0.9091\n",
            "Epoch 60/200\n",
            "3/3 [==============================] - 0s 15ms/step - loss: 0.6035 - accuracy: 0.9254 - val_loss: 0.6046 - val_accuracy: 0.9091\n",
            "Epoch 61/200\n",
            "3/3 [==============================] - 0s 19ms/step - loss: 0.5997 - accuracy: 0.9403 - val_loss: 0.6006 - val_accuracy: 0.9394\n",
            "Epoch 62/200\n",
            "3/3 [==============================] - 0s 14ms/step - loss: 0.5959 - accuracy: 0.9403 - val_loss: 0.5965 - val_accuracy: 0.9697\n",
            "Epoch 63/200\n",
            "3/3 [==============================] - 0s 15ms/step - loss: 0.5921 - accuracy: 0.9403 - val_loss: 0.5924 - val_accuracy: 0.9697\n",
            "Epoch 64/200\n",
            "3/3 [==============================] - 0s 16ms/step - loss: 0.5884 - accuracy: 0.9403 - val_loss: 0.5883 - val_accuracy: 0.9697\n",
            "Epoch 65/200\n",
            "3/3 [==============================] - 0s 16ms/step - loss: 0.5846 - accuracy: 0.9403 - val_loss: 0.5842 - val_accuracy: 0.9697\n",
            "Epoch 66/200\n",
            "3/3 [==============================] - 0s 15ms/step - loss: 0.5809 - accuracy: 0.9552 - val_loss: 0.5802 - val_accuracy: 0.9697\n",
            "Epoch 67/200\n",
            "3/3 [==============================] - 0s 17ms/step - loss: 0.5771 - accuracy: 0.9552 - val_loss: 0.5761 - val_accuracy: 0.9697\n",
            "Epoch 68/200\n",
            "3/3 [==============================] - 0s 13ms/step - loss: 0.5734 - accuracy: 0.9552 - val_loss: 0.5721 - val_accuracy: 0.9697\n",
            "Epoch 69/200\n",
            "3/3 [==============================] - 0s 16ms/step - loss: 0.5698 - accuracy: 0.9701 - val_loss: 0.5683 - val_accuracy: 0.9697\n",
            "Epoch 70/200\n",
            "3/3 [==============================] - 0s 15ms/step - loss: 0.5662 - accuracy: 0.9701 - val_loss: 0.5644 - val_accuracy: 0.9697\n",
            "Epoch 71/200\n",
            "3/3 [==============================] - 0s 17ms/step - loss: 0.5626 - accuracy: 0.9701 - val_loss: 0.5606 - val_accuracy: 0.9697\n",
            "Epoch 72/200\n",
            "3/3 [==============================] - 0s 14ms/step - loss: 0.5591 - accuracy: 0.9851 - val_loss: 0.5569 - val_accuracy: 0.9697\n",
            "Epoch 73/200\n",
            "3/3 [==============================] - 0s 16ms/step - loss: 0.5555 - accuracy: 0.9851 - val_loss: 0.5533 - val_accuracy: 0.9697\n",
            "Epoch 74/200\n",
            "3/3 [==============================] - 0s 17ms/step - loss: 0.5521 - accuracy: 0.9851 - val_loss: 0.5496 - val_accuracy: 0.9697\n",
            "Epoch 75/200\n",
            "3/3 [==============================] - 0s 14ms/step - loss: 0.5486 - accuracy: 0.9851 - val_loss: 0.5460 - val_accuracy: 0.9697\n",
            "Epoch 76/200\n",
            "3/3 [==============================] - 0s 15ms/step - loss: 0.5452 - accuracy: 0.9851 - val_loss: 0.5424 - val_accuracy: 0.9697\n",
            "Epoch 77/200\n",
            "3/3 [==============================] - 0s 16ms/step - loss: 0.5418 - accuracy: 0.9851 - val_loss: 0.5388 - val_accuracy: 0.9697\n",
            "Epoch 78/200\n",
            "3/3 [==============================] - 0s 14ms/step - loss: 0.5384 - accuracy: 0.9851 - val_loss: 0.5353 - val_accuracy: 0.9697\n",
            "Epoch 79/200\n",
            "3/3 [==============================] - 0s 15ms/step - loss: 0.5350 - accuracy: 0.9851 - val_loss: 0.5318 - val_accuracy: 0.9697\n",
            "Epoch 80/200\n",
            "3/3 [==============================] - 0s 17ms/step - loss: 0.5317 - accuracy: 0.9851 - val_loss: 0.5282 - val_accuracy: 0.9697\n",
            "Epoch 81/200\n",
            "3/3 [==============================] - 0s 15ms/step - loss: 0.5284 - accuracy: 0.9851 - val_loss: 0.5247 - val_accuracy: 0.9697\n",
            "Epoch 82/200\n",
            "3/3 [==============================] - 0s 15ms/step - loss: 0.5252 - accuracy: 0.9851 - val_loss: 0.5211 - val_accuracy: 0.9697\n",
            "Epoch 83/200\n",
            "3/3 [==============================] - 0s 16ms/step - loss: 0.5219 - accuracy: 0.9851 - val_loss: 0.5176 - val_accuracy: 1.0000\n",
            "Epoch 84/200\n",
            "3/3 [==============================] - 0s 15ms/step - loss: 0.5187 - accuracy: 0.9851 - val_loss: 0.5141 - val_accuracy: 1.0000\n",
            "Epoch 85/200\n",
            "3/3 [==============================] - 0s 16ms/step - loss: 0.5155 - accuracy: 0.9851 - val_loss: 0.5107 - val_accuracy: 1.0000\n",
            "Epoch 86/200\n",
            "3/3 [==============================] - 0s 15ms/step - loss: 0.5123 - accuracy: 0.9851 - val_loss: 0.5072 - val_accuracy: 1.0000\n",
            "Epoch 87/200\n",
            "3/3 [==============================] - 0s 15ms/step - loss: 0.5090 - accuracy: 0.9851 - val_loss: 0.5037 - val_accuracy: 1.0000\n",
            "Epoch 88/200\n",
            "3/3 [==============================] - 0s 16ms/step - loss: 0.5059 - accuracy: 0.9851 - val_loss: 0.5001 - val_accuracy: 1.0000\n",
            "Epoch 89/200\n",
            "3/3 [==============================] - 0s 17ms/step - loss: 0.5027 - accuracy: 0.9851 - val_loss: 0.4967 - val_accuracy: 1.0000\n",
            "Epoch 90/200\n",
            "3/3 [==============================] - 0s 16ms/step - loss: 0.4997 - accuracy: 0.9851 - val_loss: 0.4934 - val_accuracy: 1.0000\n",
            "Epoch 91/200\n",
            "3/3 [==============================] - 0s 17ms/step - loss: 0.4966 - accuracy: 0.9851 - val_loss: 0.4901 - val_accuracy: 1.0000\n",
            "Epoch 92/200\n",
            "3/3 [==============================] - 0s 18ms/step - loss: 0.4937 - accuracy: 0.9851 - val_loss: 0.4869 - val_accuracy: 1.0000\n",
            "Epoch 93/200\n",
            "3/3 [==============================] - 0s 17ms/step - loss: 0.4907 - accuracy: 0.9851 - val_loss: 0.4837 - val_accuracy: 1.0000\n",
            "Epoch 94/200\n",
            "3/3 [==============================] - 0s 15ms/step - loss: 0.4878 - accuracy: 0.9851 - val_loss: 0.4805 - val_accuracy: 1.0000\n",
            "Epoch 95/200\n",
            "3/3 [==============================] - 0s 14ms/step - loss: 0.4849 - accuracy: 0.9851 - val_loss: 0.4774 - val_accuracy: 1.0000\n",
            "Epoch 96/200\n",
            "3/3 [==============================] - 0s 17ms/step - loss: 0.4820 - accuracy: 0.9851 - val_loss: 0.4743 - val_accuracy: 1.0000\n",
            "Epoch 97/200\n",
            "3/3 [==============================] - 0s 17ms/step - loss: 0.4791 - accuracy: 0.9851 - val_loss: 0.4713 - val_accuracy: 1.0000\n",
            "Epoch 98/200\n",
            "3/3 [==============================] - 0s 17ms/step - loss: 0.4762 - accuracy: 0.9851 - val_loss: 0.4681 - val_accuracy: 1.0000\n",
            "Epoch 99/200\n",
            "3/3 [==============================] - 0s 16ms/step - loss: 0.4734 - accuracy: 0.9851 - val_loss: 0.4650 - val_accuracy: 1.0000\n",
            "Epoch 100/200\n",
            "3/3 [==============================] - 0s 14ms/step - loss: 0.4705 - accuracy: 0.9851 - val_loss: 0.4619 - val_accuracy: 1.0000\n",
            "Epoch 101/200\n",
            "3/3 [==============================] - 0s 18ms/step - loss: 0.4677 - accuracy: 0.9851 - val_loss: 0.4589 - val_accuracy: 1.0000\n",
            "Epoch 102/200\n",
            "3/3 [==============================] - 0s 15ms/step - loss: 0.4649 - accuracy: 0.9851 - val_loss: 0.4560 - val_accuracy: 1.0000\n",
            "Epoch 103/200\n",
            "3/3 [==============================] - 0s 15ms/step - loss: 0.4621 - accuracy: 0.9851 - val_loss: 0.4532 - val_accuracy: 1.0000\n",
            "Epoch 104/200\n",
            "3/3 [==============================] - 0s 16ms/step - loss: 0.4594 - accuracy: 0.9851 - val_loss: 0.4504 - val_accuracy: 1.0000\n",
            "Epoch 105/200\n",
            "3/3 [==============================] - 0s 23ms/step - loss: 0.4567 - accuracy: 0.9851 - val_loss: 0.4476 - val_accuracy: 1.0000\n",
            "Epoch 106/200\n",
            "3/3 [==============================] - 0s 15ms/step - loss: 0.4540 - accuracy: 0.9851 - val_loss: 0.4447 - val_accuracy: 1.0000\n",
            "Epoch 107/200\n",
            "3/3 [==============================] - 0s 17ms/step - loss: 0.4514 - accuracy: 0.9851 - val_loss: 0.4419 - val_accuracy: 1.0000\n",
            "Epoch 108/200\n",
            "3/3 [==============================] - 0s 17ms/step - loss: 0.4487 - accuracy: 0.9851 - val_loss: 0.4389 - val_accuracy: 1.0000\n",
            "Epoch 109/200\n",
            "3/3 [==============================] - 0s 15ms/step - loss: 0.4461 - accuracy: 0.9851 - val_loss: 0.4359 - val_accuracy: 1.0000\n",
            "Epoch 110/200\n",
            "3/3 [==============================] - 0s 17ms/step - loss: 0.4434 - accuracy: 0.9851 - val_loss: 0.4330 - val_accuracy: 1.0000\n",
            "Epoch 111/200\n",
            "3/3 [==============================] - 0s 20ms/step - loss: 0.4409 - accuracy: 0.9851 - val_loss: 0.4301 - val_accuracy: 1.0000\n",
            "Epoch 112/200\n",
            "3/3 [==============================] - 0s 16ms/step - loss: 0.4383 - accuracy: 1.0000 - val_loss: 0.4271 - val_accuracy: 1.0000\n",
            "Epoch 113/200\n",
            "3/3 [==============================] - 0s 14ms/step - loss: 0.4357 - accuracy: 1.0000 - val_loss: 0.4243 - val_accuracy: 1.0000\n",
            "Epoch 114/200\n",
            "3/3 [==============================] - 0s 23ms/step - loss: 0.4332 - accuracy: 1.0000 - val_loss: 0.4215 - val_accuracy: 1.0000\n",
            "Epoch 115/200\n",
            "3/3 [==============================] - 0s 14ms/step - loss: 0.4306 - accuracy: 1.0000 - val_loss: 0.4188 - val_accuracy: 1.0000\n",
            "Epoch 116/200\n",
            "3/3 [==============================] - 0s 15ms/step - loss: 0.4281 - accuracy: 1.0000 - val_loss: 0.4161 - val_accuracy: 1.0000\n",
            "Epoch 117/200\n",
            "3/3 [==============================] - 0s 15ms/step - loss: 0.4256 - accuracy: 1.0000 - val_loss: 0.4136 - val_accuracy: 1.0000\n",
            "Epoch 118/200\n",
            "3/3 [==============================] - 0s 15ms/step - loss: 0.4232 - accuracy: 1.0000 - val_loss: 0.4110 - val_accuracy: 1.0000\n",
            "Epoch 119/200\n",
            "3/3 [==============================] - 0s 14ms/step - loss: 0.4208 - accuracy: 1.0000 - val_loss: 0.4084 - val_accuracy: 1.0000\n",
            "Epoch 120/200\n",
            "3/3 [==============================] - 0s 14ms/step - loss: 0.4183 - accuracy: 1.0000 - val_loss: 0.4059 - val_accuracy: 1.0000\n",
            "Epoch 121/200\n",
            "3/3 [==============================] - 0s 15ms/step - loss: 0.4159 - accuracy: 1.0000 - val_loss: 0.4034 - val_accuracy: 1.0000\n",
            "Epoch 122/200\n",
            "3/3 [==============================] - 0s 16ms/step - loss: 0.4135 - accuracy: 1.0000 - val_loss: 0.4008 - val_accuracy: 1.0000\n",
            "Epoch 123/200\n",
            "3/3 [==============================] - 0s 16ms/step - loss: 0.4111 - accuracy: 1.0000 - val_loss: 0.3983 - val_accuracy: 1.0000\n",
            "Epoch 124/200\n",
            "3/3 [==============================] - 0s 14ms/step - loss: 0.4087 - accuracy: 1.0000 - val_loss: 0.3958 - val_accuracy: 1.0000\n",
            "Epoch 125/200\n",
            "3/3 [==============================] - 0s 14ms/step - loss: 0.4064 - accuracy: 1.0000 - val_loss: 0.3933 - val_accuracy: 1.0000\n",
            "Epoch 126/200\n",
            "3/3 [==============================] - 0s 15ms/step - loss: 0.4041 - accuracy: 1.0000 - val_loss: 0.3909 - val_accuracy: 1.0000\n",
            "Epoch 127/200\n",
            "3/3 [==============================] - 0s 14ms/step - loss: 0.4018 - accuracy: 1.0000 - val_loss: 0.3886 - val_accuracy: 1.0000\n",
            "Epoch 128/200\n",
            "3/3 [==============================] - 0s 14ms/step - loss: 0.3995 - accuracy: 1.0000 - val_loss: 0.3862 - val_accuracy: 1.0000\n",
            "Epoch 129/200\n",
            "3/3 [==============================] - 0s 15ms/step - loss: 0.3973 - accuracy: 1.0000 - val_loss: 0.3838 - val_accuracy: 1.0000\n",
            "Epoch 130/200\n",
            "3/3 [==============================] - 0s 17ms/step - loss: 0.3951 - accuracy: 1.0000 - val_loss: 0.3814 - val_accuracy: 1.0000\n",
            "Epoch 131/200\n",
            "3/3 [==============================] - 0s 16ms/step - loss: 0.3928 - accuracy: 1.0000 - val_loss: 0.3790 - val_accuracy: 1.0000\n",
            "Epoch 132/200\n",
            "3/3 [==============================] - 0s 16ms/step - loss: 0.3906 - accuracy: 1.0000 - val_loss: 0.3766 - val_accuracy: 1.0000\n",
            "Epoch 133/200\n",
            "3/3 [==============================] - 0s 16ms/step - loss: 0.3885 - accuracy: 1.0000 - val_loss: 0.3742 - val_accuracy: 1.0000\n",
            "Epoch 134/200\n",
            "3/3 [==============================] - 0s 19ms/step - loss: 0.3863 - accuracy: 1.0000 - val_loss: 0.3720 - val_accuracy: 1.0000\n",
            "Epoch 135/200\n",
            "3/3 [==============================] - 0s 18ms/step - loss: 0.3841 - accuracy: 1.0000 - val_loss: 0.3697 - val_accuracy: 1.0000\n",
            "Epoch 136/200\n",
            "3/3 [==============================] - 0s 17ms/step - loss: 0.3820 - accuracy: 1.0000 - val_loss: 0.3674 - val_accuracy: 1.0000\n",
            "Epoch 137/200\n",
            "3/3 [==============================] - 0s 15ms/step - loss: 0.3799 - accuracy: 1.0000 - val_loss: 0.3652 - val_accuracy: 1.0000\n",
            "Epoch 138/200\n",
            "3/3 [==============================] - 0s 20ms/step - loss: 0.3778 - accuracy: 1.0000 - val_loss: 0.3629 - val_accuracy: 1.0000\n",
            "Epoch 139/200\n",
            "3/3 [==============================] - 0s 15ms/step - loss: 0.3756 - accuracy: 1.0000 - val_loss: 0.3606 - val_accuracy: 1.0000\n",
            "Epoch 140/200\n",
            "3/3 [==============================] - 0s 14ms/step - loss: 0.3735 - accuracy: 1.0000 - val_loss: 0.3583 - val_accuracy: 1.0000\n",
            "Epoch 141/200\n",
            "3/3 [==============================] - 0s 15ms/step - loss: 0.3714 - accuracy: 1.0000 - val_loss: 0.3562 - val_accuracy: 1.0000\n",
            "Epoch 142/200\n",
            "3/3 [==============================] - 0s 18ms/step - loss: 0.3694 - accuracy: 1.0000 - val_loss: 0.3540 - val_accuracy: 1.0000\n",
            "Epoch 143/200\n",
            "3/3 [==============================] - 0s 16ms/step - loss: 0.3673 - accuracy: 1.0000 - val_loss: 0.3519 - val_accuracy: 1.0000\n",
            "Epoch 144/200\n",
            "3/3 [==============================] - 0s 18ms/step - loss: 0.3653 - accuracy: 1.0000 - val_loss: 0.3498 - val_accuracy: 1.0000\n",
            "Epoch 145/200\n",
            "3/3 [==============================] - 0s 16ms/step - loss: 0.3633 - accuracy: 1.0000 - val_loss: 0.3477 - val_accuracy: 1.0000\n",
            "Epoch 146/200\n",
            "3/3 [==============================] - 0s 16ms/step - loss: 0.3613 - accuracy: 1.0000 - val_loss: 0.3456 - val_accuracy: 1.0000\n",
            "Epoch 147/200\n",
            "3/3 [==============================] - 0s 14ms/step - loss: 0.3593 - accuracy: 1.0000 - val_loss: 0.3435 - val_accuracy: 1.0000\n",
            "Epoch 148/200\n",
            "3/3 [==============================] - 0s 17ms/step - loss: 0.3573 - accuracy: 1.0000 - val_loss: 0.3415 - val_accuracy: 1.0000\n",
            "Epoch 149/200\n",
            "3/3 [==============================] - 0s 16ms/step - loss: 0.3553 - accuracy: 1.0000 - val_loss: 0.3394 - val_accuracy: 1.0000\n",
            "Epoch 150/200\n",
            "3/3 [==============================] - 0s 16ms/step - loss: 0.3534 - accuracy: 1.0000 - val_loss: 0.3374 - val_accuracy: 1.0000\n",
            "Epoch 151/200\n",
            "3/3 [==============================] - 0s 18ms/step - loss: 0.3515 - accuracy: 1.0000 - val_loss: 0.3354 - val_accuracy: 1.0000\n",
            "Epoch 152/200\n",
            "3/3 [==============================] - 0s 15ms/step - loss: 0.3496 - accuracy: 1.0000 - val_loss: 0.3333 - val_accuracy: 1.0000\n",
            "Epoch 153/200\n",
            "3/3 [==============================] - 0s 16ms/step - loss: 0.3477 - accuracy: 1.0000 - val_loss: 0.3314 - val_accuracy: 1.0000\n",
            "Epoch 154/200\n",
            "3/3 [==============================] - 0s 16ms/step - loss: 0.3458 - accuracy: 1.0000 - val_loss: 0.3294 - val_accuracy: 1.0000\n",
            "Epoch 155/200\n",
            "3/3 [==============================] - 0s 15ms/step - loss: 0.3439 - accuracy: 1.0000 - val_loss: 0.3275 - val_accuracy: 1.0000\n",
            "Epoch 156/200\n",
            "3/3 [==============================] - 0s 16ms/step - loss: 0.3421 - accuracy: 1.0000 - val_loss: 0.3255 - val_accuracy: 1.0000\n",
            "Epoch 157/200\n",
            "3/3 [==============================] - 0s 16ms/step - loss: 0.3403 - accuracy: 1.0000 - val_loss: 0.3236 - val_accuracy: 1.0000\n",
            "Epoch 158/200\n",
            "3/3 [==============================] - 0s 17ms/step - loss: 0.3384 - accuracy: 1.0000 - val_loss: 0.3218 - val_accuracy: 1.0000\n",
            "Epoch 159/200\n",
            "3/3 [==============================] - 0s 16ms/step - loss: 0.3366 - accuracy: 1.0000 - val_loss: 0.3200 - val_accuracy: 1.0000\n",
            "Epoch 160/200\n",
            "3/3 [==============================] - 0s 20ms/step - loss: 0.3349 - accuracy: 1.0000 - val_loss: 0.3181 - val_accuracy: 1.0000\n",
            "Epoch 161/200\n",
            "3/3 [==============================] - 0s 15ms/step - loss: 0.3331 - accuracy: 1.0000 - val_loss: 0.3164 - val_accuracy: 1.0000\n",
            "Epoch 162/200\n",
            "3/3 [==============================] - 0s 24ms/step - loss: 0.3314 - accuracy: 1.0000 - val_loss: 0.3146 - val_accuracy: 1.0000\n",
            "Epoch 163/200\n",
            "3/3 [==============================] - 0s 16ms/step - loss: 0.3296 - accuracy: 1.0000 - val_loss: 0.3129 - val_accuracy: 1.0000\n",
            "Epoch 164/200\n",
            "3/3 [==============================] - 0s 19ms/step - loss: 0.3279 - accuracy: 1.0000 - val_loss: 0.3111 - val_accuracy: 1.0000\n",
            "Epoch 165/200\n",
            "3/3 [==============================] - 0s 14ms/step - loss: 0.3262 - accuracy: 1.0000 - val_loss: 0.3095 - val_accuracy: 1.0000\n",
            "Epoch 166/200\n",
            "3/3 [==============================] - 0s 16ms/step - loss: 0.3245 - accuracy: 1.0000 - val_loss: 0.3078 - val_accuracy: 1.0000\n",
            "Epoch 167/200\n",
            "3/3 [==============================] - 0s 15ms/step - loss: 0.3229 - accuracy: 1.0000 - val_loss: 0.3061 - val_accuracy: 1.0000\n",
            "Epoch 168/200\n",
            "3/3 [==============================] - 0s 17ms/step - loss: 0.3212 - accuracy: 1.0000 - val_loss: 0.3044 - val_accuracy: 1.0000\n",
            "Epoch 169/200\n",
            "3/3 [==============================] - 0s 16ms/step - loss: 0.3195 - accuracy: 1.0000 - val_loss: 0.3027 - val_accuracy: 1.0000\n",
            "Epoch 170/200\n",
            "3/3 [==============================] - 0s 15ms/step - loss: 0.3179 - accuracy: 1.0000 - val_loss: 0.3010 - val_accuracy: 1.0000\n",
            "Epoch 171/200\n",
            "3/3 [==============================] - 0s 15ms/step - loss: 0.3163 - accuracy: 1.0000 - val_loss: 0.2993 - val_accuracy: 1.0000\n",
            "Epoch 172/200\n",
            "3/3 [==============================] - 0s 15ms/step - loss: 0.3147 - accuracy: 1.0000 - val_loss: 0.2977 - val_accuracy: 1.0000\n",
            "Epoch 173/200\n",
            "3/3 [==============================] - 0s 16ms/step - loss: 0.3131 - accuracy: 1.0000 - val_loss: 0.2960 - val_accuracy: 1.0000\n",
            "Epoch 174/200\n",
            "3/3 [==============================] - 0s 17ms/step - loss: 0.3114 - accuracy: 1.0000 - val_loss: 0.2943 - val_accuracy: 1.0000\n",
            "Epoch 175/200\n",
            "3/3 [==============================] - 0s 16ms/step - loss: 0.3098 - accuracy: 1.0000 - val_loss: 0.2927 - val_accuracy: 1.0000\n",
            "Epoch 176/200\n",
            "3/3 [==============================] - 0s 16ms/step - loss: 0.3083 - accuracy: 1.0000 - val_loss: 0.2910 - val_accuracy: 1.0000\n",
            "Epoch 177/200\n",
            "3/3 [==============================] - 0s 15ms/step - loss: 0.3067 - accuracy: 1.0000 - val_loss: 0.2894 - val_accuracy: 1.0000\n",
            "Epoch 178/200\n",
            "3/3 [==============================] - 0s 18ms/step - loss: 0.3051 - accuracy: 1.0000 - val_loss: 0.2878 - val_accuracy: 1.0000\n",
            "Epoch 179/200\n",
            "3/3 [==============================] - 0s 18ms/step - loss: 0.3036 - accuracy: 1.0000 - val_loss: 0.2862 - val_accuracy: 1.0000\n",
            "Epoch 180/200\n",
            "3/3 [==============================] - 0s 17ms/step - loss: 0.3020 - accuracy: 1.0000 - val_loss: 0.2846 - val_accuracy: 1.0000\n",
            "Epoch 181/200\n",
            "3/3 [==============================] - 0s 19ms/step - loss: 0.3005 - accuracy: 1.0000 - val_loss: 0.2830 - val_accuracy: 1.0000\n",
            "Epoch 182/200\n",
            "3/3 [==============================] - 0s 19ms/step - loss: 0.2990 - accuracy: 1.0000 - val_loss: 0.2814 - val_accuracy: 1.0000\n",
            "Epoch 183/200\n",
            "3/3 [==============================] - 0s 15ms/step - loss: 0.2975 - accuracy: 1.0000 - val_loss: 0.2798 - val_accuracy: 1.0000\n",
            "Epoch 184/200\n",
            "3/3 [==============================] - 0s 16ms/step - loss: 0.2960 - accuracy: 1.0000 - val_loss: 0.2782 - val_accuracy: 1.0000\n",
            "Epoch 185/200\n",
            "3/3 [==============================] - 0s 17ms/step - loss: 0.2945 - accuracy: 1.0000 - val_loss: 0.2766 - val_accuracy: 1.0000\n",
            "Epoch 186/200\n",
            "3/3 [==============================] - 0s 17ms/step - loss: 0.2930 - accuracy: 1.0000 - val_loss: 0.2751 - val_accuracy: 1.0000\n",
            "Epoch 187/200\n",
            "3/3 [==============================] - 0s 17ms/step - loss: 0.2916 - accuracy: 1.0000 - val_loss: 0.2736 - val_accuracy: 1.0000\n",
            "Epoch 188/200\n",
            "3/3 [==============================] - 0s 15ms/step - loss: 0.2901 - accuracy: 1.0000 - val_loss: 0.2721 - val_accuracy: 1.0000\n",
            "Epoch 189/200\n",
            "3/3 [==============================] - 0s 15ms/step - loss: 0.2887 - accuracy: 1.0000 - val_loss: 0.2706 - val_accuracy: 1.0000\n",
            "Epoch 190/200\n",
            "3/3 [==============================] - 0s 15ms/step - loss: 0.2873 - accuracy: 1.0000 - val_loss: 0.2691 - val_accuracy: 1.0000\n",
            "Epoch 191/200\n",
            "3/3 [==============================] - 0s 16ms/step - loss: 0.2859 - accuracy: 1.0000 - val_loss: 0.2677 - val_accuracy: 1.0000\n",
            "Epoch 192/200\n",
            "3/3 [==============================] - 0s 14ms/step - loss: 0.2845 - accuracy: 1.0000 - val_loss: 0.2662 - val_accuracy: 1.0000\n",
            "Epoch 193/200\n",
            "3/3 [==============================] - 0s 15ms/step - loss: 0.2831 - accuracy: 1.0000 - val_loss: 0.2648 - val_accuracy: 1.0000\n",
            "Epoch 194/200\n",
            "3/3 [==============================] - 0s 16ms/step - loss: 0.2817 - accuracy: 1.0000 - val_loss: 0.2634 - val_accuracy: 1.0000\n",
            "Epoch 195/200\n",
            "3/3 [==============================] - 0s 16ms/step - loss: 0.2803 - accuracy: 1.0000 - val_loss: 0.2620 - val_accuracy: 1.0000\n",
            "Epoch 196/200\n",
            "3/3 [==============================] - 0s 17ms/step - loss: 0.2789 - accuracy: 1.0000 - val_loss: 0.2606 - val_accuracy: 1.0000\n",
            "Epoch 197/200\n",
            "3/3 [==============================] - 0s 16ms/step - loss: 0.2775 - accuracy: 1.0000 - val_loss: 0.2591 - val_accuracy: 1.0000\n",
            "Epoch 198/200\n",
            "3/3 [==============================] - 0s 28ms/step - loss: 0.2762 - accuracy: 1.0000 - val_loss: 0.2577 - val_accuracy: 1.0000\n",
            "Epoch 199/200\n",
            "3/3 [==============================] - 0s 16ms/step - loss: 0.2748 - accuracy: 1.0000 - val_loss: 0.2563 - val_accuracy: 1.0000\n",
            "Epoch 200/200\n",
            "3/3 [==============================] - 0s 13ms/step - loss: 0.2735 - accuracy: 1.0000 - val_loss: 0.2549 - val_accuracy: 1.0000\n"
          ]
        }
      ]
    },
    {
      "cell_type": "code",
      "source": [
        "print('Train score', model.evaluate(X_train,y_train))\n",
        "print('Test score', model.evaluate(X_test,y_test))"
      ],
      "metadata": {
        "colab": {
          "base_uri": "https://localhost:8080/"
        },
        "id": "LxufoIwHMz7m",
        "outputId": "dd9bf463-6537-489c-9ff0-247edbd0af1e"
      },
      "execution_count": null,
      "outputs": [
        {
          "output_type": "stream",
          "name": "stdout",
          "text": [
            "3/3 [==============================] - 0s 4ms/step - loss: 0.2724 - accuracy: 1.0000\n",
            "Train score [0.27239447832107544, 1.0]\n",
            "2/2 [==============================] - 0s 7ms/step - loss: 0.2549 - accuracy: 1.0000\n",
            "Test score [0.2549431025981903, 1.0]\n"
          ]
        }
      ]
    },
    {
      "cell_type": "code",
      "source": [
        "import matplotlib.pyplot as plt\n",
        "plt.plot(r.history['loss'],label ='loss')\n",
        "plt.plot(r.history['val_loss'],label ='val_loss')\n",
        "plt.legend()"
      ],
      "metadata": {
        "colab": {
          "base_uri": "https://localhost:8080/",
          "height": 282
        },
        "id": "2yk1ftePOWGs",
        "outputId": "a49c773a-f889-4af2-e770-c4150e857778"
      },
      "execution_count": null,
      "outputs": [
        {
          "output_type": "execute_result",
          "data": {
            "text/plain": [
              "<matplotlib.legend.Legend at 0x7f21b5445210>"
            ]
          },
          "metadata": {},
          "execution_count": 20
        },
        {
          "output_type": "display_data",
          "data": {
            "text/plain": [
              "<Figure size 432x288 with 1 Axes>"
            ],
            "image/png": "[encoded data removed]"
          },
          "metadata": {
            "needs_background": "light"
          }
        }
      ]
    },
    {
      "cell_type": "code",
      "source": [
        "plt.plot(r.history['accuracy'],label ='accuracy')\n",
        "plt.plot(r.history['val_accuracy'],label ='val_accuracy')\n",
        "plt.legend()"
      ],
      "metadata": {
        "colab": {
          "base_uri": "https://localhost:8080/",
          "height": 282
        },
        "id": "_EkLmfedOe43",
        "outputId": "152f0910-fc0f-415b-f176-69fe61ab9108"
      },
      "execution_count": null,
      "outputs": [
        {
          "output_type": "execute_result",
          "data": {
            "text/plain": [
              "<matplotlib.legend.Legend at 0x7f21b42040d0>"
            ]
          },
          "metadata": {},
          "execution_count": 21
        },
        {
          "output_type": "display_data",
          "data": {
            "text/plain": [
              "<Figure size 432x288 with 1 Axes>"
            ],
            "image/png": "[encoded data removed]"
          },
          "metadata": {
            "needs_background": "light"
          }
        }
      ]
    }
  ]
}