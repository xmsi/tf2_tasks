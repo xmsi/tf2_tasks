{
  "nbformat": 4,
  "nbformat_minor": 0,
  "metadata": {
    "colab": {
      "name": "upload_data.ipynb",
      "provenance": [],
      "collapsed_sections": [
        "faGGKLoic930"
      ],
      "mount_file_id": "1ierwjNo2ctM9TNlvSIEyLufNChzN_qCb",
      "authorship_tag": "ABX9TyO9VMqQ/hB5N4Gn5ois61gr",
      "include_colab_link": true
    },
    "kernelspec": {
      "name": "python3",
      "display_name": "Python 3"
    },
    "language_info": {
      "name": "python"
    }
  },
  "cells": [
    {
      "cell_type": "markdown",
      "metadata": {
        "id": "view-in-github",
        "colab_type": "text"
      },
      "source": [
        "<a href=\"https://colab.research.google.com/github/xmsi/tf2_tasks/blob/main/upload_data.ipynb\" target=\"_parent\"><img src=\"https://colab.research.google.com/assets/colab-badge.svg\" alt=\"Open In Colab\"/></a>"
      ]
    },
    {
      "cell_type": "markdown",
      "source": [
        "# Uploading data"
      ],
      "metadata": {
        "id": "faGGKLoic930"
      }
    },
    {
      "cell_type": "code",
      "execution_count": null,
      "metadata": {
        "id": "wnkEpS9nbH_4",
        "colab": {
          "base_uri": "https://localhost:8080/"
        },
        "outputId": "f2493c74-3d1f-4995-81c6-b62cf774cd5a"
      },
      "outputs": [
        {
          "output_type": "stream",
          "name": "stdout",
          "text": [
            "drive  sample_data\n"
          ]
        }
      ],
      "source": [
        "!ls"
      ]
    },
    {
      "cell_type": "code",
      "source": [
        "from google.colab import drive\n",
        "drive.mount('/content/drive')"
      ],
      "metadata": {
        "colab": {
          "base_uri": "https://localhost:8080/"
        },
        "id": "ZTJLAdbkdNZM",
        "outputId": "1ef3e8fb-6697-4cef-ee55-308bd9116eda"
      },
      "execution_count": null,
      "outputs": [
        {
          "output_type": "stream",
          "name": "stdout",
          "text": [
            "Drive already mounted at /content/drive; to attempt to forcibly remount, call drive.mount(\"/content/drive\", force_remount=True).\n"
          ]
        }
      ]
    },
    {
      "cell_type": "code",
      "source": [
        "%cd /content/drive/MyDrive/Colab Notebooks/dl.lazy_prog/datasets"
      ],
      "metadata": {
        "colab": {
          "base_uri": "https://localhost:8080/"
        },
        "id": "80C92NgydYsU",
        "outputId": "d93d6b24-ddc4-4aa9-864c-a5dc6f25e208"
      },
      "execution_count": null,
      "outputs": [
        {
          "output_type": "stream",
          "name": "stdout",
          "text": [
            "/content/drive/MyDrive/Colab Notebooks/dl.lazy_prog/datasets\n"
          ]
        }
      ]
    },
    {
      "cell_type": "code",
      "source": [
        "#https://archive.ics.uci.edu/ml/machine-learning-databases/heart-disease/processed.cleveland.data\n",
        "!wget https://archive.ics.uci.edu/ml/machine-learning-databases/heart-disease/processed.cleveland.data"
      ],
      "metadata": {
        "colab": {
          "base_uri": "https://localhost:8080/"
        },
        "id": "YVKUvyX6eobH",
        "outputId": "44782be4-3a0c-4871-f6e5-0089a6524fb4"
      },
      "execution_count": null,
      "outputs": [
        {
          "output_type": "stream",
          "name": "stdout",
          "text": [
            "--2022-06-16 07:25:07--  https://archive.ics.uci.edu/ml/machine-learning-databases/heart-disease/processed.cleveland.data\n",
            "Resolving archive.ics.uci.edu (archive.ics.uci.edu)... 128.195.10.252\n",
            "Connecting to archive.ics.uci.edu (archive.ics.uci.edu)|128.195.10.252|:443... connected.\n",
            "HTTP request sent, awaiting response... 200 OK\n",
            "Length: 18461 (18K) [application/x-httpd-php]\n",
            "Saving to: ‘processed.cleveland.data’\n",
            "\n",
            "processed.cleveland 100%[===================>]  18.03K  --.-KB/s    in 0.1s    \n",
            "\n",
            "2022-06-16 07:25:08 (137 KB/s) - ‘processed.cleveland.data’ saved [18461/18461]\n",
            "\n"
          ]
        }
      ]
    },
    {
      "cell_type": "code",
      "source": [
        "!head processed.cleveland.data"
      ],
      "metadata": {
        "colab": {
          "base_uri": "https://localhost:8080/"
        },
        "id": "IdslBNeofSXF",
        "outputId": "acc7405b-7ab1-4ce3-d8b8-7a8d106c2094"
      },
      "execution_count": null,
      "outputs": [
        {
          "output_type": "stream",
          "name": "stdout",
          "text": [
            "63.0,1.0,1.0,145.0,233.0,1.0,2.0,150.0,0.0,2.3,3.0,0.0,6.0,0\n",
            "67.0,1.0,4.0,160.0,286.0,0.0,2.0,108.0,1.0,1.5,2.0,3.0,3.0,2\n",
            "67.0,1.0,4.0,120.0,229.0,0.0,2.0,129.0,1.0,2.6,2.0,2.0,7.0,1\n",
            "37.0,1.0,3.0,130.0,250.0,0.0,0.0,187.0,0.0,3.5,3.0,0.0,3.0,0\n",
            "41.0,0.0,2.0,130.0,204.0,0.0,2.0,172.0,0.0,1.4,1.0,0.0,3.0,0\n",
            "56.0,1.0,2.0,120.0,236.0,0.0,0.0,178.0,0.0,0.8,1.0,0.0,3.0,0\n",
            "62.0,0.0,4.0,140.0,268.0,0.0,2.0,160.0,0.0,3.6,3.0,2.0,3.0,3\n",
            "57.0,0.0,4.0,120.0,354.0,0.0,0.0,163.0,1.0,0.6,1.0,0.0,3.0,0\n",
            "63.0,1.0,4.0,130.0,254.0,0.0,2.0,147.0,0.0,1.4,2.0,1.0,7.0,2\n",
            "53.0,1.0,4.0,140.0,203.0,1.0,2.0,155.0,1.0,3.1,3.0,0.0,7.0,1\n"
          ]
        }
      ]
    },
    {
      "cell_type": "code",
      "source": [
        "import pandas as pd\n",
        "df = pd.read_csv('processed.cleveland.data', header=None)"
      ],
      "metadata": {
        "id": "sSr4EFjefaY_"
      },
      "execution_count": null,
      "outputs": []
    },
    {
      "cell_type": "code",
      "source": [
        "data = df[[0,1,2,3]]\n",
        "data.columns = ['age', 'sex', 'cp', 'trestbps']"
      ],
      "metadata": {
        "id": "OvnP_O8xZ2_S"
      },
      "execution_count": null,
      "outputs": []
    },
    {
      "cell_type": "code",
      "source": [
        "import matplotlib.pyplot as plt\n",
        "\n",
        "plt.rcParams['figure.figsize'] = [10, 10]\n",
        "\n",
        "data.hist();\n",
        "\n",
        "# Heart desease"
      ],
      "metadata": {
        "colab": {
          "base_uri": "https://localhost:8080/",
          "height": 608
        },
        "id": "4RwRtyENbNii",
        "outputId": "f3a67f55-217e-4e35-8988-b75abcd33bb9"
      },
      "execution_count": null,
      "outputs": [
        {
          "output_type": "display_data",
          "data": {
            "text/plain": [
              "<Figure size 720x720 with 4 Axes>"
            ],
            "image/png": "[encoded data removed]"
          },
          "metadata": {
            "needs_background": "light"
          }
        }
      ]
    },
    {
      "cell_type": "code",
      "source": [
        "from pandas.plotting import scatter_matrix\n",
        "\n",
        "scatter_matrix(data);"
      ],
      "metadata": {
        "colab": {
          "base_uri": "https://localhost:8080/",
          "height": 611
        },
        "id": "j8szq1MvnK1W",
        "outputId": "e2176c65-3cf4-4af8-91c4-905e2551a0f0"
      },
      "execution_count": null,
      "outputs": [
        {
          "output_type": "display_data",
          "data": {
            "text/plain": [
              "<Figure size 720x720 with 16 Axes>"
            ],
            "image/png": "[encoded data removed]"
          },
          "metadata": {
            "needs_background": "light"
          }
        }
      ]
    },
    {
      "cell_type": "markdown",
      "source": [
        "# Using tf.keras\n"
      ],
      "metadata": {
        "id": "22kr4vQUoA9W"
      }
    },
    {
      "cell_type": "code",
      "source": [
        "url = 'https://archive.ics.uci.edu/ml/machine-learning-databases/breast-cancer-wisconsin/breast-cancer-wisconsin.data'\n"
      ],
      "metadata": {
        "id": "M54L6f2DoHWa"
      },
      "execution_count": null,
      "outputs": []
    },
    {
      "cell_type": "code",
      "source": [
        "import tensorflow as tf\n",
        "\n",
        "tf.keras.utils.get_file('breast_cancer.data', url)"
      ],
      "metadata": {
        "colab": {
          "base_uri": "https://localhost:8080/",
          "height": 88
        },
        "id": "cRQ1X8V9pFF9",
        "outputId": "876294aa-d341-4132-b531-da1f3efd5130"
      },
      "execution_count": null,
      "outputs": [
        {
          "output_type": "stream",
          "name": "stdout",
          "text": [
            "Downloading data from https://archive.ics.uci.edu/ml/machine-learning-databases/breast-cancer-wisconsin/breast-cancer-wisconsin.data\n",
            "24576/19889 [=====================================] - 0s 0us/step\n",
            "32768/19889 [=================================================] - 0s 0us/step\n"
          ]
        },
        {
          "output_type": "execute_result",
          "data": {
            "text/plain": [
              "'/root/.keras/datasets/breast_cancer.data'"
            ],
            "application/vnd.google.colaboratory.intrinsic+json": {
              "type": "string"
            }
          },
          "metadata": {},
          "execution_count": 9
        }
      ]
    },
    {
      "cell_type": "code",
      "source": [
        "!head /root/.keras/datasets/breast_cancer.data"
      ],
      "metadata": {
        "colab": {
          "base_uri": "https://localhost:8080/"
        },
        "id": "hdh2zjwcp3P0",
        "outputId": "5882948e-0ede-402c-c343-87ffd2e597a7"
      },
      "execution_count": null,
      "outputs": [
        {
          "output_type": "stream",
          "name": "stdout",
          "text": [
            "1000025,5,1,1,1,2,1,3,1,1,2\n",
            "1002945,5,4,4,5,7,10,3,2,1,2\n",
            "1015425,3,1,1,1,2,2,3,1,1,2\n",
            "1016277,6,8,8,1,3,4,3,7,1,2\n",
            "1017023,4,1,1,3,2,1,3,1,1,2\n",
            "1017122,8,10,10,8,7,10,9,7,1,4\n",
            "1018099,1,1,1,1,2,10,3,1,1,2\n",
            "1018561,2,1,2,1,2,1,3,1,1,2\n",
            "1033078,2,1,1,1,2,1,1,1,5,2\n",
            "1033078,4,2,1,1,2,1,2,1,1,2\n"
          ]
        }
      ]
    },
    {
      "cell_type": "code",
      "source": [
        "df = pd.read_csv('/root/.keras/datasets/breast_cancer.data', header=None)\n",
        "df.head()\n",
        "\n",
        "# delim_whitespace = True if there are whitespaces in above !head"
      ],
      "metadata": {
        "colab": {
          "base_uri": "https://localhost:8080/",
          "height": 214
        },
        "id": "SC4-LIVdqAzG",
        "outputId": "56f9d926-7fcd-4440-a12b-9c43cf15bbba"
      },
      "execution_count": null,
      "outputs": [
        {
          "output_type": "execute_result",
          "data": {
            "text/plain": [
              "        0   1   2   3   4   5   6   7   8   9   10\n",
              "0  1000025   5   1   1   1   2   1   3   1   1   2\n",
              "1  1002945   5   4   4   5   7  10   3   2   1   2\n",
              "2  1015425   3   1   1   1   2   2   3   1   1   2\n",
              "3  1016277   6   8   8   1   3   4   3   7   1   2\n",
              "4  1017023   4   1   1   3   2   1   3   1   1   2"
            ],
            "text/html": [
              "\n",
              "  <div id=\"df-4c3d3c71-a271-4d5c-a0eb-867bfaa4e157\">\n",
              "    <div class=\"colab-df-container\">\n",
              "      <div>\n",
              "<style scoped>\n",
              "    .dataframe tbody tr th:only-of-type {\n",
              "        vertical-align: middle;\n",
              "    }\n",
              "\n",
              "    .dataframe tbody tr th {\n",
              "        vertical-align: top;\n",
              "    }\n",
              "\n",
              "    .dataframe thead th {\n",
              "        text-align: right;\n",
              "    }\n",
              "</style>\n",
              "<table border=\"1\" class=\"dataframe\">\n",
              "  <thead>\n",
              "    <tr style=\"text-align: right;\">\n",
              "      <th></th>\n",
              "      <th>0</th>\n",
              "      <th>1</th>\n",
              "      <th>2</th>\n",
              "      <th>3</th>\n",
              "      <th>4</th>\n",
              "      <th>5</th>\n",
              "      <th>6</th>\n",
              "      <th>7</th>\n",
              "      <th>8</th>\n",
              "      <th>9</th>\n",
              "      <th>10</th>\n",
              "    </tr>\n",
              "  </thead>\n",
              "  <tbody>\n",
              "    <tr>\n",
              "      <th>0</th>\n",
              "      <td>1000025</td>\n",
              "      <td>5</td>\n",
              "      <td>1</td>\n",
              "      <td>1</td>\n",
              "      <td>1</td>\n",
              "      <td>2</td>\n",
              "      <td>1</td>\n",
              "      <td>3</td>\n",
              "      <td>1</td>\n",
              "      <td>1</td>\n",
              "      <td>2</td>\n",
              "    </tr>\n",
              "    <tr>\n",
              "      <th>1</th>\n",
              "      <td>1002945</td>\n",
              "      <td>5</td>\n",
              "      <td>4</td>\n",
              "      <td>4</td>\n",
              "      <td>5</td>\n",
              "      <td>7</td>\n",
              "      <td>10</td>\n",
              "      <td>3</td>\n",
              "      <td>2</td>\n",
              "      <td>1</td>\n",
              "      <td>2</td>\n",
              "    </tr>\n",
              "    <tr>\n",
              "      <th>2</th>\n",
              "      <td>1015425</td>\n",
              "      <td>3</td>\n",
              "      <td>1</td>\n",
              "      <td>1</td>\n",
              "      <td>1</td>\n",
              "      <td>2</td>\n",
              "      <td>2</td>\n",
              "      <td>3</td>\n",
              "      <td>1</td>\n",
              "      <td>1</td>\n",
              "      <td>2</td>\n",
              "    </tr>\n",
              "    <tr>\n",
              "      <th>3</th>\n",
              "      <td>1016277</td>\n",
              "      <td>6</td>\n",
              "      <td>8</td>\n",
              "      <td>8</td>\n",
              "      <td>1</td>\n",
              "      <td>3</td>\n",
              "      <td>4</td>\n",
              "      <td>3</td>\n",
              "      <td>7</td>\n",
              "      <td>1</td>\n",
              "      <td>2</td>\n",
              "    </tr>\n",
              "    <tr>\n",
              "      <th>4</th>\n",
              "      <td>1017023</td>\n",
              "      <td>4</td>\n",
              "      <td>1</td>\n",
              "      <td>1</td>\n",
              "      <td>3</td>\n",
              "      <td>2</td>\n",
              "      <td>1</td>\n",
              "      <td>3</td>\n",
              "      <td>1</td>\n",
              "      <td>1</td>\n",
              "      <td>2</td>\n",
              "    </tr>\n",
              "  </tbody>\n",
              "</table>\n",
              "</div>\n",
              "      <button class=\"colab-df-convert\" onclick=\"convertToInteractive('df-4c3d3c71-a271-4d5c-a0eb-867bfaa4e157')\"\n",
              "              title=\"Convert this dataframe to an interactive table.\"\n",
              "              style=\"display:none;\">\n",
              "        \n",
              "  <svg xmlns=\"http://www.w3.org/2000/svg\" height=\"24px\"viewBox=\"0 0 24 24\"\n",
              "       width=\"24px\">\n",
              "    <path d=\"M0 0h24v24H0V0z\" fill=\"none\"/>\n",
              "    <path d=\"M18.56 5.44l.94 2.06.94-2.06 2.06-.94-2.06-.94-.94-2.06-.94 2.06-2.06.94zm-11 1L8.5 8.5l.94-2.06 2.06-.94-2.06-.94L8.5 2.5l-.94 2.06-2.06.94zm10 10l.94 2.06.94-2.06 2.06-.94-2.06-.94-.94-2.06-.94 2.06-2.06.94z\"/><path d=\"M17.41 7.96l-1.37-1.37c-.4-.4-.92-.59-1.43-.59-.52 0-1.04.2-1.43.59L10.3 9.45l-7.72 7.72c-.78.78-.78 2.05 0 2.83L4 21.41c.39.39.9.59 1.41.59.51 0 1.02-.2 1.41-.59l7.78-7.78 2.81-2.81c.8-.78.8-2.07 0-2.86zM5.41 20L4 18.59l7.72-7.72 1.47 1.35L5.41 20z\"/>\n",
              "  </svg>\n",
              "      </button>\n",
              "      \n",
              "  <style>\n",
              "    .colab-df-container {\n",
              "      display:flex;\n",
              "      flex-wrap:wrap;\n",
              "      gap: 12px;\n",
              "    }\n",
              "\n",
              "    .colab-df-convert {\n",
              "      background-color: #E8F0FE;\n",
              "      border: none;\n",
              "      border-radius: 50%;\n",
              "      cursor: pointer;\n",
              "      display: none;\n",
              "      fill: #1967D2;\n",
              "      height: 32px;\n",
              "      padding: 0 0 0 0;\n",
              "      width: 32px;\n",
              "    }\n",
              "\n",
              "    .colab-df-convert:hover {\n",
              "      background-color: #E2EBFA;\n",
              "      box-shadow: 0px 1px 2px rgba(60, 64, 67, 0.3), 0px 1px 3px 1px rgba(60, 64, 67, 0.15);\n",
              "      fill: #174EA6;\n",
              "    }\n",
              "\n",
              "    [theme=dark] .colab-df-convert {\n",
              "      background-color: #3B4455;\n",
              "      fill: #D2E3FC;\n",
              "    }\n",
              "\n",
              "    [theme=dark] .colab-df-convert:hover {\n",
              "      background-color: #434B5C;\n",
              "      box-shadow: 0px 1px 3px 1px rgba(0, 0, 0, 0.15);\n",
              "      filter: drop-shadow(0px 1px 2px rgba(0, 0, 0, 0.3));\n",
              "      fill: #FFFFFF;\n",
              "    }\n",
              "  </style>\n",
              "\n",
              "      <script>\n",
              "        const buttonEl =\n",
              "          document.querySelector('#df-4c3d3c71-a271-4d5c-a0eb-867bfaa4e157 button.colab-df-convert');\n",
              "        buttonEl.style.display =\n",
              "          google.colab.kernel.accessAllowed ? 'block' : 'none';\n",
              "\n",
              "        async function convertToInteractive(key) {\n",
              "          const element = document.querySelector('#df-4c3d3c71-a271-4d5c-a0eb-867bfaa4e157');\n",
              "          const dataTable =\n",
              "            await google.colab.kernel.invokeFunction('convertToInteractive',\n",
              "                                                     [key], {});\n",
              "          if (!dataTable) return;\n",
              "\n",
              "          const docLinkHtml = 'Like what you see? Visit the ' +\n",
              "            '<a target=\"_blank\" href=https://colab.research.google.com/notebooks/data_table.ipynb>data table notebook</a>'\n",
              "            + ' to learn more about interactive tables.';\n",
              "          element.innerHTML = '';\n",
              "          dataTable['output_type'] = 'display_data';\n",
              "          await google.colab.output.renderOutput(dataTable, element);\n",
              "          const docLink = document.createElement('div');\n",
              "          docLink.innerHTML = docLinkHtml;\n",
              "          element.appendChild(docLink);\n",
              "        }\n",
              "      </script>\n",
              "    </div>\n",
              "  </div>\n",
              "  "
            ]
          },
          "metadata": {},
          "execution_count": 11
        }
      ]
    },
    {
      "cell_type": "markdown",
      "source": [
        "# Colab Download"
      ],
      "metadata": {
        "id": "Mj62IIpVq25v"
      }
    },
    {
      "cell_type": "code",
      "source": [
        "from google.colab import files\n",
        "\n",
        "uploaded = files.upload()"
      ],
      "metadata": {
        "colab": {
          "resources": {
            "http://localhost:8080/nbextensions/google.colab/files.js": {
              "data": "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",
              "ok": true,
              "headers": [
                [
                  "content-type",
                  "application/javascript"
                ]
              ],
              "status": 200,
              "status_text": ""
            }
          },
          "base_uri": "https://localhost:8080/",
          "height": 73
        },
        "id": "4tkFh5hyq7mT",
        "outputId": "40f5bb1b-bb42-4f0d-a127-cb55087d8aa3"
      },
      "execution_count": null,
      "outputs": [
        {
          "output_type": "display_data",
          "data": {
            "text/plain": [
              "<IPython.core.display.HTML object>"
            ],
            "text/html": [
              "\n",
              "     <input type=\"file\" id=\"files-ca4697e5-67e4-4833-bba6-f7952eebce67\" name=\"files[]\" multiple disabled\n",
              "        style=\"border:none\" />\n",
              "     <output id=\"result-ca4697e5-67e4-4833-bba6-f7952eebce67\">\n",
              "      Upload widget is only available when the cell has been executed in the\n",
              "      current browser session. Please rerun this cell to enable.\n",
              "      </output>\n",
              "      <script src=\"/nbextensions/google.colab/files.js\"></script> "
            ]
          },
          "metadata": {}
        },
        {
          "output_type": "stream",
          "name": "stdout",
          "text": [
            "Saving processed.hungarian.data to processed.hungarian.data\n"
          ]
        }
      ]
    },
    {
      "cell_type": "code",
      "source": [
        "uploaded"
      ],
      "metadata": {
        "colab": {
          "base_uri": "https://localhost:8080/"
        },
        "id": "8uMiYUHKrPHh",
        "outputId": "de484502-ee90-4d15-8ba0-740c88f6e299"
      },
      "execution_count": null,
      "outputs": [
        {
          "output_type": "execute_result",
          "data": {
            "text/plain": [
              "{'processed.hungarian.data': b'28,1,2,130,132,0,2,185,0,0,?,?,?,0\\n29,1,2,120,243,0,0,160,0,0,?,?,?,0\\n29,1,2,140,?,0,0,170,0,0,?,?,?,0\\n30,0,1,170,237,0,1,170,0,0,?,?,6,0\\n31,0,2,100,219,0,1,150,0,0,?,?,?,0\\n32,0,2,105,198,0,0,165,0,0,?,?,?,0\\n32,1,2,110,225,0,0,184,0,0,?,?,?,0\\n32,1,2,125,254,0,0,155,0,0,?,?,?,0\\n33,1,3,120,298,0,0,185,0,0,?,?,?,0\\n34,0,2,130,161,0,0,190,0,0,?,?,?,0\\n34,1,2,150,214,0,1,168,0,0,?,?,?,0\\n34,1,2,98,220,0,0,150,0,0,?,?,?,0\\n35,0,1,120,160,0,1,185,0,0,?,?,?,0\\n35,0,4,140,167,0,0,150,0,0,?,?,?,0\\n35,1,2,120,308,0,2,180,0,0,?,?,?,0\\n35,1,2,150,264,0,0,168,0,0,?,?,?,0\\n36,1,2,120,166,0,0,180,0,0,?,?,?,0\\n36,1,3,112,340,0,0,184,0,1,2,?,3,0\\n36,1,3,130,209,0,0,178,0,0,?,?,?,0\\n36,1,3,150,160,0,0,172,0,0,?,?,?,0\\n37,0,2,120,260,0,0,130,0,0,?,?,?,0\\n37,0,3,130,211,0,0,142,0,0,?,?,?,0\\n37,0,4,130,173,0,1,184,0,0,?,?,?,0\\n37,1,2,130,283,0,1,98,0,0,?,?,?,0\\n37,1,3,130,194,0,0,150,0,0,?,?,?,0\\n37,1,4,120,223,0,0,168,0,0,?,?,3,0\\n37,1,4,130,315,0,0,158,0,0,?,?,?,0\\n38,0,2,120,275,?,0,129,0,0,?,?,?,0\\n38,1,2,140,297,0,0,150,0,0,?,?,?,0\\n38,1,3,145,292,0,0,130,0,0,?,?,?,0\\n39,0,3,110,182,0,1,180,0,0,?,?,?,0\\n39,1,2,120,?,0,1,146,0,2,1,?,?,0\\n39,1,2,120,200,0,0,160,1,1,2,?,?,0\\n39,1,2,120,204,0,0,145,0,0,?,?,?,0\\n39,1,2,130,?,0,0,120,0,0,?,?,?,0\\n39,1,2,190,241,0,0,106,0,0,?,?,?,0\\n39,1,3,120,339,0,0,170,0,0,?,?,?,0\\n39,1,3,160,147,1,0,160,0,0,?,?,?,0\\n39,1,4,110,273,0,0,132,0,0,?,?,?,0\\n39,1,4,130,307,0,0,140,0,0,?,?,?,0\\n40,1,2,130,275,0,0,150,0,0,?,?,?,0\\n40,1,2,140,289,0,0,172,0,0,?,?,?,0\\n40,1,3,130,215,0,0,138,0,0,?,?,?,0\\n40,1,3,130,281,0,0,167,0,0,?,?,?,0\\n40,1,3,140,?,0,0,188,0,0,?,?,?,0\\n41,0,2,110,250,0,1,142,0,0,?,?,?,0\\n41,0,2,125,184,0,0,180,0,0,?,?,?,0\\n41,0,2,130,245,0,0,150,0,0,?,?,?,0\\n41,1,2,120,291,0,1,160,0,0,?,?,?,0\\n41,1,2,120,295,0,0,170,0,0,?,?,?,0\\n41,1,2,125,269,0,0,144,0,0,?,?,?,0\\n41,1,4,112,250,0,0,142,0,0,?,?,?,0\\n42,0,3,115,211,0,1,137,0,0,?,?,?,0\\n42,1,2,120,196,0,0,150,0,0,?,?,?,0\\n42,1,2,120,198,0,0,155,0,0,?,?,?,0\\n42,1,2,150,268,0,0,136,0,0,?,?,?,0\\n42,1,3,120,228,0,0,152,1,1.5,2,?,?,0\\n42,1,3,160,147,0,0,146,0,0,?,?,?,0\\n42,1,4,140,358,0,0,170,0,0,?,?,?,0\\n43,0,1,100,223,0,0,142,0,0,?,?,?,0\\n43,0,2,120,201,0,0,165,0,0,?,?,?,0\\n43,0,2,120,215,0,1,175,0,0,?,?,?,0\\n43,0,2,120,249,0,1,176,0,0,?,?,?,0\\n43,0,2,120,266,0,0,118,0,0,?,?,?,0\\n43,0,2,150,186,0,0,154,0,0,?,?,?,0\\n43,0,3,150,?,0,0,175,0,0,?,?,3,0\\n43,1,2,142,207,0,0,138,0,0,?,?,?,0\\n44,0,4,120,218,0,1,115,0,0,?,?,?,0\\n44,1,2,120,184,0,0,142,0,1,2,?,?,0\\n44,1,2,130,215,0,0,135,0,0,?,?,?,0\\n44,1,4,150,412,0,0,170,0,0,?,?,?,0\\n45,0,2,130,237,0,0,170,0,0,?,?,?,0\\n45,0,2,180,?,0,0,180,0,0,?,?,?,0\\n45,0,4,132,297,0,0,144,0,0,?,?,?,0\\n45,1,2,140,224,1,0,122,0,0,?,?,?,0\\n45,1,3,135,?,0,0,110,0,0,?,?,?,0\\n45,1,4,120,225,0,0,140,0,0,?,?,?,0\\n45,1,4,140,224,0,0,144,0,0,?,?,?,0\\n46,0,4,130,238,0,0,90,0,0,?,?,?,0\\n46,1,2,140,275,0,0,165,1,0,?,?,?,0\\n46,1,3,120,230,0,0,150,0,0,?,?,?,0\\n46,1,3,150,163,?,0,116,0,0,?,?,?,0\\n46,1,4,110,238,0,1,140,1,1,2,?,3,0\\n46,1,4,110,240,0,1,140,0,0,?,?,3,0\\n46,1,4,180,280,0,1,120,0,0,?,?,?,0\\n47,0,2,140,257,0,0,135,0,1,1,?,?,0\\n47,0,3,130,?,0,0,145,0,2,2,?,?,0\\n47,1,1,110,249,0,0,150,0,0,?,?,?,0\\n47,1,2,160,263,0,0,174,0,0,?,?,?,0\\n47,1,4,140,276,1,0,125,1,0,?,?,?,0\\n48,0,2,?,308,0,1,?,?,2,1,?,?,0\\n48,0,2,120,?,1,1,148,0,0,?,?,?,0\\n48,0,2,120,284,0,0,120,0,0,?,?,?,0\\n48,0,3,120,195,0,0,125,0,0,?,?,?,0\\n48,0,4,108,163,0,0,175,0,2,1,?,?,0\\n48,0,4,120,254,0,1,110,0,0,?,?,?,0\\n48,0,4,150,227,0,0,130,1,1,2,?,?,0\\n48,1,2,100,?,0,0,100,0,0,?,?,?,0\\n48,1,2,130,245,0,0,160,0,0,?,?,?,0\\n48,1,2,140,238,0,0,118,0,0,?,?,?,0\\n48,1,3,110,211,0,0,138,0,0,?,?,6,0\\n49,0,2,110,?,0,0,160,0,0,?,?,?,0\\n49,0,2,110,?,0,0,160,0,0,?,?,?,0\\n49,0,2,124,201,0,0,164,0,0,?,?,?,0\\n49,0,3,130,207,0,1,135,0,0,?,?,?,0\\n49,1,2,100,253,0,0,174,0,0,?,?,?,0\\n49,1,3,140,187,0,0,172,0,0,?,?,?,0\\n49,1,4,120,297,?,0,132,0,1,2,?,?,0\\n49,1,4,140,?,0,0,130,0,0,?,?,?,0\\n50,0,2,110,202,0,0,145,0,0,?,?,?,0\\n50,0,4,120,328,0,0,110,1,1,2,?,?,0\\n50,1,2,120,168,0,0,160,0,0,?,0,?,0\\n50,1,2,140,216,0,0,170,0,0,?,?,3,0\\n50,1,2,170,209,0,1,116,0,0,?,?,?,0\\n50,1,4,140,129,0,0,135,0,0,?,?,?,0\\n50,1,4,150,215,0,0,140,1,0,?,?,?,0\\n51,0,2,160,194,0,0,170,0,0,?,?,?,0\\n51,0,3,110,190,0,0,120,0,0,?,?,?,0\\n51,0,3,130,220,0,0,160,1,2,1,?,?,0\\n51,0,3,150,200,0,0,120,0,0.5,1,?,?,0\\n51,1,2,125,188,0,0,145,0,0,?,?,?,0\\n51,1,2,130,224,0,0,150,0,0,?,?,?,0\\n51,1,4,130,179,0,0,100,0,0,?,?,7,0\\n52,0,2,120,210,0,0,148,0,0,?,?,?,0\\n52,0,2,140,?,0,0,140,0,0,?,?,?,0\\n52,0,3,125,272,0,0,139,0,0,?,?,?,0\\n52,0,4,130,180,0,0,140,1,1.5,2,?,?,0\\n52,1,2,120,284,0,0,118,0,0,?,?,?,0\\n52,1,2,140,100,0,0,138,1,0,?,?,?,0\\n52,1,2,160,196,0,0,165,0,0,?,?,?,0\\n52,1,3,140,259,0,1,170,0,0,?,?,?,0\\n53,0,2,113,468,?,0,127,0,0,?,?,?,0\\n53,0,2,140,216,0,0,142,1,2,2,?,?,0\\n53,0,3,120,274,0,0,130,0,0,?,?,?,0\\n53,1,2,120,?,0,0,132,0,0,?,?,?,0\\n53,1,2,140,320,0,0,162,0,0,?,?,?,0\\n53,1,3,120,195,0,0,140,0,0,?,?,?,0\\n53,1,4,124,260,0,1,112,1,3,2,?,?,0\\n53,1,4,130,182,0,0,148,0,0,?,?,?,0\\n53,1,4,140,243,0,0,155,0,0,?,?,?,0\\n54,0,2,120,221,0,0,138,0,1,1,?,?,0\\n54,0,2,120,230,1,0,140,0,0,?,?,?,0\\n54,0,2,120,273,0,0,150,0,1.5,2,?,?,0\\n54,0,2,130,253,0,1,155,0,0,?,?,?,0\\n54,0,2,140,309,?,1,140,0,0,?,?,?,0\\n54,0,2,150,230,0,0,130,0,0,?,?,?,0\\n54,0,2,160,312,0,0,130,0,0,?,?,?,0\\n54,1,1,120,171,0,0,137,0,2,1,?,?,0\\n54,1,2,110,208,0,0,142,0,0,?,?,?,0\\n54,1,2,120,238,0,0,154,0,0,?,?,?,0\\n54,1,2,120,246,0,0,110,0,0,?,?,?,0\\n54,1,2,160,195,0,1,130,0,1,1,?,?,0\\n54,1,2,160,305,0,0,175,0,0,?,?,?,0\\n54,1,3,120,217,0,0,137,0,0,?,?,?,0\\n54,1,3,150,?,0,0,122,0,0,?,?,?,0\\n54,1,4,150,365,0,1,134,0,1,1,?,?,0\\n55,0,2,110,344,0,1,160,0,0,?,?,?,0\\n55,0,2,122,320,0,0,155,0,0,?,?,?,0\\n55,0,2,130,394,0,2,150,0,0,?,?,?,0\\n55,1,2,120,256,1,0,137,0,0,?,?,7,0\\n55,1,2,140,196,0,0,150,0,0,?,?,7,0\\n55,1,2,145,326,0,0,155,0,0,?,?,?,0\\n55,1,3,110,277,0,0,160,0,0,?,?,?,0\\n55,1,3,120,220,0,2,134,0,0,?,?,?,0\\n55,1,4,120,270,0,0,140,0,0,?,?,?,0\\n55,1,4,140,229,0,0,110,1,0.5,2,?,?,0\\n56,0,3,130,219,?,1,164,0,0,?,?,7,0\\n56,1,2,130,184,0,0,100,0,0,?,?,?,0\\n56,1,3,130,?,0,0,114,0,0,?,?,?,0\\n56,1,3,130,276,0,0,128,1,1,1,?,6,0\\n56,1,4,120,85,0,0,140,0,0,?,?,?,0\\n57,0,1,130,308,0,0,98,0,1,2,?,?,0\\n57,0,4,180,347,0,1,126,1,0.8,2,?,?,0\\n57,1,2,140,260,1,0,140,0,0,?,?,6,0\\n58,1,2,130,230,0,0,150,0,0,?,?,?,0\\n58,1,2,130,251,0,0,110,0,0,?,?,?,0\\n58,1,3,140,179,0,0,160,0,0,?,?,?,0\\n58,1,4,135,222,0,0,100,0,0,?,?,?,0\\n59,0,2,130,188,0,0,124,0,1,2,?,?,0\\n59,1,2,140,287,0,0,150,0,0,?,?,?,0\\n59,1,3,130,318,0,0,120,1,1,2,?,3,0\\n59,1,3,180,213,0,0,100,0,0,?,?,?,0\\n59,1,4,140,?,0,0,140,0,0,?,0,?,0\\n60,1,3,120,246,0,2,135,0,0,?,?,?,0\\n61,0,4,130,294,0,1,120,1,1,2,?,?,0\\n61,1,4,125,292,0,1,115,1,0,?,?,?,0\\n62,0,1,160,193,0,0,116,0,0,?,?,?,0\\n62,1,2,140,271,0,0,152,0,1,1,?,?,0\\n31,1,4,120,270,0,0,153,1,1.5,2,?,?,1\\n33,0,4,100,246,0,0,150,1,1,2,?,?,1\\n34,1,1,140,156,0,0,180,0,0,?,?,?,1\\n35,1,2,110,257,0,0,140,0,0,?,?,?,1\\n36,1,2,120,267,0,0,160,0,3,2,?,?,1\\n37,1,4,140,207,0,0,130,1,1.5,2,?,?,1\\n38,1,4,110,196,0,0,166,0,0,?,?,?,1\\n38,1,4,120,282,0,0,170,0,0,?,?,?,1\\n38,1,4,92,117,0,0,134,1,2.5,2,?,?,1\\n40,1,4,120,466,?,0,152,1,1,2,?,6,1\\n41,1,4,110,289,0,0,170,0,0,?,?,6,1\\n41,1,4,120,237,?,0,138,1,1,2,?,?,1\\n43,1,4,150,247,0,0,130,1,2,2,?,?,1\\n46,1,4,110,202,0,0,150,1,0,?,?,?,1\\n46,1,4,118,186,0,0,124,0,0,?,?,7,1\\n46,1,4,120,277,0,0,125,1,1,2,?,?,1\\n47,1,3,140,193,0,0,145,1,1,2,?,?,1\\n47,1,4,150,226,0,0,98,1,1.5,2,0,7,1\\n48,1,4,106,263,1,0,110,0,0,?,?,?,1\\n48,1,4,120,260,0,0,115,0,2,2,?,?,1\\n48,1,4,160,268,0,0,103,1,1,2,?,?,1\\n49,0,3,160,180,0,0,156,0,1,2,?,?,1\\n49,1,3,115,265,0,0,175,0,0,?,?,?,1\\n49,1,4,130,206,0,0,170,0,0,?,?,?,1\\n50,0,3,140,288,0,0,140,1,0,?,?,7,1\\n50,1,4,145,264,0,0,150,0,0,?,?,?,1\\n51,0,4,160,303,0,0,150,1,1,2,?,?,1\\n52,1,4,130,225,0,0,120,1,2,2,?,?,1\\n54,1,4,125,216,0,0,140,0,0,?,?,?,1\\n54,1,4,125,224,0,0,122,0,2,2,?,?,1\\n55,1,4,140,201,0,0,130,1,3,2,?,?,1\\n57,1,2,140,265,0,1,145,1,1,2,?,?,1\\n58,1,3,130,213,0,1,140,0,0,?,?,6,1\\n59,0,4,130,338,1,1,130,1,1.5,2,?,?,1\\n60,1,4,100,248,0,0,125,0,1,2,?,?,1\\n63,1,4,150,223,0,0,115,0,0,?,?,?,1\\n65,1,4,140,306,1,0,87,1,1.5,2,?,?,1\\n32,1,4,118,529,0,0,130,0,0,?,?,?,1\\n38,1,4,110,?,0,0,150,1,1,2,?,?,1\\n39,1,4,110,280,0,0,150,0,0,?,?,6,1\\n40,0,4,150,392,0,0,130,0,2,2,?,6,1\\n43,1,1,120,291,0,1,155,0,0,?,?,?,1\\n45,1,4,130,219,0,1,130,1,1,2,?,?,1\\n46,1,4,120,231,0,0,115,1,0,?,?,?,1\\n46,1,4,130,222,0,0,112,0,0,?,?,?,1\\n48,1,4,122,275,1,1,150,1,2,3,?,?,1\\n48,1,4,160,193,0,0,102,1,3,2,?,?,1\\n48,1,4,160,329,0,0,92,1,1.5,2,?,?,1\\n48,1,4,160,355,0,0,99,1,2,2,?,?,1\\n50,1,4,130,233,0,0,121,1,2,2,?,7,1\\n52,1,4,120,182,0,0,150,0,0,?,?,?,1\\n52,1,4,170,?,0,0,126,1,1.5,2,?,?,1\\n53,1,4,120,246,0,0,116,1,0,?,?,?,1\\n54,1,3,120,237,0,0,150,1,1.5,?,?,7,1\\n54,1,4,130,242,0,0,91,1,1,2,?,?,1\\n54,1,4,130,603,1,0,125,1,1,2,?,?,1\\n54,1,4,140,?,0,0,118,1,0,?,?,?,1\\n54,1,4,200,198,0,0,142,1,2,2,?,?,1\\n55,1,4,140,268,0,0,128,1,1.5,2,?,?,1\\n56,1,4,150,213,1,0,125,1,1,2,?,?,1\\n57,1,4,150,255,0,0,92,1,3,2,?,?,1\\n58,1,3,160,211,1,1,92,0,0,?,?,?,1\\n58,1,4,130,263,0,0,140,1,2,2,?,?,1\\n41,1,4,130,172,0,1,130,0,2,2,?,?,1\\n43,1,4,120,175,0,0,120,1,1,2,?,7,1\\n44,1,2,150,288,0,0,150,1,3,2,?,?,1\\n44,1,4,130,290,0,0,100,1,2,2,?,?,1\\n46,1,1,140,272,1,0,175,0,2,2,?,?,1\\n47,0,3,135,248,1,0,170,0,0,?,?,?,1\\n48,0,4,138,214,0,0,108,1,1.5,2,?,?,1\\n49,1,4,130,341,0,0,120,1,1,2,?,?,1\\n49,1,4,140,234,0,0,140,1,1,2,?,?,1\\n51,1,3,135,160,0,0,150,0,2,2,?,?,1\\n52,1,4,112,342,0,1,96,1,1,2,?,?,1\\n52,1,4,130,298,0,0,110,1,1,2,?,?,1\\n52,1,4,140,404,0,0,124,1,2,2,?,?,1\\n52,1,4,160,246,0,1,82,1,4,2,?,?,1\\n53,1,3,145,518,0,0,130,0,0,?,?,?,1\\n53,1,4,180,285,0,1,120,1,1.5,2,?,?,1\\n54,1,4,140,216,0,0,105,0,1.5,2,?,?,1\\n55,1,1,140,295,0,?,136,0,0,?,?,?,1\\n55,1,2,160,292,1,0,143,1,2,2,?,?,1\\n55,1,4,145,248,0,0,96,1,2,2,?,?,1\\n56,0,2,120,279,0,0,150,0,1,2,?,?,1\\n56,1,4,150,230,0,1,124,1,1.5,2,?,?,1\\n56,1,4,170,388,0,1,122,1,2,2,?,?,1\\n58,1,2,136,164,0,1,99,1,2,2,?,?,1\\n59,1,4,130,?,0,0,125,0,0,?,?,?,1\\n59,1,4,140,264,1,2,119,1,0,?,?,?,1\\n65,1,4,170,263,1,0,112,1,2,2,?,?,1\\n66,1,4,140,?,0,0,94,1,1,2,?,?,1\\n41,1,4,120,336,0,0,118,1,3,2,?,?,1\\n43,1,4,140,288,0,0,135,1,2,2,?,?,1\\n44,1,4,135,491,0,0,135,0,0,?,?,?,1\\n47,0,4,120,205,0,0,98,1,2,2,?,6,1\\n47,1,4,160,291,0,1,158,1,3,2,?,?,1\\n49,1,4,128,212,0,0,96,1,0,?,?,?,1\\n49,1,4,150,222,0,0,122,0,2,2,?,?,1\\n50,1,4,140,231,0,1,140,1,5,2,?,?,1\\n50,1,4,140,341,0,1,125,1,2.5,2,?,?,1\\n52,1,4,140,266,0,0,134,1,2,2,?,?,1\\n52,1,4,160,331,0,0,94,1,2.5,?,?,?,1\\n54,0,3,130,294,0,1,100,1,0,2,?,?,1\\n56,1,4,155,342,1,0,150,1,3,2,?,?,1\\n58,0,2,180,393,0,0,110,1,1,2,?,7,1\\n65,1,4,130,275,0,1,115,1,1,2,?,?,1\\n'}"
            ]
          },
          "metadata": {},
          "execution_count": 13
        }
      ]
    },
    {
      "cell_type": "code",
      "source": [
        "!ls"
      ],
      "metadata": {
        "colab": {
          "base_uri": "https://localhost:8080/"
        },
        "id": "zIOrHtlbrSnI",
        "outputId": "fbc37ace-c7c5-48d8-9b0f-52d1ff476d60"
      },
      "execution_count": null,
      "outputs": [
        {
          "output_type": "stream",
          "name": "stdout",
          "text": [
            "abalone.data\t\t  processed.hungarian.data\n",
            "processed.cleveland.data  switzerland.data\n"
          ]
        }
      ]
    },
    {
      "cell_type": "code",
      "source": [
        "df = pd.read_csv('processed.hungarian.data', header=None, error_bad_lines=True)\n",
        "df.head()"
      ],
      "metadata": {
        "colab": {
          "base_uri": "https://localhost:8080/",
          "height": 295
        },
        "id": "mKZAI3k4rU6n",
        "outputId": "525d397f-c417-4dd4-9ff7-9090fc814234"
      },
      "execution_count": null,
      "outputs": [
        {
          "output_type": "stream",
          "name": "stderr",
          "text": [
            "/usr/local/lib/python3.7/dist-packages/IPython/core/interactiveshell.py:2882: FutureWarning: The error_bad_lines argument has been deprecated and will be removed in a future version.\n",
            "\n",
            "\n",
            "  exec(code_obj, self.user_global_ns, self.user_ns)\n"
          ]
        },
        {
          "output_type": "execute_result",
          "data": {
            "text/plain": [
              "   0   1   2    3    4  5  6    7  8    9  10 11 12  13\n",
              "0  28   1   2  130  132  0  2  185  0  0.0  ?  ?  ?   0\n",
              "1  29   1   2  120  243  0  0  160  0  0.0  ?  ?  ?   0\n",
              "2  29   1   2  140    ?  0  0  170  0  0.0  ?  ?  ?   0\n",
              "3  30   0   1  170  237  0  1  170  0  0.0  ?  ?  6   0\n",
              "4  31   0   2  100  219  0  1  150  0  0.0  ?  ?  ?   0"
            ],
            "text/html": [
              "\n",
              "  <div id=\"df-f49f53b0-29ed-4d3f-8eba-5ab4ff9b95f0\">\n",
              "    <div class=\"colab-df-container\">\n",
              "      <div>\n",
              "<style scoped>\n",
              "    .dataframe tbody tr th:only-of-type {\n",
              "        vertical-align: middle;\n",
              "    }\n",
              "\n",
              "    .dataframe tbody tr th {\n",
              "        vertical-align: top;\n",
              "    }\n",
              "\n",
              "    .dataframe thead th {\n",
              "        text-align: right;\n",
              "    }\n",
              "</style>\n",
              "<table border=\"1\" class=\"dataframe\">\n",
              "  <thead>\n",
              "    <tr style=\"text-align: right;\">\n",
              "      <th></th>\n",
              "      <th>0</th>\n",
              "      <th>1</th>\n",
              "      <th>2</th>\n",
              "      <th>3</th>\n",
              "      <th>4</th>\n",
              "      <th>5</th>\n",
              "      <th>6</th>\n",
              "      <th>7</th>\n",
              "      <th>8</th>\n",
              "      <th>9</th>\n",
              "      <th>10</th>\n",
              "      <th>11</th>\n",
              "      <th>12</th>\n",
              "      <th>13</th>\n",
              "    </tr>\n",
              "  </thead>\n",
              "  <tbody>\n",
              "    <tr>\n",
              "      <th>0</th>\n",
              "      <td>28</td>\n",
              "      <td>1</td>\n",
              "      <td>2</td>\n",
              "      <td>130</td>\n",
              "      <td>132</td>\n",
              "      <td>0</td>\n",
              "      <td>2</td>\n",
              "      <td>185</td>\n",
              "      <td>0</td>\n",
              "      <td>0.0</td>\n",
              "      <td>?</td>\n",
              "      <td>?</td>\n",
              "      <td>?</td>\n",
              "      <td>0</td>\n",
              "    </tr>\n",
              "    <tr>\n",
              "      <th>1</th>\n",
              "      <td>29</td>\n",
              "      <td>1</td>\n",
              "      <td>2</td>\n",
              "      <td>120</td>\n",
              "      <td>243</td>\n",
              "      <td>0</td>\n",
              "      <td>0</td>\n",
              "      <td>160</td>\n",
              "      <td>0</td>\n",
              "      <td>0.0</td>\n",
              "      <td>?</td>\n",
              "      <td>?</td>\n",
              "      <td>?</td>\n",
              "      <td>0</td>\n",
              "    </tr>\n",
              "    <tr>\n",
              "      <th>2</th>\n",
              "      <td>29</td>\n",
              "      <td>1</td>\n",
              "      <td>2</td>\n",
              "      <td>140</td>\n",
              "      <td>?</td>\n",
              "      <td>0</td>\n",
              "      <td>0</td>\n",
              "      <td>170</td>\n",
              "      <td>0</td>\n",
              "      <td>0.0</td>\n",
              "      <td>?</td>\n",
              "      <td>?</td>\n",
              "      <td>?</td>\n",
              "      <td>0</td>\n",
              "    </tr>\n",
              "    <tr>\n",
              "      <th>3</th>\n",
              "      <td>30</td>\n",
              "      <td>0</td>\n",
              "      <td>1</td>\n",
              "      <td>170</td>\n",
              "      <td>237</td>\n",
              "      <td>0</td>\n",
              "      <td>1</td>\n",
              "      <td>170</td>\n",
              "      <td>0</td>\n",
              "      <td>0.0</td>\n",
              "      <td>?</td>\n",
              "      <td>?</td>\n",
              "      <td>6</td>\n",
              "      <td>0</td>\n",
              "    </tr>\n",
              "    <tr>\n",
              "      <th>4</th>\n",
              "      <td>31</td>\n",
              "      <td>0</td>\n",
              "      <td>2</td>\n",
              "      <td>100</td>\n",
              "      <td>219</td>\n",
              "      <td>0</td>\n",
              "      <td>1</td>\n",
              "      <td>150</td>\n",
              "      <td>0</td>\n",
              "      <td>0.0</td>\n",
              "      <td>?</td>\n",
              "      <td>?</td>\n",
              "      <td>?</td>\n",
              "      <td>0</td>\n",
              "    </tr>\n",
              "  </tbody>\n",
              "</table>\n",
              "</div>\n",
              "      <button class=\"colab-df-convert\" onclick=\"convertToInteractive('df-f49f53b0-29ed-4d3f-8eba-5ab4ff9b95f0')\"\n",
              "              title=\"Convert this dataframe to an interactive table.\"\n",
              "              style=\"display:none;\">\n",
              "        \n",
              "  <svg xmlns=\"http://www.w3.org/2000/svg\" height=\"24px\"viewBox=\"0 0 24 24\"\n",
              "       width=\"24px\">\n",
              "    <path d=\"M0 0h24v24H0V0z\" fill=\"none\"/>\n",
              "    <path d=\"M18.56 5.44l.94 2.06.94-2.06 2.06-.94-2.06-.94-.94-2.06-.94 2.06-2.06.94zm-11 1L8.5 8.5l.94-2.06 2.06-.94-2.06-.94L8.5 2.5l-.94 2.06-2.06.94zm10 10l.94 2.06.94-2.06 2.06-.94-2.06-.94-.94-2.06-.94 2.06-2.06.94z\"/><path d=\"M17.41 7.96l-1.37-1.37c-.4-.4-.92-.59-1.43-.59-.52 0-1.04.2-1.43.59L10.3 9.45l-7.72 7.72c-.78.78-.78 2.05 0 2.83L4 21.41c.39.39.9.59 1.41.59.51 0 1.02-.2 1.41-.59l7.78-7.78 2.81-2.81c.8-.78.8-2.07 0-2.86zM5.41 20L4 18.59l7.72-7.72 1.47 1.35L5.41 20z\"/>\n",
              "  </svg>\n",
              "      </button>\n",
              "      \n",
              "  <style>\n",
              "    .colab-df-container {\n",
              "      display:flex;\n",
              "      flex-wrap:wrap;\n",
              "      gap: 12px;\n",
              "    }\n",
              "\n",
              "    .colab-df-convert {\n",
              "      background-color: #E8F0FE;\n",
              "      border: none;\n",
              "      border-radius: 50%;\n",
              "      cursor: pointer;\n",
              "      display: none;\n",
              "      fill: #1967D2;\n",
              "      height: 32px;\n",
              "      padding: 0 0 0 0;\n",
              "      width: 32px;\n",
              "    }\n",
              "\n",
              "    .colab-df-convert:hover {\n",
              "      background-color: #E2EBFA;\n",
              "      box-shadow: 0px 1px 2px rgba(60, 64, 67, 0.3), 0px 1px 3px 1px rgba(60, 64, 67, 0.15);\n",
              "      fill: #174EA6;\n",
              "    }\n",
              "\n",
              "    [theme=dark] .colab-df-convert {\n",
              "      background-color: #3B4455;\n",
              "      fill: #D2E3FC;\n",
              "    }\n",
              "\n",
              "    [theme=dark] .colab-df-convert:hover {\n",
              "      background-color: #434B5C;\n",
              "      box-shadow: 0px 1px 3px 1px rgba(0, 0, 0, 0.15);\n",
              "      filter: drop-shadow(0px 1px 2px rgba(0, 0, 0, 0.3));\n",
              "      fill: #FFFFFF;\n",
              "    }\n",
              "  </style>\n",
              "\n",
              "      <script>\n",
              "        const buttonEl =\n",
              "          document.querySelector('#df-f49f53b0-29ed-4d3f-8eba-5ab4ff9b95f0 button.colab-df-convert');\n",
              "        buttonEl.style.display =\n",
              "          google.colab.kernel.accessAllowed ? 'block' : 'none';\n",
              "\n",
              "        async function convertToInteractive(key) {\n",
              "          const element = document.querySelector('#df-f49f53b0-29ed-4d3f-8eba-5ab4ff9b95f0');\n",
              "          const dataTable =\n",
              "            await google.colab.kernel.invokeFunction('convertToInteractive',\n",
              "                                                     [key], {});\n",
              "          if (!dataTable) return;\n",
              "\n",
              "          const docLinkHtml = 'Like what you see? Visit the ' +\n",
              "            '<a target=\"_blank\" href=https://colab.research.google.com/notebooks/data_table.ipynb>data table notebook</a>'\n",
              "            + ' to learn more about interactive tables.';\n",
              "          element.innerHTML = '';\n",
              "          dataTable['output_type'] = 'display_data';\n",
              "          await google.colab.output.renderOutput(dataTable, element);\n",
              "          const docLink = document.createElement('div');\n",
              "          docLink.innerHTML = docLinkHtml;\n",
              "          element.appendChild(docLink);\n",
              "        }\n",
              "      </script>\n",
              "    </div>\n",
              "  </div>\n",
              "  "
            ]
          },
          "metadata": {},
          "execution_count": 19
        }
      ]
    },
    {
      "cell_type": "markdown",
      "source": [
        "# Utilily use"
      ],
      "metadata": {
        "id": "SwrL1vyj6FVk"
      }
    },
    {
      "cell_type": "code",
      "source": [
        "from google.colab import files\n",
        "\n",
        "uploaded = files.upload()"
      ],
      "metadata": {
        "colab": {
          "resources": {
            "http://localhost:8080/nbextensions/google.colab/files.js": {
              "data": "Ly8gQ29weXJpZ2h0IDIwMTcgR29vZ2xlIExMQwovLwovLyBMaWNlbnNlZCB1bmRlciB0aGUgQXBhY2hlIExpY2Vuc2UsIFZlcnNpb24gMi4wICh0aGUgIkxpY2Vuc2UiKTsKLy8geW91IG1heSBub3QgdXNlIHRoaXMgZmlsZSBleGNlcHQgaW4gY29tcGxpYW5jZSB3aXRoIHRoZSBMaWNlbnNlLgovLyBZb3UgbWF5IG9idGFpbiBhIGNvcHkgb2YgdGhlIExpY2Vuc2UgYXQKLy8KLy8gICAgICBodHRwOi8vd3d3LmFwYWNoZS5vcmcvbGljZW5zZXMvTElDRU5TRS0yLjAKLy8KLy8gVW5sZXNzIHJlcXVpcmVkIGJ5IGFwcGxpY2FibGUgbGF3IG9yIGFncmVlZCB0byBpbiB3cml0aW5nLCBzb2Z0d2FyZQovLyBkaXN0cmlidXRlZCB1bmRlciB0aGUgTGljZW5zZSBpcyBkaXN0cmlidXRlZCBvbiBhbiAiQVMgSVMiIEJBU0lTLAovLyBXSVRIT1VUIFdBUlJBTlRJRVMgT1IgQ09ORElUSU9OUyBPRiBBTlkgS0lORCwgZWl0aGVyIGV4cHJlc3Mgb3IgaW1wbGllZC4KLy8gU2VlIHRoZSBMaWNlbnNlIGZvciB0aGUgc3BlY2lmaWMgbGFuZ3VhZ2UgZ292ZXJuaW5nIHBlcm1pc3Npb25zIGFuZAovLyBsaW1pdGF0aW9ucyB1bmRlciB0aGUgTGljZW5zZS4KCi8qKgogKiBAZmlsZW92ZXJ2aWV3IEhlbHBlcnMgZm9yIGdvb2dsZS5jb2xhYiBQeXRob24gbW9kdWxlLgogKi8KKGZ1bmN0aW9uKHNjb3BlKSB7CmZ1bmN0aW9uIHNwYW4odGV4dCwgc3R5bGVBdHRyaWJ1dGVzID0ge30pIHsKICBjb25zdCBlbGVtZW50ID0gZG9jdW1lbnQuY3JlYXRlRWxlbWVudCgnc3BhbicpOwogIGVsZW1lbnQudGV4dENvbnRlbnQgPSB0ZXh0OwogIGZvciAoY29uc3Qga2V5IG9mIE9iamVjdC5rZXlzKHN0eWxlQXR0cmlidXRlcykpIHsKICAgIGVsZW1lbnQuc3R5bGVba2V5XSA9IHN0eWxlQXR0cmlidXRlc1trZXldOwogIH0KICByZXR1cm4gZWxlbWVudDsKfQoKLy8gTWF4IG51bWJlciBvZiBieXRlcyB3aGljaCB3aWxsIGJlIHVwbG9hZGVkIGF0IGEgdGltZS4KY29uc3QgTUFYX1BBWUxPQURfU0laRSA9IDEwMCAqIDEwMjQ7CgpmdW5jdGlvbiBfdXBsb2FkRmlsZXMoaW5wdXRJZCwgb3V0cHV0SWQpIHsKICBjb25zdCBzdGVwcyA9IHVwbG9hZEZpbGVzU3RlcChpbnB1dElkLCBvdXRwdXRJZCk7CiAgY29uc3Qgb3V0cHV0RWxlbWVudCA9IGRvY3VtZW50LmdldEVsZW1lbnRCeUlkKG91dHB1dElkKTsKICAvLyBDYWNoZSBzdGVwcyBvbiB0aGUgb3V0cHV0RWxlbWVudCB0byBtYWtlIGl0IGF2YWlsYWJsZSBmb3IgdGhlIG5leHQgY2FsbAogIC8vIHRvIHVwbG9hZEZpbGVzQ29udGludWUgZnJvbSBQeXRob24uCiAgb3V0cHV0RWxlbWVudC5zdGVwcyA9IHN0ZXBzOwoKICByZXR1cm4gX3VwbG9hZEZpbGVzQ29udGludWUob3V0cHV0SWQpOwp9CgovLyBUaGlzIGlzIHJvdWdobHkgYW4gYXN5bmMgZ2VuZXJhdG9yIChub3Qgc3VwcG9ydGVkIGluIHRoZSBicm93c2VyIHlldCksCi8vIHdoZXJlIHRoZXJlIGFyZSBtdWx0aXBsZSBhc3luY2hyb25vdXMgc3RlcHMgYW5kIHRoZSBQeXRob24gc2lkZSBpcyBnb2luZwovLyB0byBwb2xsIGZvciBjb21wbGV0aW9uIG9mIGVhY2ggc3RlcC4KLy8gVGhpcyB1c2VzIGEgUHJvbWlzZSB0byBibG9jayB0aGUgcHl0aG9uIHNpZGUgb24gY29tcGxldGlvbiBvZiBlYWNoIHN0ZXAsCi8vIHRoZW4gcGFzc2VzIHRoZSByZXN1bHQgb2YgdGhlIHByZXZpb3VzIHN0ZXAgYXMgdGhlIGlucHV0IHRvIHRoZSBuZXh0IHN0ZXAuCmZ1bmN0aW9uIF91cGxvYWRGaWxlc0NvbnRpbnVlKG91dHB1dElkKSB7CiAgY29uc3Qgb3V0cHV0RWxlbWVudCA9IGRvY3VtZW50LmdldEVsZW1lbnRCeUlkKG91dHB1dElkKTsKICBjb25zdCBzdGVwcyA9IG91dHB1dEVsZW1lbnQuc3RlcHM7CgogIGNvbnN0IG5leHQgPSBzdGVwcy5uZXh0KG91dHB1dEVsZW1lbnQubGFzdFByb21pc2VWYWx1ZSk7CiAgcmV0dXJuIFByb21pc2UucmVzb2x2ZShuZXh0LnZhbHVlLnByb21pc2UpLnRoZW4oKHZhbHVlKSA9PiB7CiAgICAvLyBDYWNoZSB0aGUgbGFzdCBwcm9taXNlIHZhbHVlIHRvIG1ha2UgaXQgYXZhaWxhYmxlIHRvIHRoZSBuZXh0CiAgICAvLyBzdGVwIG9mIHRoZSBnZW5lcmF0b3IuCiAgICBvdXRwdXRFbGVtZW50Lmxhc3RQcm9taXNlVmFsdWUgPSB2YWx1ZTsKICAgIHJldHVybiBuZXh0LnZhbHVlLnJlc3BvbnNlOwogIH0pOwp9CgovKioKICogR2VuZXJhdG9yIGZ1bmN0aW9uIHdoaWNoIGlzIGNhbGxlZCBiZXR3ZWVuIGVhY2ggYXN5bmMgc3RlcCBvZiB0aGUgdXBsb2FkCiAqIHByb2Nlc3MuCiAqIEBwYXJhbSB7c3RyaW5nfSBpbnB1dElkIEVsZW1lbnQgSUQgb2YgdGhlIGlucHV0IGZpbGUgcGlja2VyIGVsZW1lbnQuCiAqIEBwYXJhbSB7c3RyaW5nfSBvdXRwdXRJZCBFbGVtZW50IElEIG9mIHRoZSBvdXRwdXQgZGlzcGxheS4KICogQHJldHVybiB7IUl0ZXJhYmxlPCFPYmplY3Q+fSBJdGVyYWJsZSBvZiBuZXh0IHN0ZXBzLgogKi8KZnVuY3Rpb24qIHVwbG9hZEZpbGVzU3RlcChpbnB1dElkLCBvdXRwdXRJZCkgewogIGNvbnN0IGlucHV0RWxlbWVudCA9IGRvY3VtZW50LmdldEVsZW1lbnRCeUlkKGlucHV0SWQpOwogIGlucHV0RWxlbWVudC5kaXNhYmxlZCA9IGZhbHNlOwoKICBjb25zdCBvdXRwdXRFbGVtZW50ID0gZG9jdW1lbnQuZ2V0RWxlbWVudEJ5SWQob3V0cHV0SWQpOwogIG91dHB1dEVsZW1lbnQuaW5uZXJIVE1MID0gJyc7CgogIGNvbnN0IHBpY2tlZFByb21pc2UgPSBuZXcgUHJvbWlzZSgocmVzb2x2ZSkgPT4gewogICAgaW5wdXRFbGVtZW50LmFkZEV2ZW50TGlzdGVuZXIoJ2NoYW5nZScsIChlKSA9PiB7CiAgICAgIHJlc29sdmUoZS50YXJnZXQuZmlsZXMpOwogICAgfSk7CiAgfSk7CgogIGNvbnN0IGNhbmNlbCA9IGRvY3VtZW50LmNyZWF0ZUVsZW1lbnQoJ2J1dHRvbicpOwogIGlucHV0RWxlbWVudC5wYXJlbnRFbGVtZW50LmFwcGVuZENoaWxkKGNhbmNlbCk7CiAgY2FuY2VsLnRleHRDb250ZW50ID0gJ0NhbmNlbCB1cGxvYWQnOwogIGNvbnN0IGNhbmNlbFByb21pc2UgPSBuZXcgUHJvbWlzZSgocmVzb2x2ZSkgPT4gewogICAgY2FuY2VsLm9uY2xpY2sgPSAoKSA9PiB7CiAgICAgIHJlc29sdmUobnVsbCk7CiAgICB9OwogIH0pOwoKICAvLyBXYWl0IGZvciB0aGUgdXNlciB0byBwaWNrIHRoZSBmaWxlcy4KICBjb25zdCBmaWxlcyA9IHlpZWxkIHsKICAgIHByb21pc2U6IFByb21pc2UucmFjZShbcGlja2VkUHJvbWlzZSwgY2FuY2VsUHJvbWlzZV0pLAogICAgcmVzcG9uc2U6IHsKICAgICAgYWN0aW9uOiAnc3RhcnRpbmcnLAogICAgfQogIH07CgogIGNhbmNlbC5yZW1vdmUoKTsKCiAgLy8gRGlzYWJsZSB0aGUgaW5wdXQgZWxlbWVudCBzaW5jZSBmdXJ0aGVyIHBpY2tzIGFyZSBub3QgYWxsb3dlZC4KICBpbnB1dEVsZW1lbnQuZGlzYWJsZWQgPSB0cnVlOwoKICBpZiAoIWZpbGVzKSB7CiAgICByZXR1cm4gewogICAgICByZXNwb25zZTogewogICAgICAgIGFjdGlvbjogJ2NvbXBsZXRlJywKICAgICAgfQogICAgfTsKICB9CgogIGZvciAoY29uc3QgZmlsZSBvZiBmaWxlcykgewogICAgY29uc3QgbGkgPSBkb2N1bWVudC5jcmVhdGVFbGVtZW50KCdsaScpOwogICAgbGkuYXBwZW5kKHNwYW4oZmlsZS5uYW1lLCB7Zm9udFdlaWdodDogJ2JvbGQnfSkpOwogICAgbGkuYXBwZW5kKHNwYW4oCiAgICAgICAgYCgke2ZpbGUudHlwZSB8fCAnbi9hJ30pIC0gJHtmaWxlLnNpemV9IGJ5dGVzLCBgICsKICAgICAgICBgbGFzdCBtb2RpZmllZDogJHsKICAgICAgICAgICAgZmlsZS5sYXN0TW9kaWZpZWREYXRlID8gZmlsZS5sYXN0TW9kaWZpZWREYXRlLnRvTG9jYWxlRGF0ZVN0cmluZygpIDoKICAgICAgICAgICAgICAgICAgICAgICAgICAgICAgICAgICAgJ24vYSd9IC0gYCkpOwogICAgY29uc3QgcGVyY2VudCA9IHNwYW4oJzAlIGRvbmUnKTsKICAgIGxpLmFwcGVuZENoaWxkKHBlcmNlbnQpOwoKICAgIG91dHB1dEVsZW1lbnQuYXBwZW5kQ2hpbGQobGkpOwoKICAgIGNvbnN0IGZpbGVEYXRhUHJvbWlzZSA9IG5ldyBQcm9taXNlKChyZXNvbHZlKSA9PiB7CiAgICAgIGNvbnN0IHJlYWRlciA9IG5ldyBGaWxlUmVhZGVyKCk7CiAgICAgIHJlYWRlci5vbmxvYWQgPSAoZSkgPT4gewogICAgICAgIHJlc29sdmUoZS50YXJnZXQucmVzdWx0KTsKICAgICAgfTsKICAgICAgcmVhZGVyLnJlYWRBc0FycmF5QnVmZmVyKGZpbGUpOwogICAgfSk7CiAgICAvLyBXYWl0IGZvciB0aGUgZGF0YSB0byBiZSByZWFkeS4KICAgIGxldCBmaWxlRGF0YSA9IHlpZWxkIHsKICAgICAgcHJvbWlzZTogZmlsZURhdGFQcm9taXNlLAogICAgICByZXNwb25zZTogewogICAgICAgIGFjdGlvbjogJ2NvbnRpbnVlJywKICAgICAgfQogICAgfTsKCiAgICAvLyBVc2UgYSBjaHVua2VkIHNlbmRpbmcgdG8gYXZvaWQgbWVzc2FnZSBzaXplIGxpbWl0cy4gU2VlIGIvNjIxMTU2NjAuCiAgICBsZXQgcG9zaXRpb24gPSAwOwogICAgZG8gewogICAgICBjb25zdCBsZW5ndGggPSBNYXRoLm1pbihmaWxlRGF0YS5ieXRlTGVuZ3RoIC0gcG9zaXRpb24sIE1BWF9QQVlMT0FEX1NJWkUpOwogICAgICBjb25zdCBjaHVuayA9IG5ldyBVaW50OEFycmF5KGZpbGVEYXRhLCBwb3NpdGlvbiwgbGVuZ3RoKTsKICAgICAgcG9zaXRpb24gKz0gbGVuZ3RoOwoKICAgICAgY29uc3QgYmFzZTY0ID0gYnRvYShTdHJpbmcuZnJvbUNoYXJDb2RlLmFwcGx5KG51bGwsIGNodW5rKSk7CiAgICAgIHlpZWxkIHsKICAgICAgICByZXNwb25zZTogewogICAgICAgICAgYWN0aW9uOiAnYXBwZW5kJywKICAgICAgICAgIGZpbGU6IGZpbGUubmFtZSwKICAgICAgICAgIGRhdGE6IGJhc2U2NCwKICAgICAgICB9LAogICAgICB9OwoKICAgICAgbGV0IHBlcmNlbnREb25lID0gZmlsZURhdGEuYnl0ZUxlbmd0aCA9PT0gMCA/CiAgICAgICAgICAxMDAgOgogICAgICAgICAgTWF0aC5yb3VuZCgocG9zaXRpb24gLyBmaWxlRGF0YS5ieXRlTGVuZ3RoKSAqIDEwMCk7CiAgICAgIHBlcmNlbnQudGV4dENvbnRlbnQgPSBgJHtwZXJjZW50RG9uZX0lIGRvbmVgOwoKICAgIH0gd2hpbGUgKHBvc2l0aW9uIDwgZmlsZURhdGEuYnl0ZUxlbmd0aCk7CiAgfQoKICAvLyBBbGwgZG9uZS4KICB5aWVsZCB7CiAgICByZXNwb25zZTogewogICAgICBhY3Rpb246ICdjb21wbGV0ZScsCiAgICB9CiAgfTsKfQoKc2NvcGUuZ29vZ2xlID0gc2NvcGUuZ29vZ2xlIHx8IHt9OwpzY29wZS5nb29nbGUuY29sYWIgPSBzY29wZS5nb29nbGUuY29sYWIgfHwge307CnNjb3BlLmdvb2dsZS5jb2xhYi5fZmlsZXMgPSB7CiAgX3VwbG9hZEZpbGVzLAogIF91cGxvYWRGaWxlc0NvbnRpbnVlLAp9Owp9KShzZWxmKTsK",
              "ok": true,
              "headers": [
                [
                  "content-type",
                  "application/javascript"
                ]
              ],
              "status": 200,
              "status_text": ""
            }
          },
          "base_uri": "https://localhost:8080/",
          "height": 73
        },
        "id": "eo4bYumu6Odz",
        "outputId": "e98ad697-e33c-41e8-a628-1c9e1f275f7f"
      },
      "execution_count": null,
      "outputs": [
        {
          "output_type": "display_data",
          "data": {
            "text/plain": [
              "<IPython.core.display.HTML object>"
            ],
            "text/html": [
              "\n",
              "     <input type=\"file\" id=\"files-62c23983-04f8-4196-8ed7-e818b995d17c\" name=\"files[]\" multiple disabled\n",
              "        style=\"border:none\" />\n",
              "     <output id=\"result-62c23983-04f8-4196-8ed7-e818b995d17c\">\n",
              "      Upload widget is only available when the cell has been executed in the\n",
              "      current browser session. Please rerun this cell to enable.\n",
              "      </output>\n",
              "      <script src=\"/nbextensions/google.colab/files.js\"></script> "
            ]
          },
          "metadata": {}
        },
        {
          "output_type": "stream",
          "name": "stdout",
          "text": [
            "Saving fake_utill.py to fake_utill.py\n"
          ]
        }
      ]
    },
    {
      "cell_type": "code",
      "source": [
        "from fake_utill import fake_utill\n",
        "\n",
        "fake_utill()"
      ],
      "metadata": {
        "colab": {
          "base_uri": "https://localhost:8080/"
        },
        "id": "_mvuPPeI6jap",
        "outputId": "88f0cdb1-19a9-4a63-da1d-d7657836c9ea"
      },
      "execution_count": null,
      "outputs": [
        {
          "output_type": "stream",
          "name": "stdout",
          "text": [
            "Hello M!\n"
          ]
        }
      ]
    },
    {
      "cell_type": "code",
      "source": [
        "!pwd"
      ],
      "metadata": {
        "colab": {
          "base_uri": "https://localhost:8080/"
        },
        "id": "L_Qf1Guf6v1d",
        "outputId": "223b1097-9e93-4340-c6de-786ef16105d6"
      },
      "execution_count": null,
      "outputs": [
        {
          "output_type": "stream",
          "name": "stdout",
          "text": [
            "/content\n"
          ]
        }
      ]
    }
  ]
}